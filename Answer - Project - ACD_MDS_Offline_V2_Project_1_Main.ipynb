{
 "cells": [
  {
   "cell_type": "markdown",
   "metadata": {},
   "source": [
    "### Predicting players rating\n"
   ]
  },
  {
   "cell_type": "markdown",
   "metadata": {},
   "source": [
    "In this project you are going to predict the overall rating of soccer player based on their attributes such as 'crossing', 'finishing etc. The dataset you are going to use is from European Soccer Database (https://www.kaggle.com/hugomathien/soccer) has more than 25,000 matches and more than 10,000 players for European professional soccer seasons from 2008 to 2016. Download the data in the same folder and run the following commmand to get it in the environment"
   ]
  },
  {
   "cell_type": "markdown",
   "metadata": {},
   "source": [
    "\n",
    "### About the Dataset"
   ]
  },
  {
   "cell_type": "markdown",
   "metadata": {},
   "source": [
    "The ultimate Soccer database for data analysis and machine learning The dataset comes in the form of an SQL database and contains statistics of about 25,000 football matches, from the top football league of 11 European Countries. It covers seasons from 2008 to 2016 and contains match statistics (i.e: scores, corners, fouls etc...) as well as the team formations, with player names and a pair of coordinates to indicate their position on the pitch. +25,000 matches +10,000 players 11 European Countries with their lead championship Seasons 2008 to 2016 Players and Teams' attributes* sourced from EA Sports' FIFA video game series, including the weekly updates Team line up with squad formation (X, Y coordinates) Betting odds from up to 10 providers Detailed match events (goal types, possession, corner, cross, fouls, cards etc...) for +10,000 matches The dataset also has a set of about 35 statistics for each player, derived from EA Sports' FIFA video games. It is not just the stats that come with a new version of the game but also the weekly updates. So for instance if a player has performed poorly over a period of time and his stats get impacted in FIFA, you would normally see the same in the dataset."
   ]
  },
  {
   "cell_type": "code",
   "execution_count": 14,
   "metadata": {},
   "outputs": [],
   "source": [
    "import sqlite3\n",
    "import pandas as pd\n",
    "import numpy as np\n",
    "import matplotlib.pyplot as plt\n",
    "import seaborn as sns\n",
    "from sklearn.linear_model import LinearRegression\n",
    "from sklearn.model_selection import train_test_split, cross_val_score\n",
    "from sklearn.metrics import roc_auc_score, accuracy_score\n",
    "import datetime as dt\n",
    "import math as math\n",
    "import scipy.stats as stats\n",
    "import statsmodels.api as sm"
   ]
  },
  {
   "cell_type": "code",
   "execution_count": 26,
   "metadata": {},
   "outputs": [],
   "source": [
    "conn = sqlite3.connect('database.sqlite')\n",
    "#cursor = conn.cursor()"
   ]
  },
  {
   "cell_type": "code",
   "execution_count": 27,
   "metadata": {},
   "outputs": [
    {
     "data": {
      "text/html": [
       "<div>\n",
       "<style scoped>\n",
       "    .dataframe tbody tr th:only-of-type {\n",
       "        vertical-align: middle;\n",
       "    }\n",
       "\n",
       "    .dataframe tbody tr th {\n",
       "        vertical-align: top;\n",
       "    }\n",
       "\n",
       "    .dataframe thead th {\n",
       "        text-align: right;\n",
       "    }\n",
       "</style>\n",
       "<table border=\"1\" class=\"dataframe\">\n",
       "  <thead>\n",
       "    <tr style=\"text-align: right;\">\n",
       "      <th></th>\n",
       "      <th>id</th>\n",
       "      <th>player_fifa_api_id</th>\n",
       "      <th>player_api_id</th>\n",
       "      <th>date</th>\n",
       "      <th>overall_rating</th>\n",
       "      <th>potential</th>\n",
       "      <th>preferred_foot</th>\n",
       "      <th>attacking_work_rate</th>\n",
       "      <th>defensive_work_rate</th>\n",
       "      <th>crossing</th>\n",
       "      <th>...</th>\n",
       "      <th>vision</th>\n",
       "      <th>penalties</th>\n",
       "      <th>marking</th>\n",
       "      <th>standing_tackle</th>\n",
       "      <th>sliding_tackle</th>\n",
       "      <th>gk_diving</th>\n",
       "      <th>gk_handling</th>\n",
       "      <th>gk_kicking</th>\n",
       "      <th>gk_positioning</th>\n",
       "      <th>gk_reflexes</th>\n",
       "    </tr>\n",
       "  </thead>\n",
       "  <tbody>\n",
       "    <tr>\n",
       "      <th>0</th>\n",
       "      <td>1</td>\n",
       "      <td>218353</td>\n",
       "      <td>505942</td>\n",
       "      <td>2016-02-18 00:00:00</td>\n",
       "      <td>67.0</td>\n",
       "      <td>71.0</td>\n",
       "      <td>right</td>\n",
       "      <td>medium</td>\n",
       "      <td>medium</td>\n",
       "      <td>49.0</td>\n",
       "      <td>...</td>\n",
       "      <td>54.0</td>\n",
       "      <td>48.0</td>\n",
       "      <td>65.0</td>\n",
       "      <td>69.0</td>\n",
       "      <td>69.0</td>\n",
       "      <td>6.0</td>\n",
       "      <td>11.0</td>\n",
       "      <td>10.0</td>\n",
       "      <td>8.0</td>\n",
       "      <td>8.0</td>\n",
       "    </tr>\n",
       "    <tr>\n",
       "      <th>1</th>\n",
       "      <td>2</td>\n",
       "      <td>218353</td>\n",
       "      <td>505942</td>\n",
       "      <td>2015-11-19 00:00:00</td>\n",
       "      <td>67.0</td>\n",
       "      <td>71.0</td>\n",
       "      <td>right</td>\n",
       "      <td>medium</td>\n",
       "      <td>medium</td>\n",
       "      <td>49.0</td>\n",
       "      <td>...</td>\n",
       "      <td>54.0</td>\n",
       "      <td>48.0</td>\n",
       "      <td>65.0</td>\n",
       "      <td>69.0</td>\n",
       "      <td>69.0</td>\n",
       "      <td>6.0</td>\n",
       "      <td>11.0</td>\n",
       "      <td>10.0</td>\n",
       "      <td>8.0</td>\n",
       "      <td>8.0</td>\n",
       "    </tr>\n",
       "    <tr>\n",
       "      <th>2</th>\n",
       "      <td>3</td>\n",
       "      <td>218353</td>\n",
       "      <td>505942</td>\n",
       "      <td>2015-09-21 00:00:00</td>\n",
       "      <td>62.0</td>\n",
       "      <td>66.0</td>\n",
       "      <td>right</td>\n",
       "      <td>medium</td>\n",
       "      <td>medium</td>\n",
       "      <td>49.0</td>\n",
       "      <td>...</td>\n",
       "      <td>54.0</td>\n",
       "      <td>48.0</td>\n",
       "      <td>65.0</td>\n",
       "      <td>66.0</td>\n",
       "      <td>69.0</td>\n",
       "      <td>6.0</td>\n",
       "      <td>11.0</td>\n",
       "      <td>10.0</td>\n",
       "      <td>8.0</td>\n",
       "      <td>8.0</td>\n",
       "    </tr>\n",
       "    <tr>\n",
       "      <th>3</th>\n",
       "      <td>4</td>\n",
       "      <td>218353</td>\n",
       "      <td>505942</td>\n",
       "      <td>2015-03-20 00:00:00</td>\n",
       "      <td>61.0</td>\n",
       "      <td>65.0</td>\n",
       "      <td>right</td>\n",
       "      <td>medium</td>\n",
       "      <td>medium</td>\n",
       "      <td>48.0</td>\n",
       "      <td>...</td>\n",
       "      <td>53.0</td>\n",
       "      <td>47.0</td>\n",
       "      <td>62.0</td>\n",
       "      <td>63.0</td>\n",
       "      <td>66.0</td>\n",
       "      <td>5.0</td>\n",
       "      <td>10.0</td>\n",
       "      <td>9.0</td>\n",
       "      <td>7.0</td>\n",
       "      <td>7.0</td>\n",
       "    </tr>\n",
       "    <tr>\n",
       "      <th>4</th>\n",
       "      <td>5</td>\n",
       "      <td>218353</td>\n",
       "      <td>505942</td>\n",
       "      <td>2007-02-22 00:00:00</td>\n",
       "      <td>61.0</td>\n",
       "      <td>65.0</td>\n",
       "      <td>right</td>\n",
       "      <td>medium</td>\n",
       "      <td>medium</td>\n",
       "      <td>48.0</td>\n",
       "      <td>...</td>\n",
       "      <td>53.0</td>\n",
       "      <td>47.0</td>\n",
       "      <td>62.0</td>\n",
       "      <td>63.0</td>\n",
       "      <td>66.0</td>\n",
       "      <td>5.0</td>\n",
       "      <td>10.0</td>\n",
       "      <td>9.0</td>\n",
       "      <td>7.0</td>\n",
       "      <td>7.0</td>\n",
       "    </tr>\n",
       "  </tbody>\n",
       "</table>\n",
       "<p>5 rows × 42 columns</p>\n",
       "</div>"
      ],
      "text/plain": [
       "   id  player_fifa_api_id  player_api_id                 date  overall_rating  \\\n",
       "0   1              218353         505942  2016-02-18 00:00:00            67.0   \n",
       "1   2              218353         505942  2015-11-19 00:00:00            67.0   \n",
       "2   3              218353         505942  2015-09-21 00:00:00            62.0   \n",
       "3   4              218353         505942  2015-03-20 00:00:00            61.0   \n",
       "4   5              218353         505942  2007-02-22 00:00:00            61.0   \n",
       "\n",
       "   potential preferred_foot attacking_work_rate defensive_work_rate  crossing  \\\n",
       "0       71.0          right              medium              medium      49.0   \n",
       "1       71.0          right              medium              medium      49.0   \n",
       "2       66.0          right              medium              medium      49.0   \n",
       "3       65.0          right              medium              medium      48.0   \n",
       "4       65.0          right              medium              medium      48.0   \n",
       "\n",
       "   ...  vision  penalties  marking  standing_tackle  sliding_tackle  \\\n",
       "0  ...    54.0       48.0     65.0             69.0            69.0   \n",
       "1  ...    54.0       48.0     65.0             69.0            69.0   \n",
       "2  ...    54.0       48.0     65.0             66.0            69.0   \n",
       "3  ...    53.0       47.0     62.0             63.0            66.0   \n",
       "4  ...    53.0       47.0     62.0             63.0            66.0   \n",
       "\n",
       "   gk_diving  gk_handling  gk_kicking  gk_positioning  gk_reflexes  \n",
       "0        6.0         11.0        10.0             8.0          8.0  \n",
       "1        6.0         11.0        10.0             8.0          8.0  \n",
       "2        6.0         11.0        10.0             8.0          8.0  \n",
       "3        5.0         10.0         9.0             7.0          7.0  \n",
       "4        5.0         10.0         9.0             7.0          7.0  \n",
       "\n",
       "[5 rows x 42 columns]"
      ]
     },
     "execution_count": 27,
     "metadata": {},
     "output_type": "execute_result"
    }
   ],
   "source": [
    "dfPlayerAttributes = pd.read_sql_query('select * from Player_Attributes', conn)\n",
    "dfPlayerAttributes.head()"
   ]
  },
  {
   "cell_type": "code",
   "execution_count": 29,
   "metadata": {},
   "outputs": [
    {
     "data": {
      "text/plain": [
       "(183978, 42)"
      ]
     },
     "execution_count": 29,
     "metadata": {},
     "output_type": "execute_result"
    }
   ],
   "source": [
    "dfPlayerAttributes.shape"
   ]
  },
  {
   "cell_type": "code",
   "execution_count": 30,
   "metadata": {},
   "outputs": [
    {
     "data": {
      "text/plain": [
       "Index(['id', 'player_fifa_api_id', 'player_api_id', 'date', 'overall_rating',\n",
       "       'potential', 'preferred_foot', 'attacking_work_rate',\n",
       "       'defensive_work_rate', 'crossing', 'finishing', 'heading_accuracy',\n",
       "       'short_passing', 'volleys', 'dribbling', 'curve', 'free_kick_accuracy',\n",
       "       'long_passing', 'ball_control', 'acceleration', 'sprint_speed',\n",
       "       'agility', 'reactions', 'balance', 'shot_power', 'jumping', 'stamina',\n",
       "       'strength', 'long_shots', 'aggression', 'interceptions', 'positioning',\n",
       "       'vision', 'penalties', 'marking', 'standing_tackle', 'sliding_tackle',\n",
       "       'gk_diving', 'gk_handling', 'gk_kicking', 'gk_positioning',\n",
       "       'gk_reflexes'],\n",
       "      dtype='object')"
      ]
     },
     "execution_count": 30,
     "metadata": {},
     "output_type": "execute_result"
    }
   ],
   "source": [
    "# Get Column Names\n",
    "columns = dfPlayerAttributes.columns\n",
    "columns"
   ]
  },
  {
   "cell_type": "code",
   "execution_count": 31,
   "metadata": {},
   "outputs": [
    {
     "data": {
      "text/html": [
       "<div>\n",
       "<style scoped>\n",
       "    .dataframe tbody tr th:only-of-type {\n",
       "        vertical-align: middle;\n",
       "    }\n",
       "\n",
       "    .dataframe tbody tr th {\n",
       "        vertical-align: top;\n",
       "    }\n",
       "\n",
       "    .dataframe thead th {\n",
       "        text-align: right;\n",
       "    }\n",
       "</style>\n",
       "<table border=\"1\" class=\"dataframe\">\n",
       "  <thead>\n",
       "    <tr style=\"text-align: right;\">\n",
       "      <th></th>\n",
       "      <th>id</th>\n",
       "      <th>player_fifa_api_id</th>\n",
       "      <th>player_api_id</th>\n",
       "      <th>overall_rating</th>\n",
       "      <th>potential</th>\n",
       "      <th>crossing</th>\n",
       "      <th>finishing</th>\n",
       "      <th>heading_accuracy</th>\n",
       "      <th>short_passing</th>\n",
       "      <th>volleys</th>\n",
       "      <th>...</th>\n",
       "      <th>vision</th>\n",
       "      <th>penalties</th>\n",
       "      <th>marking</th>\n",
       "      <th>standing_tackle</th>\n",
       "      <th>sliding_tackle</th>\n",
       "      <th>gk_diving</th>\n",
       "      <th>gk_handling</th>\n",
       "      <th>gk_kicking</th>\n",
       "      <th>gk_positioning</th>\n",
       "      <th>gk_reflexes</th>\n",
       "    </tr>\n",
       "  </thead>\n",
       "  <tbody>\n",
       "    <tr>\n",
       "      <th>count</th>\n",
       "      <td>183978.00000</td>\n",
       "      <td>183978.000000</td>\n",
       "      <td>183978.000000</td>\n",
       "      <td>183142.000000</td>\n",
       "      <td>183142.000000</td>\n",
       "      <td>183142.000000</td>\n",
       "      <td>183142.000000</td>\n",
       "      <td>183142.000000</td>\n",
       "      <td>183142.000000</td>\n",
       "      <td>181265.000000</td>\n",
       "      <td>...</td>\n",
       "      <td>181265.000000</td>\n",
       "      <td>183142.000000</td>\n",
       "      <td>183142.000000</td>\n",
       "      <td>183142.000000</td>\n",
       "      <td>181265.000000</td>\n",
       "      <td>183142.000000</td>\n",
       "      <td>183142.000000</td>\n",
       "      <td>183142.000000</td>\n",
       "      <td>183142.000000</td>\n",
       "      <td>183142.000000</td>\n",
       "    </tr>\n",
       "    <tr>\n",
       "      <th>mean</th>\n",
       "      <td>91989.50000</td>\n",
       "      <td>165671.524291</td>\n",
       "      <td>135900.617324</td>\n",
       "      <td>68.600015</td>\n",
       "      <td>73.460353</td>\n",
       "      <td>55.086883</td>\n",
       "      <td>49.921078</td>\n",
       "      <td>57.266023</td>\n",
       "      <td>62.429672</td>\n",
       "      <td>49.468436</td>\n",
       "      <td>...</td>\n",
       "      <td>57.873550</td>\n",
       "      <td>55.003986</td>\n",
       "      <td>46.772242</td>\n",
       "      <td>50.351257</td>\n",
       "      <td>48.001462</td>\n",
       "      <td>14.704393</td>\n",
       "      <td>16.063612</td>\n",
       "      <td>20.998362</td>\n",
       "      <td>16.132154</td>\n",
       "      <td>16.441439</td>\n",
       "    </tr>\n",
       "    <tr>\n",
       "      <th>std</th>\n",
       "      <td>53110.01825</td>\n",
       "      <td>53851.094769</td>\n",
       "      <td>136927.840510</td>\n",
       "      <td>7.041139</td>\n",
       "      <td>6.592271</td>\n",
       "      <td>17.242135</td>\n",
       "      <td>19.038705</td>\n",
       "      <td>16.488905</td>\n",
       "      <td>14.194068</td>\n",
       "      <td>18.256618</td>\n",
       "      <td>...</td>\n",
       "      <td>15.144086</td>\n",
       "      <td>15.546519</td>\n",
       "      <td>21.227667</td>\n",
       "      <td>21.483706</td>\n",
       "      <td>21.598778</td>\n",
       "      <td>16.865467</td>\n",
       "      <td>15.867382</td>\n",
       "      <td>21.452980</td>\n",
       "      <td>16.099175</td>\n",
       "      <td>17.198155</td>\n",
       "    </tr>\n",
       "    <tr>\n",
       "      <th>min</th>\n",
       "      <td>1.00000</td>\n",
       "      <td>2.000000</td>\n",
       "      <td>2625.000000</td>\n",
       "      <td>33.000000</td>\n",
       "      <td>39.000000</td>\n",
       "      <td>1.000000</td>\n",
       "      <td>1.000000</td>\n",
       "      <td>1.000000</td>\n",
       "      <td>3.000000</td>\n",
       "      <td>1.000000</td>\n",
       "      <td>...</td>\n",
       "      <td>1.000000</td>\n",
       "      <td>2.000000</td>\n",
       "      <td>1.000000</td>\n",
       "      <td>1.000000</td>\n",
       "      <td>2.000000</td>\n",
       "      <td>1.000000</td>\n",
       "      <td>1.000000</td>\n",
       "      <td>1.000000</td>\n",
       "      <td>1.000000</td>\n",
       "      <td>1.000000</td>\n",
       "    </tr>\n",
       "    <tr>\n",
       "      <th>25%</th>\n",
       "      <td>45995.25000</td>\n",
       "      <td>155798.000000</td>\n",
       "      <td>34763.000000</td>\n",
       "      <td>64.000000</td>\n",
       "      <td>69.000000</td>\n",
       "      <td>45.000000</td>\n",
       "      <td>34.000000</td>\n",
       "      <td>49.000000</td>\n",
       "      <td>57.000000</td>\n",
       "      <td>35.000000</td>\n",
       "      <td>...</td>\n",
       "      <td>49.000000</td>\n",
       "      <td>45.000000</td>\n",
       "      <td>25.000000</td>\n",
       "      <td>29.000000</td>\n",
       "      <td>25.000000</td>\n",
       "      <td>7.000000</td>\n",
       "      <td>8.000000</td>\n",
       "      <td>8.000000</td>\n",
       "      <td>8.000000</td>\n",
       "      <td>8.000000</td>\n",
       "    </tr>\n",
       "    <tr>\n",
       "      <th>50%</th>\n",
       "      <td>91989.50000</td>\n",
       "      <td>183488.000000</td>\n",
       "      <td>77741.000000</td>\n",
       "      <td>69.000000</td>\n",
       "      <td>74.000000</td>\n",
       "      <td>59.000000</td>\n",
       "      <td>53.000000</td>\n",
       "      <td>60.000000</td>\n",
       "      <td>65.000000</td>\n",
       "      <td>52.000000</td>\n",
       "      <td>...</td>\n",
       "      <td>60.000000</td>\n",
       "      <td>57.000000</td>\n",
       "      <td>50.000000</td>\n",
       "      <td>56.000000</td>\n",
       "      <td>53.000000</td>\n",
       "      <td>10.000000</td>\n",
       "      <td>11.000000</td>\n",
       "      <td>12.000000</td>\n",
       "      <td>11.000000</td>\n",
       "      <td>11.000000</td>\n",
       "    </tr>\n",
       "    <tr>\n",
       "      <th>75%</th>\n",
       "      <td>137983.75000</td>\n",
       "      <td>199848.000000</td>\n",
       "      <td>191080.000000</td>\n",
       "      <td>73.000000</td>\n",
       "      <td>78.000000</td>\n",
       "      <td>68.000000</td>\n",
       "      <td>65.000000</td>\n",
       "      <td>68.000000</td>\n",
       "      <td>72.000000</td>\n",
       "      <td>64.000000</td>\n",
       "      <td>...</td>\n",
       "      <td>69.000000</td>\n",
       "      <td>67.000000</td>\n",
       "      <td>66.000000</td>\n",
       "      <td>69.000000</td>\n",
       "      <td>67.000000</td>\n",
       "      <td>13.000000</td>\n",
       "      <td>15.000000</td>\n",
       "      <td>15.000000</td>\n",
       "      <td>15.000000</td>\n",
       "      <td>15.000000</td>\n",
       "    </tr>\n",
       "    <tr>\n",
       "      <th>max</th>\n",
       "      <td>183978.00000</td>\n",
       "      <td>234141.000000</td>\n",
       "      <td>750584.000000</td>\n",
       "      <td>94.000000</td>\n",
       "      <td>97.000000</td>\n",
       "      <td>95.000000</td>\n",
       "      <td>97.000000</td>\n",
       "      <td>98.000000</td>\n",
       "      <td>97.000000</td>\n",
       "      <td>93.000000</td>\n",
       "      <td>...</td>\n",
       "      <td>97.000000</td>\n",
       "      <td>96.000000</td>\n",
       "      <td>96.000000</td>\n",
       "      <td>95.000000</td>\n",
       "      <td>95.000000</td>\n",
       "      <td>94.000000</td>\n",
       "      <td>93.000000</td>\n",
       "      <td>97.000000</td>\n",
       "      <td>96.000000</td>\n",
       "      <td>96.000000</td>\n",
       "    </tr>\n",
       "  </tbody>\n",
       "</table>\n",
       "<p>8 rows × 38 columns</p>\n",
       "</div>"
      ],
      "text/plain": [
       "                 id  player_fifa_api_id  player_api_id  overall_rating  \\\n",
       "count  183978.00000       183978.000000  183978.000000   183142.000000   \n",
       "mean    91989.50000       165671.524291  135900.617324       68.600015   \n",
       "std     53110.01825        53851.094769  136927.840510        7.041139   \n",
       "min         1.00000            2.000000    2625.000000       33.000000   \n",
       "25%     45995.25000       155798.000000   34763.000000       64.000000   \n",
       "50%     91989.50000       183488.000000   77741.000000       69.000000   \n",
       "75%    137983.75000       199848.000000  191080.000000       73.000000   \n",
       "max    183978.00000       234141.000000  750584.000000       94.000000   \n",
       "\n",
       "           potential       crossing      finishing  heading_accuracy  \\\n",
       "count  183142.000000  183142.000000  183142.000000     183142.000000   \n",
       "mean       73.460353      55.086883      49.921078         57.266023   \n",
       "std         6.592271      17.242135      19.038705         16.488905   \n",
       "min        39.000000       1.000000       1.000000          1.000000   \n",
       "25%        69.000000      45.000000      34.000000         49.000000   \n",
       "50%        74.000000      59.000000      53.000000         60.000000   \n",
       "75%        78.000000      68.000000      65.000000         68.000000   \n",
       "max        97.000000      95.000000      97.000000         98.000000   \n",
       "\n",
       "       short_passing        volleys  ...         vision      penalties  \\\n",
       "count  183142.000000  181265.000000  ...  181265.000000  183142.000000   \n",
       "mean       62.429672      49.468436  ...      57.873550      55.003986   \n",
       "std        14.194068      18.256618  ...      15.144086      15.546519   \n",
       "min         3.000000       1.000000  ...       1.000000       2.000000   \n",
       "25%        57.000000      35.000000  ...      49.000000      45.000000   \n",
       "50%        65.000000      52.000000  ...      60.000000      57.000000   \n",
       "75%        72.000000      64.000000  ...      69.000000      67.000000   \n",
       "max        97.000000      93.000000  ...      97.000000      96.000000   \n",
       "\n",
       "             marking  standing_tackle  sliding_tackle      gk_diving  \\\n",
       "count  183142.000000    183142.000000   181265.000000  183142.000000   \n",
       "mean       46.772242        50.351257       48.001462      14.704393   \n",
       "std        21.227667        21.483706       21.598778      16.865467   \n",
       "min         1.000000         1.000000        2.000000       1.000000   \n",
       "25%        25.000000        29.000000       25.000000       7.000000   \n",
       "50%        50.000000        56.000000       53.000000      10.000000   \n",
       "75%        66.000000        69.000000       67.000000      13.000000   \n",
       "max        96.000000        95.000000       95.000000      94.000000   \n",
       "\n",
       "         gk_handling     gk_kicking  gk_positioning    gk_reflexes  \n",
       "count  183142.000000  183142.000000   183142.000000  183142.000000  \n",
       "mean       16.063612      20.998362       16.132154      16.441439  \n",
       "std        15.867382      21.452980       16.099175      17.198155  \n",
       "min         1.000000       1.000000        1.000000       1.000000  \n",
       "25%         8.000000       8.000000        8.000000       8.000000  \n",
       "50%        11.000000      12.000000       11.000000      11.000000  \n",
       "75%        15.000000      15.000000       15.000000      15.000000  \n",
       "max        93.000000      97.000000       96.000000      96.000000  \n",
       "\n",
       "[8 rows x 38 columns]"
      ]
     },
     "execution_count": 31,
     "metadata": {},
     "output_type": "execute_result"
    }
   ],
   "source": [
    "\n",
    "# Understand data and its distribution or means\n",
    "dfPlayerAttributes.describe()"
   ]
  },
  {
   "cell_type": "code",
   "execution_count": 32,
   "metadata": {},
   "outputs": [
    {
     "data": {
      "text/html": [
       "<div>\n",
       "<style scoped>\n",
       "    .dataframe tbody tr th:only-of-type {\n",
       "        vertical-align: middle;\n",
       "    }\n",
       "\n",
       "    .dataframe tbody tr th {\n",
       "        vertical-align: top;\n",
       "    }\n",
       "\n",
       "    .dataframe thead th {\n",
       "        text-align: right;\n",
       "    }\n",
       "</style>\n",
       "<table border=\"1\" class=\"dataframe\">\n",
       "  <thead>\n",
       "    <tr style=\"text-align: right;\">\n",
       "      <th></th>\n",
       "      <th>date</th>\n",
       "      <th>preferred_foot</th>\n",
       "      <th>attacking_work_rate</th>\n",
       "      <th>defensive_work_rate</th>\n",
       "    </tr>\n",
       "  </thead>\n",
       "  <tbody>\n",
       "    <tr>\n",
       "      <th>count</th>\n",
       "      <td>183978</td>\n",
       "      <td>183142</td>\n",
       "      <td>180748</td>\n",
       "      <td>183142</td>\n",
       "    </tr>\n",
       "    <tr>\n",
       "      <th>unique</th>\n",
       "      <td>197</td>\n",
       "      <td>2</td>\n",
       "      <td>8</td>\n",
       "      <td>19</td>\n",
       "    </tr>\n",
       "    <tr>\n",
       "      <th>top</th>\n",
       "      <td>2007-02-22 00:00:00</td>\n",
       "      <td>right</td>\n",
       "      <td>medium</td>\n",
       "      <td>medium</td>\n",
       "    </tr>\n",
       "    <tr>\n",
       "      <th>freq</th>\n",
       "      <td>11794</td>\n",
       "      <td>138409</td>\n",
       "      <td>125070</td>\n",
       "      <td>130846</td>\n",
       "    </tr>\n",
       "  </tbody>\n",
       "</table>\n",
       "</div>"
      ],
      "text/plain": [
       "                       date preferred_foot attacking_work_rate  \\\n",
       "count                183978         183142              180748   \n",
       "unique                  197              2                   8   \n",
       "top     2007-02-22 00:00:00          right              medium   \n",
       "freq                  11794         138409              125070   \n",
       "\n",
       "       defensive_work_rate  \n",
       "count               183142  \n",
       "unique                  19  \n",
       "top                 medium  \n",
       "freq                130846  "
      ]
     },
     "execution_count": 32,
     "metadata": {},
     "output_type": "execute_result"
    }
   ],
   "source": [
    "# Understand data of Object type if they are categorical\n",
    "dfPlayerAttributes.describe(include='object')"
   ]
  },
  {
   "cell_type": "code",
   "execution_count": 33,
   "metadata": {},
   "outputs": [],
   "source": [
    "# Date has 197 unique values so matches might have continued for 197 days\n",
    "# All other soccer specific features has limited unique values like foot, attaching work rate or defensive work rate\n",
    "# Except date and preferred foot, both other remaining variables looks ordinal"
   ]
  },
  {
   "cell_type": "code",
   "execution_count": 34,
   "metadata": {},
   "outputs": [
    {
     "data": {
      "text/plain": [
       "id                        0\n",
       "player_fifa_api_id        0\n",
       "player_api_id             0\n",
       "date                      0\n",
       "overall_rating          836\n",
       "potential               836\n",
       "preferred_foot          836\n",
       "attacking_work_rate    3230\n",
       "defensive_work_rate     836\n",
       "crossing                836\n",
       "finishing               836\n",
       "heading_accuracy        836\n",
       "short_passing           836\n",
       "volleys                2713\n",
       "dribbling               836\n",
       "curve                  2713\n",
       "free_kick_accuracy      836\n",
       "long_passing            836\n",
       "ball_control            836\n",
       "acceleration            836\n",
       "sprint_speed            836\n",
       "agility                2713\n",
       "reactions               836\n",
       "balance                2713\n",
       "shot_power              836\n",
       "jumping                2713\n",
       "stamina                 836\n",
       "strength                836\n",
       "long_shots              836\n",
       "aggression              836\n",
       "interceptions           836\n",
       "positioning             836\n",
       "vision                 2713\n",
       "penalties               836\n",
       "marking                 836\n",
       "standing_tackle         836\n",
       "sliding_tackle         2713\n",
       "gk_diving               836\n",
       "gk_handling             836\n",
       "gk_kicking              836\n",
       "gk_positioning          836\n",
       "gk_reflexes             836\n",
       "dtype: int64"
      ]
     },
     "execution_count": 34,
     "metadata": {},
     "output_type": "execute_result"
    }
   ],
   "source": [
    "# Check for null values\n",
    "dfPlayerAttributes.isna().sum()"
   ]
  },
  {
   "cell_type": "code",
   "execution_count": 35,
   "metadata": {},
   "outputs": [],
   "source": [
    "# It looks like there are total three counts of null values i.e. 836, 2713, 3230\n",
    "# This means values might be missing for same kind of rows at least for 836 rows and 2713 rows"
   ]
  },
  {
   "cell_type": "code",
   "execution_count": 36,
   "metadata": {},
   "outputs": [],
   "source": [
    "\n",
    "# Understand missing values if they can be filled with correct values\n",
    "# Else drop the null values"
   ]
  },
  {
   "cell_type": "code",
   "execution_count": 37,
   "metadata": {},
   "outputs": [
    {
     "data": {
      "text/plain": [
       "756"
      ]
     },
     "execution_count": 37,
     "metadata": {},
     "output_type": "execute_result"
    }
   ],
   "source": [
    "\n",
    "# Find count of Ids of players where overall_rating is null\n",
    "len(dfPlayerAttributes[dfPlayerAttributes.overall_rating.isna()].player_api_id.unique())"
   ]
  },
  {
   "cell_type": "code",
   "execution_count": 38,
   "metadata": {},
   "outputs": [],
   "source": [
    "# null values are not for 1 specific player but for 756 unique players out of 11060 total players"
   ]
  },
  {
   "cell_type": "code",
   "execution_count": 39,
   "metadata": {},
   "outputs": [
    {
     "data": {
      "text/plain": [
       "1185"
      ]
     },
     "execution_count": 39,
     "metadata": {},
     "output_type": "execute_result"
    }
   ],
   "source": [
    "\n",
    "# Find count of Ids of players where volleys is null\n",
    "len(dfPlayerAttributes[dfPlayerAttributes.volleys.isna()].player_api_id.unique())"
   ]
  },
  {
   "cell_type": "code",
   "execution_count": 40,
   "metadata": {},
   "outputs": [],
   "source": [
    "# null values are not for 1 specific player but for 1185 unique players ouf of 11060 total players"
   ]
  },
  {
   "cell_type": "code",
   "execution_count": 41,
   "metadata": {},
   "outputs": [
    {
     "data": {
      "text/html": [
       "<div>\n",
       "<style scoped>\n",
       "    .dataframe tbody tr th:only-of-type {\n",
       "        vertical-align: middle;\n",
       "    }\n",
       "\n",
       "    .dataframe tbody tr th {\n",
       "        vertical-align: top;\n",
       "    }\n",
       "\n",
       "    .dataframe thead th {\n",
       "        text-align: right;\n",
       "    }\n",
       "</style>\n",
       "<table border=\"1\" class=\"dataframe\">\n",
       "  <thead>\n",
       "    <tr style=\"text-align: right;\">\n",
       "      <th></th>\n",
       "      <th>id</th>\n",
       "      <th>player_fifa_api_id</th>\n",
       "      <th>player_api_id</th>\n",
       "      <th>overall_rating</th>\n",
       "      <th>potential</th>\n",
       "      <th>crossing</th>\n",
       "      <th>finishing</th>\n",
       "      <th>heading_accuracy</th>\n",
       "      <th>short_passing</th>\n",
       "      <th>volleys</th>\n",
       "      <th>...</th>\n",
       "      <th>vision</th>\n",
       "      <th>penalties</th>\n",
       "      <th>marking</th>\n",
       "      <th>standing_tackle</th>\n",
       "      <th>sliding_tackle</th>\n",
       "      <th>gk_diving</th>\n",
       "      <th>gk_handling</th>\n",
       "      <th>gk_kicking</th>\n",
       "      <th>gk_positioning</th>\n",
       "      <th>gk_reflexes</th>\n",
       "    </tr>\n",
       "  </thead>\n",
       "  <tbody>\n",
       "    <tr>\n",
       "      <th>count</th>\n",
       "      <td>14884.000000</td>\n",
       "      <td>14884.000000</td>\n",
       "      <td>14884.000000</td>\n",
       "      <td>14048.000000</td>\n",
       "      <td>14048.000000</td>\n",
       "      <td>14048.000000</td>\n",
       "      <td>14048.000000</td>\n",
       "      <td>14048.000000</td>\n",
       "      <td>14048.000000</td>\n",
       "      <td>13852.000000</td>\n",
       "      <td>...</td>\n",
       "      <td>13852.000000</td>\n",
       "      <td>14048.000000</td>\n",
       "      <td>14048.000000</td>\n",
       "      <td>14048.000000</td>\n",
       "      <td>13852.000000</td>\n",
       "      <td>14048.000000</td>\n",
       "      <td>14048.000000</td>\n",
       "      <td>14048.000000</td>\n",
       "      <td>14048.000000</td>\n",
       "      <td>14048.000000</td>\n",
       "    </tr>\n",
       "    <tr>\n",
       "      <th>mean</th>\n",
       "      <td>91188.755912</td>\n",
       "      <td>132274.953440</td>\n",
       "      <td>43580.244558</td>\n",
       "      <td>69.869305</td>\n",
       "      <td>72.659952</td>\n",
       "      <td>57.375214</td>\n",
       "      <td>52.464479</td>\n",
       "      <td>59.797409</td>\n",
       "      <td>64.137173</td>\n",
       "      <td>52.988666</td>\n",
       "      <td>...</td>\n",
       "      <td>61.142001</td>\n",
       "      <td>58.730923</td>\n",
       "      <td>47.889166</td>\n",
       "      <td>51.748719</td>\n",
       "      <td>48.858721</td>\n",
       "      <td>14.116031</td>\n",
       "      <td>16.035521</td>\n",
       "      <td>24.615746</td>\n",
       "      <td>16.313924</td>\n",
       "      <td>16.492526</td>\n",
       "    </tr>\n",
       "    <tr>\n",
       "      <th>std</th>\n",
       "      <td>52695.904461</td>\n",
       "      <td>54038.074548</td>\n",
       "      <td>38294.450242</td>\n",
       "      <td>6.156973</td>\n",
       "      <td>6.492969</td>\n",
       "      <td>17.003262</td>\n",
       "      <td>18.918962</td>\n",
       "      <td>16.243974</td>\n",
       "      <td>13.500282</td>\n",
       "      <td>17.864068</td>\n",
       "      <td>...</td>\n",
       "      <td>13.946435</td>\n",
       "      <td>15.738228</td>\n",
       "      <td>21.337472</td>\n",
       "      <td>21.124845</td>\n",
       "      <td>21.507567</td>\n",
       "      <td>15.813596</td>\n",
       "      <td>15.044045</td>\n",
       "      <td>23.735110</td>\n",
       "      <td>15.319779</td>\n",
       "      <td>16.157266</td>\n",
       "    </tr>\n",
       "    <tr>\n",
       "      <th>min</th>\n",
       "      <td>479.000000</td>\n",
       "      <td>61.000000</td>\n",
       "      <td>2907.000000</td>\n",
       "      <td>38.000000</td>\n",
       "      <td>44.000000</td>\n",
       "      <td>5.000000</td>\n",
       "      <td>5.000000</td>\n",
       "      <td>2.000000</td>\n",
       "      <td>7.000000</td>\n",
       "      <td>5.000000</td>\n",
       "      <td>...</td>\n",
       "      <td>5.000000</td>\n",
       "      <td>5.000000</td>\n",
       "      <td>4.000000</td>\n",
       "      <td>4.000000</td>\n",
       "      <td>7.000000</td>\n",
       "      <td>1.000000</td>\n",
       "      <td>1.000000</td>\n",
       "      <td>1.000000</td>\n",
       "      <td>1.000000</td>\n",
       "      <td>1.000000</td>\n",
       "    </tr>\n",
       "    <tr>\n",
       "      <th>25%</th>\n",
       "      <td>43061.750000</td>\n",
       "      <td>111085.000000</td>\n",
       "      <td>29673.000000</td>\n",
       "      <td>66.000000</td>\n",
       "      <td>68.000000</td>\n",
       "      <td>49.000000</td>\n",
       "      <td>39.000000</td>\n",
       "      <td>52.000000</td>\n",
       "      <td>60.000000</td>\n",
       "      <td>43.000000</td>\n",
       "      <td>...</td>\n",
       "      <td>54.000000</td>\n",
       "      <td>51.000000</td>\n",
       "      <td>25.000000</td>\n",
       "      <td>32.000000</td>\n",
       "      <td>27.000000</td>\n",
       "      <td>7.000000</td>\n",
       "      <td>8.000000</td>\n",
       "      <td>8.000000</td>\n",
       "      <td>8.000000</td>\n",
       "      <td>8.000000</td>\n",
       "    </tr>\n",
       "    <tr>\n",
       "      <th>50%</th>\n",
       "      <td>92492.500000</td>\n",
       "      <td>152961.000000</td>\n",
       "      <td>37779.000000</td>\n",
       "      <td>70.000000</td>\n",
       "      <td>73.000000</td>\n",
       "      <td>61.000000</td>\n",
       "      <td>56.000000</td>\n",
       "      <td>63.000000</td>\n",
       "      <td>66.000000</td>\n",
       "      <td>57.000000</td>\n",
       "      <td>...</td>\n",
       "      <td>64.000000</td>\n",
       "      <td>62.000000</td>\n",
       "      <td>52.000000</td>\n",
       "      <td>57.000000</td>\n",
       "      <td>53.000000</td>\n",
       "      <td>10.000000</td>\n",
       "      <td>12.000000</td>\n",
       "      <td>12.000000</td>\n",
       "      <td>12.000000</td>\n",
       "      <td>12.000000</td>\n",
       "    </tr>\n",
       "    <tr>\n",
       "      <th>75%</th>\n",
       "      <td>137577.250000</td>\n",
       "      <td>171016.000000</td>\n",
       "      <td>41318.000000</td>\n",
       "      <td>74.000000</td>\n",
       "      <td>77.000000</td>\n",
       "      <td>70.000000</td>\n",
       "      <td>67.000000</td>\n",
       "      <td>71.000000</td>\n",
       "      <td>73.000000</td>\n",
       "      <td>66.000000</td>\n",
       "      <td>...</td>\n",
       "      <td>71.000000</td>\n",
       "      <td>70.000000</td>\n",
       "      <td>67.000000</td>\n",
       "      <td>71.000000</td>\n",
       "      <td>68.000000</td>\n",
       "      <td>13.000000</td>\n",
       "      <td>20.000000</td>\n",
       "      <td>48.000000</td>\n",
       "      <td>20.000000</td>\n",
       "      <td>20.000000</td>\n",
       "    </tr>\n",
       "    <tr>\n",
       "      <th>max</th>\n",
       "      <td>183488.000000</td>\n",
       "      <td>215569.000000</td>\n",
       "      <td>451941.000000</td>\n",
       "      <td>90.000000</td>\n",
       "      <td>93.000000</td>\n",
       "      <td>93.000000</td>\n",
       "      <td>97.000000</td>\n",
       "      <td>98.000000</td>\n",
       "      <td>97.000000</td>\n",
       "      <td>89.000000</td>\n",
       "      <td>...</td>\n",
       "      <td>96.000000</td>\n",
       "      <td>96.000000</td>\n",
       "      <td>91.000000</td>\n",
       "      <td>93.000000</td>\n",
       "      <td>92.000000</td>\n",
       "      <td>83.000000</td>\n",
       "      <td>85.000000</td>\n",
       "      <td>97.000000</td>\n",
       "      <td>90.000000</td>\n",
       "      <td>88.000000</td>\n",
       "    </tr>\n",
       "  </tbody>\n",
       "</table>\n",
       "<p>8 rows × 38 columns</p>\n",
       "</div>"
      ],
      "text/plain": [
       "                  id  player_fifa_api_id  player_api_id  overall_rating  \\\n",
       "count   14884.000000        14884.000000   14884.000000    14048.000000   \n",
       "mean    91188.755912       132274.953440   43580.244558       69.869305   \n",
       "std     52695.904461        54038.074548   38294.450242        6.156973   \n",
       "min       479.000000           61.000000    2907.000000       38.000000   \n",
       "25%     43061.750000       111085.000000   29673.000000       66.000000   \n",
       "50%     92492.500000       152961.000000   37779.000000       70.000000   \n",
       "75%    137577.250000       171016.000000   41318.000000       74.000000   \n",
       "max    183488.000000       215569.000000  451941.000000       90.000000   \n",
       "\n",
       "          potential      crossing     finishing  heading_accuracy  \\\n",
       "count  14048.000000  14048.000000  14048.000000      14048.000000   \n",
       "mean      72.659952     57.375214     52.464479         59.797409   \n",
       "std        6.492969     17.003262     18.918962         16.243974   \n",
       "min       44.000000      5.000000      5.000000          2.000000   \n",
       "25%       68.000000     49.000000     39.000000         52.000000   \n",
       "50%       73.000000     61.000000     56.000000         63.000000   \n",
       "75%       77.000000     70.000000     67.000000         71.000000   \n",
       "max       93.000000     93.000000     97.000000         98.000000   \n",
       "\n",
       "       short_passing       volleys  ...        vision     penalties  \\\n",
       "count   14048.000000  13852.000000  ...  13852.000000  14048.000000   \n",
       "mean       64.137173     52.988666  ...     61.142001     58.730923   \n",
       "std        13.500282     17.864068  ...     13.946435     15.738228   \n",
       "min         7.000000      5.000000  ...      5.000000      5.000000   \n",
       "25%        60.000000     43.000000  ...     54.000000     51.000000   \n",
       "50%        66.000000     57.000000  ...     64.000000     62.000000   \n",
       "75%        73.000000     66.000000  ...     71.000000     70.000000   \n",
       "max        97.000000     89.000000  ...     96.000000     96.000000   \n",
       "\n",
       "            marking  standing_tackle  sliding_tackle     gk_diving  \\\n",
       "count  14048.000000     14048.000000    13852.000000  14048.000000   \n",
       "mean      47.889166        51.748719       48.858721     14.116031   \n",
       "std       21.337472        21.124845       21.507567     15.813596   \n",
       "min        4.000000         4.000000        7.000000      1.000000   \n",
       "25%       25.000000        32.000000       27.000000      7.000000   \n",
       "50%       52.000000        57.000000       53.000000     10.000000   \n",
       "75%       67.000000        71.000000       68.000000     13.000000   \n",
       "max       91.000000        93.000000       92.000000     83.000000   \n",
       "\n",
       "        gk_handling    gk_kicking  gk_positioning   gk_reflexes  \n",
       "count  14048.000000  14048.000000    14048.000000  14048.000000  \n",
       "mean      16.035521     24.615746       16.313924     16.492526  \n",
       "std       15.044045     23.735110       15.319779     16.157266  \n",
       "min        1.000000      1.000000        1.000000      1.000000  \n",
       "25%        8.000000      8.000000        8.000000      8.000000  \n",
       "50%       12.000000     12.000000       12.000000     12.000000  \n",
       "75%       20.000000     48.000000       20.000000     20.000000  \n",
       "max       85.000000     97.000000       90.000000     88.000000  \n",
       "\n",
       "[8 rows x 38 columns]"
      ]
     },
     "execution_count": 41,
     "metadata": {},
     "output_type": "execute_result"
    }
   ],
   "source": [
    "# Find other values of player ID who has some null values\n",
    "dfPlayerAttributes[dfPlayerAttributes.player_api_id.isin(dfPlayerAttributes[dfPlayerAttributes.overall_rating.isna()].player_api_id)].describe()"
   ]
  },
  {
   "cell_type": "code",
   "execution_count": 42,
   "metadata": {},
   "outputs": [],
   "source": [
    "\n",
    "# Although there are 1185 unique null values but there are 14884 rows of similar player_api_id\n",
    "# That means not all data of a plyer missing, but only some data for some players are missing"
   ]
  },
  {
   "cell_type": "code",
   "execution_count": 43,
   "metadata": {},
   "outputs": [
    {
     "data": {
      "text/html": [
       "<div>\n",
       "<style scoped>\n",
       "    .dataframe tbody tr th:only-of-type {\n",
       "        vertical-align: middle;\n",
       "    }\n",
       "\n",
       "    .dataframe tbody tr th {\n",
       "        vertical-align: top;\n",
       "    }\n",
       "\n",
       "    .dataframe thead th {\n",
       "        text-align: right;\n",
       "    }\n",
       "</style>\n",
       "<table border=\"1\" class=\"dataframe\">\n",
       "  <thead>\n",
       "    <tr style=\"text-align: right;\">\n",
       "      <th></th>\n",
       "      <th>player_api_id</th>\n",
       "      <th>missing_rows_count</th>\n",
       "    </tr>\n",
       "  </thead>\n",
       "  <tbody>\n",
       "    <tr>\n",
       "      <th>0</th>\n",
       "      <td>2907</td>\n",
       "      <td>1</td>\n",
       "    </tr>\n",
       "    <tr>\n",
       "      <th>1</th>\n",
       "      <td>3517</td>\n",
       "      <td>1</td>\n",
       "    </tr>\n",
       "    <tr>\n",
       "      <th>2</th>\n",
       "      <td>5243</td>\n",
       "      <td>1</td>\n",
       "    </tr>\n",
       "    <tr>\n",
       "      <th>3</th>\n",
       "      <td>5247</td>\n",
       "      <td>1</td>\n",
       "    </tr>\n",
       "    <tr>\n",
       "      <th>4</th>\n",
       "      <td>6864</td>\n",
       "      <td>1</td>\n",
       "    </tr>\n",
       "  </tbody>\n",
       "</table>\n",
       "</div>"
      ],
      "text/plain": [
       "   player_api_id  missing_rows_count\n",
       "0           2907                   1\n",
       "1           3517                   1\n",
       "2           5243                   1\n",
       "3           5247                   1\n",
       "4           6864                   1"
      ]
     },
     "execution_count": 43,
     "metadata": {},
     "output_type": "execute_result"
    }
   ],
   "source": [
    "dfMissingByPlayer = dfPlayerAttributes[dfPlayerAttributes.overall_rating.isna()].groupby(by='player_api_id').agg({'player_api_id': 'count'})\n",
    "#dfMissingByPlayer.columns = dfMissingByPlayer.columns.droplevel()\n",
    "dfMissingByPlayer.columns = ['missing_rows_count']\n",
    "dfMissingByPlayer = dfMissingByPlayer.reset_index()\n",
    "dfMissingByPlayer.head()"
   ]
  },
  {
   "cell_type": "code",
   "execution_count": 44,
   "metadata": {},
   "outputs": [
    {
     "data": {
      "text/plain": [
       "[<matplotlib.lines.Line2D at 0x22ea3ed3f98>]"
      ]
     },
     "execution_count": 44,
     "metadata": {},
     "output_type": "execute_result"
    },
    {
     "data": {
      "image/png": "[encoded data removed]",
      "text/plain": [
       "<Figure size 432x288 with 1 Axes>"
      ]
     },
     "metadata": {
      "needs_background": "light"
     },
     "output_type": "display_data"
    }
   ],
   "source": [
    "\n",
    "plt.plot(dfMissingByPlayer.missing_rows_count)"
   ]
  },
  {
   "cell_type": "code",
   "execution_count": 45,
   "metadata": {},
   "outputs": [],
   "source": [
    "# It looks like 10-12 players has missing value more than 1 however rest all have missing value just 1"
   ]
  },
  {
   "cell_type": "code",
   "execution_count": 46,
   "metadata": {},
   "outputs": [
    {
     "data": {
      "text/html": [
       "<div>\n",
       "<style scoped>\n",
       "    .dataframe tbody tr th:only-of-type {\n",
       "        vertical-align: middle;\n",
       "    }\n",
       "\n",
       "    .dataframe tbody tr th {\n",
       "        vertical-align: top;\n",
       "    }\n",
       "\n",
       "    .dataframe thead th {\n",
       "        text-align: right;\n",
       "    }\n",
       "</style>\n",
       "<table border=\"1\" class=\"dataframe\">\n",
       "  <thead>\n",
       "    <tr style=\"text-align: right;\">\n",
       "      <th></th>\n",
       "      <th>player_api_id</th>\n",
       "      <th>missing_rows_count</th>\n",
       "    </tr>\n",
       "  </thead>\n",
       "  <tbody>\n",
       "    <tr>\n",
       "      <th>8</th>\n",
       "      <td>11285</td>\n",
       "      <td>2</td>\n",
       "    </tr>\n",
       "    <tr>\n",
       "      <th>53</th>\n",
       "      <td>23019</td>\n",
       "      <td>2</td>\n",
       "    </tr>\n",
       "    <tr>\n",
       "      <th>268</th>\n",
       "      <td>32968</td>\n",
       "      <td>8</td>\n",
       "    </tr>\n",
       "    <tr>\n",
       "      <th>353</th>\n",
       "      <td>37254</td>\n",
       "      <td>12</td>\n",
       "    </tr>\n",
       "    <tr>\n",
       "      <th>474</th>\n",
       "      <td>39136</td>\n",
       "      <td>2</td>\n",
       "    </tr>\n",
       "    <tr>\n",
       "      <th>603</th>\n",
       "      <td>42116</td>\n",
       "      <td>7</td>\n",
       "    </tr>\n",
       "    <tr>\n",
       "      <th>642</th>\n",
       "      <td>46256</td>\n",
       "      <td>2</td>\n",
       "    </tr>\n",
       "    <tr>\n",
       "      <th>729</th>\n",
       "      <td>110189</td>\n",
       "      <td>25</td>\n",
       "    </tr>\n",
       "    <tr>\n",
       "      <th>742</th>\n",
       "      <td>163838</td>\n",
       "      <td>6</td>\n",
       "    </tr>\n",
       "    <tr>\n",
       "      <th>747</th>\n",
       "      <td>193866</td>\n",
       "      <td>24</td>\n",
       "    </tr>\n",
       "  </tbody>\n",
       "</table>\n",
       "</div>"
      ],
      "text/plain": [
       "     player_api_id  missing_rows_count\n",
       "8            11285                   2\n",
       "53           23019                   2\n",
       "268          32968                   8\n",
       "353          37254                  12\n",
       "474          39136                   2\n",
       "603          42116                   7\n",
       "642          46256                   2\n",
       "729         110189                  25\n",
       "742         163838                   6\n",
       "747         193866                  24"
      ]
     },
     "execution_count": 46,
     "metadata": {},
     "output_type": "execute_result"
    }
   ],
   "source": [
    "\n",
    "# Lets find count of those who has missing values more than 1\n",
    "dfMissingByPlayer[dfMissingByPlayer.missing_rows_count > 1]"
   ]
  },
  {
   "cell_type": "code",
   "execution_count": 47,
   "metadata": {},
   "outputs": [],
   "source": [
    "# Total 10 players who has missing values, lets drop them at this time but we will look at them later on how to imputate them"
   ]
  },
  {
   "cell_type": "code",
   "execution_count": 48,
   "metadata": {},
   "outputs": [
    {
     "data": {
      "text/plain": [
       "id                        0\n",
       "player_fifa_api_id        0\n",
       "player_api_id             0\n",
       "date                      0\n",
       "overall_rating            0\n",
       "potential                 0\n",
       "preferred_foot            0\n",
       "attacking_work_rate    2394\n",
       "defensive_work_rate       0\n",
       "crossing                  0\n",
       "finishing                 0\n",
       "heading_accuracy          0\n",
       "short_passing             0\n",
       "volleys                1877\n",
       "dribbling                 0\n",
       "curve                  1877\n",
       "free_kick_accuracy        0\n",
       "long_passing              0\n",
       "ball_control              0\n",
       "acceleration              0\n",
       "sprint_speed              0\n",
       "agility                1877\n",
       "reactions                 0\n",
       "balance                1877\n",
       "shot_power                0\n",
       "jumping                1877\n",
       "stamina                   0\n",
       "strength                  0\n",
       "long_shots                0\n",
       "aggression                0\n",
       "interceptions             0\n",
       "positioning               0\n",
       "vision                 1877\n",
       "penalties                 0\n",
       "marking                   0\n",
       "standing_tackle           0\n",
       "sliding_tackle         1877\n",
       "gk_diving                 0\n",
       "gk_handling               0\n",
       "gk_kicking                0\n",
       "gk_positioning            0\n",
       "gk_reflexes               0\n",
       "dtype: int64"
      ]
     },
     "execution_count": 48,
     "metadata": {},
     "output_type": "execute_result"
    }
   ],
   "source": [
    "# Lets find out null values after dropping or removing null values for overall_rating\n",
    "dfPlayerAttributes[dfPlayerAttributes.overall_rating.notnull()].isna().sum()"
   ]
  },
  {
   "cell_type": "code",
   "execution_count": 49,
   "metadata": {},
   "outputs": [],
   "source": [
    "# Still there are 2394 rows with missing attacking_work_rate values. Lets drop them, we will find reason for them later"
   ]
  },
  {
   "cell_type": "code",
   "execution_count": 50,
   "metadata": {},
   "outputs": [
    {
     "data": {
      "text/plain": [
       "id                       0\n",
       "player_fifa_api_id       0\n",
       "player_api_id            0\n",
       "date                     0\n",
       "overall_rating           0\n",
       "potential                0\n",
       "preferred_foot           0\n",
       "attacking_work_rate      0\n",
       "defensive_work_rate      0\n",
       "crossing                 0\n",
       "finishing                0\n",
       "heading_accuracy         0\n",
       "short_passing            0\n",
       "volleys                394\n",
       "dribbling                0\n",
       "curve                  394\n",
       "free_kick_accuracy       0\n",
       "long_passing             0\n",
       "ball_control             0\n",
       "acceleration             0\n",
       "sprint_speed             0\n",
       "agility                394\n",
       "reactions                0\n",
       "balance                394\n",
       "shot_power               0\n",
       "jumping                394\n",
       "stamina                  0\n",
       "strength                 0\n",
       "long_shots               0\n",
       "aggression               0\n",
       "interceptions            0\n",
       "positioning              0\n",
       "vision                 394\n",
       "penalties                0\n",
       "marking                  0\n",
       "standing_tackle          0\n",
       "sliding_tackle         394\n",
       "gk_diving                0\n",
       "gk_handling              0\n",
       "gk_kicking               0\n",
       "gk_positioning           0\n",
       "gk_reflexes              0\n",
       "dtype: int64"
      ]
     },
     "execution_count": 50,
     "metadata": {},
     "output_type": "execute_result"
    }
   ],
   "source": [
    "dfPlayerAttributes[dfPlayerAttributes.attacking_work_rate.notnull()].isna().sum()"
   ]
  },
  {
   "cell_type": "code",
   "execution_count": 51,
   "metadata": {},
   "outputs": [],
   "source": [
    "#Still dropping by just attacking_work_rate leaves 394 null vlues at few columns. THATS IT, LETS DROP ALL and CONTINUE regression"
   ]
  },
  {
   "cell_type": "code",
   "execution_count": 52,
   "metadata": {},
   "outputs": [
    {
     "data": {
      "text/plain": [
       "id                     0\n",
       "player_fifa_api_id     0\n",
       "player_api_id          0\n",
       "date                   0\n",
       "overall_rating         0\n",
       "potential              0\n",
       "preferred_foot         0\n",
       "attacking_work_rate    0\n",
       "defensive_work_rate    0\n",
       "crossing               0\n",
       "finishing              0\n",
       "heading_accuracy       0\n",
       "short_passing          0\n",
       "volleys                0\n",
       "dribbling              0\n",
       "curve                  0\n",
       "free_kick_accuracy     0\n",
       "long_passing           0\n",
       "ball_control           0\n",
       "acceleration           0\n",
       "sprint_speed           0\n",
       "agility                0\n",
       "reactions              0\n",
       "balance                0\n",
       "shot_power             0\n",
       "jumping                0\n",
       "stamina                0\n",
       "strength               0\n",
       "long_shots             0\n",
       "aggression             0\n",
       "interceptions          0\n",
       "positioning            0\n",
       "vision                 0\n",
       "penalties              0\n",
       "marking                0\n",
       "standing_tackle        0\n",
       "sliding_tackle         0\n",
       "gk_diving              0\n",
       "gk_handling            0\n",
       "gk_kicking             0\n",
       "gk_positioning         0\n",
       "gk_reflexes            0\n",
       "dtype: int64"
      ]
     },
     "execution_count": 52,
     "metadata": {},
     "output_type": "execute_result"
    }
   ],
   "source": [
    "dfPlayerAttributes = dfPlayerAttributes.dropna()\n",
    "dfPlayerAttributes.isna().sum()"
   ]
  },
  {
   "cell_type": "code",
   "execution_count": 53,
   "metadata": {},
   "outputs": [],
   "source": [
    "# No null values"
   ]
  },
  {
   "cell_type": "code",
   "execution_count": 54,
   "metadata": {},
   "outputs": [
    {
     "data": {
      "text/plain": [
       "(180354, 42)"
      ]
     },
     "execution_count": 54,
     "metadata": {},
     "output_type": "execute_result"
    }
   ],
   "source": [
    "dfPlayerAttributes.shape"
   ]
  },
  {
   "cell_type": "code",
   "execution_count": 55,
   "metadata": {},
   "outputs": [],
   "source": [
    "# Lets drop ID columns and convert date variable into readable date"
   ]
  },
  {
   "cell_type": "code",
   "execution_count": 56,
   "metadata": {},
   "outputs": [
    {
     "data": {
      "text/plain": [
       "Index(['id', 'player_fifa_api_id', 'player_api_id', 'date', 'overall_rating',\n",
       "       'potential', 'preferred_foot', 'attacking_work_rate',\n",
       "       'defensive_work_rate', 'crossing', 'finishing', 'heading_accuracy',\n",
       "       'short_passing', 'volleys', 'dribbling', 'curve', 'free_kick_accuracy',\n",
       "       'long_passing', 'ball_control', 'acceleration', 'sprint_speed',\n",
       "       'agility', 'reactions', 'balance', 'shot_power', 'jumping', 'stamina',\n",
       "       'strength', 'long_shots', 'aggression', 'interceptions', 'positioning',\n",
       "       'vision', 'penalties', 'marking', 'standing_tackle', 'sliding_tackle',\n",
       "       'gk_diving', 'gk_handling', 'gk_kicking', 'gk_positioning',\n",
       "       'gk_reflexes'],\n",
       "      dtype='object')"
      ]
     },
     "execution_count": 56,
     "metadata": {},
     "output_type": "execute_result"
    }
   ],
   "source": [
    "dfPlayerAttributes.columns"
   ]
  },
  {
   "cell_type": "code",
   "execution_count": 57,
   "metadata": {},
   "outputs": [],
   "source": [
    "impColumns = ['date', 'overall_rating', 'potential', 'preferred_foot', 'attacking_work_rate', 'defensive_work_rate',\n",
    "              'crossing', 'finishing', 'heading_accuracy', 'short_passing', 'volleys', 'dribbling', 'curve',\n",
    "              'free_kick_accuracy', 'long_passing', 'ball_control', 'acceleration', 'sprint_speed', 'agility',\n",
    "              'reactions', 'balance', 'shot_power', 'jumping', 'stamina', 'strength', 'long_shots', 'aggression',\n",
    "              'interceptions', 'positioning', 'vision', 'penalties', 'marking', 'standing_tackle', 'sliding_tackle',\n",
    "              'gk_diving', 'gk_handling', 'gk_kicking', 'gk_positioning', 'gk_reflexes']"
   ]
  },
  {
   "cell_type": "code",
   "execution_count": 58,
   "metadata": {},
   "outputs": [
    {
     "data": {
      "text/html": [
       "<div>\n",
       "<style scoped>\n",
       "    .dataframe tbody tr th:only-of-type {\n",
       "        vertical-align: middle;\n",
       "    }\n",
       "\n",
       "    .dataframe tbody tr th {\n",
       "        vertical-align: top;\n",
       "    }\n",
       "\n",
       "    .dataframe thead th {\n",
       "        text-align: right;\n",
       "    }\n",
       "</style>\n",
       "<table border=\"1\" class=\"dataframe\">\n",
       "  <thead>\n",
       "    <tr style=\"text-align: right;\">\n",
       "      <th></th>\n",
       "      <th>date</th>\n",
       "      <th>overall_rating</th>\n",
       "      <th>potential</th>\n",
       "      <th>preferred_foot</th>\n",
       "      <th>attacking_work_rate</th>\n",
       "      <th>defensive_work_rate</th>\n",
       "      <th>crossing</th>\n",
       "      <th>finishing</th>\n",
       "      <th>heading_accuracy</th>\n",
       "      <th>short_passing</th>\n",
       "      <th>...</th>\n",
       "      <th>vision</th>\n",
       "      <th>penalties</th>\n",
       "      <th>marking</th>\n",
       "      <th>standing_tackle</th>\n",
       "      <th>sliding_tackle</th>\n",
       "      <th>gk_diving</th>\n",
       "      <th>gk_handling</th>\n",
       "      <th>gk_kicking</th>\n",
       "      <th>gk_positioning</th>\n",
       "      <th>gk_reflexes</th>\n",
       "    </tr>\n",
       "  </thead>\n",
       "  <tbody>\n",
       "    <tr>\n",
       "      <th>0</th>\n",
       "      <td>2016-02-18</td>\n",
       "      <td>67.0</td>\n",
       "      <td>71.0</td>\n",
       "      <td>right</td>\n",
       "      <td>medium</td>\n",
       "      <td>medium</td>\n",
       "      <td>49.0</td>\n",
       "      <td>44.0</td>\n",
       "      <td>71.0</td>\n",
       "      <td>61.0</td>\n",
       "      <td>...</td>\n",
       "      <td>54.0</td>\n",
       "      <td>48.0</td>\n",
       "      <td>65.0</td>\n",
       "      <td>69.0</td>\n",
       "      <td>69.0</td>\n",
       "      <td>6.0</td>\n",
       "      <td>11.0</td>\n",
       "      <td>10.0</td>\n",
       "      <td>8.0</td>\n",
       "      <td>8.0</td>\n",
       "    </tr>\n",
       "    <tr>\n",
       "      <th>1</th>\n",
       "      <td>2015-11-19</td>\n",
       "      <td>67.0</td>\n",
       "      <td>71.0</td>\n",
       "      <td>right</td>\n",
       "      <td>medium</td>\n",
       "      <td>medium</td>\n",
       "      <td>49.0</td>\n",
       "      <td>44.0</td>\n",
       "      <td>71.0</td>\n",
       "      <td>61.0</td>\n",
       "      <td>...</td>\n",
       "      <td>54.0</td>\n",
       "      <td>48.0</td>\n",
       "      <td>65.0</td>\n",
       "      <td>69.0</td>\n",
       "      <td>69.0</td>\n",
       "      <td>6.0</td>\n",
       "      <td>11.0</td>\n",
       "      <td>10.0</td>\n",
       "      <td>8.0</td>\n",
       "      <td>8.0</td>\n",
       "    </tr>\n",
       "    <tr>\n",
       "      <th>2</th>\n",
       "      <td>2015-09-21</td>\n",
       "      <td>62.0</td>\n",
       "      <td>66.0</td>\n",
       "      <td>right</td>\n",
       "      <td>medium</td>\n",
       "      <td>medium</td>\n",
       "      <td>49.0</td>\n",
       "      <td>44.0</td>\n",
       "      <td>71.0</td>\n",
       "      <td>61.0</td>\n",
       "      <td>...</td>\n",
       "      <td>54.0</td>\n",
       "      <td>48.0</td>\n",
       "      <td>65.0</td>\n",
       "      <td>66.0</td>\n",
       "      <td>69.0</td>\n",
       "      <td>6.0</td>\n",
       "      <td>11.0</td>\n",
       "      <td>10.0</td>\n",
       "      <td>8.0</td>\n",
       "      <td>8.0</td>\n",
       "    </tr>\n",
       "    <tr>\n",
       "      <th>3</th>\n",
       "      <td>2015-03-20</td>\n",
       "      <td>61.0</td>\n",
       "      <td>65.0</td>\n",
       "      <td>right</td>\n",
       "      <td>medium</td>\n",
       "      <td>medium</td>\n",
       "      <td>48.0</td>\n",
       "      <td>43.0</td>\n",
       "      <td>70.0</td>\n",
       "      <td>60.0</td>\n",
       "      <td>...</td>\n",
       "      <td>53.0</td>\n",
       "      <td>47.0</td>\n",
       "      <td>62.0</td>\n",
       "      <td>63.0</td>\n",
       "      <td>66.0</td>\n",
       "      <td>5.0</td>\n",
       "      <td>10.0</td>\n",
       "      <td>9.0</td>\n",
       "      <td>7.0</td>\n",
       "      <td>7.0</td>\n",
       "    </tr>\n",
       "    <tr>\n",
       "      <th>4</th>\n",
       "      <td>2007-02-22</td>\n",
       "      <td>61.0</td>\n",
       "      <td>65.0</td>\n",
       "      <td>right</td>\n",
       "      <td>medium</td>\n",
       "      <td>medium</td>\n",
       "      <td>48.0</td>\n",
       "      <td>43.0</td>\n",
       "      <td>70.0</td>\n",
       "      <td>60.0</td>\n",
       "      <td>...</td>\n",
       "      <td>53.0</td>\n",
       "      <td>47.0</td>\n",
       "      <td>62.0</td>\n",
       "      <td>63.0</td>\n",
       "      <td>66.0</td>\n",
       "      <td>5.0</td>\n",
       "      <td>10.0</td>\n",
       "      <td>9.0</td>\n",
       "      <td>7.0</td>\n",
       "      <td>7.0</td>\n",
       "    </tr>\n",
       "  </tbody>\n",
       "</table>\n",
       "<p>5 rows × 39 columns</p>\n",
       "</div>"
      ],
      "text/plain": [
       "        date  overall_rating  potential preferred_foot attacking_work_rate  \\\n",
       "0 2016-02-18            67.0       71.0          right              medium   \n",
       "1 2015-11-19            67.0       71.0          right              medium   \n",
       "2 2015-09-21            62.0       66.0          right              medium   \n",
       "3 2015-03-20            61.0       65.0          right              medium   \n",
       "4 2007-02-22            61.0       65.0          right              medium   \n",
       "\n",
       "  defensive_work_rate  crossing  finishing  heading_accuracy  short_passing  \\\n",
       "0              medium      49.0       44.0              71.0           61.0   \n",
       "1              medium      49.0       44.0              71.0           61.0   \n",
       "2              medium      49.0       44.0              71.0           61.0   \n",
       "3              medium      48.0       43.0              70.0           60.0   \n",
       "4              medium      48.0       43.0              70.0           60.0   \n",
       "\n",
       "   ...  vision  penalties  marking  standing_tackle  sliding_tackle  \\\n",
       "0  ...    54.0       48.0     65.0             69.0            69.0   \n",
       "1  ...    54.0       48.0     65.0             69.0            69.0   \n",
       "2  ...    54.0       48.0     65.0             66.0            69.0   \n",
       "3  ...    53.0       47.0     62.0             63.0            66.0   \n",
       "4  ...    53.0       47.0     62.0             63.0            66.0   \n",
       "\n",
       "   gk_diving  gk_handling  gk_kicking  gk_positioning  gk_reflexes  \n",
       "0        6.0         11.0        10.0             8.0          8.0  \n",
       "1        6.0         11.0        10.0             8.0          8.0  \n",
       "2        6.0         11.0        10.0             8.0          8.0  \n",
       "3        5.0         10.0         9.0             7.0          7.0  \n",
       "4        5.0         10.0         9.0             7.0          7.0  \n",
       "\n",
       "[5 rows x 39 columns]"
      ]
     },
     "execution_count": 58,
     "metadata": {},
     "output_type": "execute_result"
    }
   ],
   "source": [
    "# Lets convert date with timestamp values into simple dates\n",
    "dfPlayerAttributes['date'] = pd.to_datetime(dfPlayerAttributes['date'])\n",
    "dfPlayerAttributes[impColumns].head()"
   ]
  },
  {
   "cell_type": "code",
   "execution_count": 59,
   "metadata": {},
   "outputs": [],
   "source": [
    "# Now lets start visualization and statistics"
   ]
  },
  {
   "cell_type": "code",
   "execution_count": 60,
   "metadata": {},
   "outputs": [
    {
     "data": {
      "image/png": "[encoded data removed]",
      "text/plain": [
       "<Figure size 1080x1440 with 36 Axes>"
      ]
     },
     "metadata": {
      "needs_background": "light"
     },
     "output_type": "display_data"
    }
   ],
   "source": [
    "dfPlayerAttributes[impColumns].hist(bins=50, figsize=(15,20))\n",
    "plt.show()"
   ]
  },
  {
   "cell_type": "code",
   "execution_count": 64,
   "metadata": {},
   "outputs": [
    {
     "data": {
      "text/plain": [
       "<matplotlib.axes._subplots.AxesSubplot at 0x22ea7b87358>"
      ]
     },
     "execution_count": 64,
     "metadata": {},
     "output_type": "execute_result"
    },
    {
     "data": {
      "image/png": "[encoded data removed]",
      "text/plain": [
       "<Figure size 1080x1440 with 2 Axes>"
      ]
     },
     "metadata": {
      "needs_background": "light"
     },
     "output_type": "display_data"
    }
   ],
   "source": [
    "#fitsize\n",
    "# Use pd.to_datetime to convert \n",
    "fig, ax = plt.subplots(figsize=(15,20))\n",
    "sns.heatmap(dfPlayerAttributes[impColumns].corr())"
   ]
  },
  {
   "cell_type": "code",
   "execution_count": 65,
   "metadata": {},
   "outputs": [],
   "source": [
    "#Lets drop potential because its similar to overall_Rating and it has highest correlation with dependant variable but it is same as dependant variable"
   ]
  },
  {
   "cell_type": "code",
   "execution_count": null,
   "metadata": {},
   "outputs": [],
   "source": [
    "impColumns.remove('potential')"
   ]
  },
  {
   "cell_type": "code",
   "execution_count": 68,
   "metadata": {},
   "outputs": [],
   "source": [
    "impColumns.remove('overall_rating')"
   ]
  },
  {
   "cell_type": "code",
   "execution_count": null,
   "metadata": {},
   "outputs": [],
   "source": [
    "# Lets convert categorical features into numerical using dummies or factorize because skilearn doesnt allow to train model"
   ]
  },
  {
   "cell_type": "code",
   "execution_count": 69,
   "metadata": {},
   "outputs": [
    {
     "data": {
      "text/html": [
       "<div>\n",
       "<style scoped>\n",
       "    .dataframe tbody tr th:only-of-type {\n",
       "        vertical-align: middle;\n",
       "    }\n",
       "\n",
       "    .dataframe tbody tr th {\n",
       "        vertical-align: top;\n",
       "    }\n",
       "\n",
       "    .dataframe thead th {\n",
       "        text-align: right;\n",
       "    }\n",
       "</style>\n",
       "<table border=\"1\" class=\"dataframe\">\n",
       "  <thead>\n",
       "    <tr style=\"text-align: right;\">\n",
       "      <th></th>\n",
       "      <th>preferred_foot</th>\n",
       "      <th>attacking_work_rate</th>\n",
       "      <th>defensive_work_rate</th>\n",
       "    </tr>\n",
       "  </thead>\n",
       "  <tbody>\n",
       "    <tr>\n",
       "      <th>count</th>\n",
       "      <td>180354</td>\n",
       "      <td>180354</td>\n",
       "      <td>180354</td>\n",
       "    </tr>\n",
       "    <tr>\n",
       "      <th>unique</th>\n",
       "      <td>2</td>\n",
       "      <td>8</td>\n",
       "      <td>18</td>\n",
       "    </tr>\n",
       "    <tr>\n",
       "      <th>top</th>\n",
       "      <td>right</td>\n",
       "      <td>medium</td>\n",
       "      <td>medium</td>\n",
       "    </tr>\n",
       "    <tr>\n",
       "      <th>freq</th>\n",
       "      <td>136247</td>\n",
       "      <td>125070</td>\n",
       "      <td>130846</td>\n",
       "    </tr>\n",
       "  </tbody>\n",
       "</table>\n",
       "</div>"
      ],
      "text/plain": [
       "       preferred_foot attacking_work_rate defensive_work_rate\n",
       "count          180354              180354              180354\n",
       "unique              2                   8                  18\n",
       "top             right              medium              medium\n",
       "freq           136247              125070              130846"
      ]
     },
     "execution_count": 69,
     "metadata": {},
     "output_type": "execute_result"
    }
   ],
   "source": [
    "dfPlayerAttributes[impColumns].describe(include='object')"
   ]
  },
  {
   "cell_type": "code",
   "execution_count": 70,
   "metadata": {},
   "outputs": [
    {
     "data": {
      "text/plain": [
       "Index(['right', 'left'], dtype='object')"
      ]
     },
     "execution_count": 70,
     "metadata": {},
     "output_type": "execute_result"
    }
   ],
   "source": [
    "labels, unique = pd.factorize(dfPlayerAttributes.preferred_foot)\n",
    "unique"
   ]
  },
  {
   "cell_type": "code",
   "execution_count": 71,
   "metadata": {},
   "outputs": [
    {
     "data": {
      "text/plain": [
       "Index(['medium', 'high', 'low', 'None', 'le', 'norm', 'stoc', 'y'], dtype='object')"
      ]
     },
     "execution_count": 71,
     "metadata": {},
     "output_type": "execute_result"
    }
   ],
   "source": [
    "labels, unique = pd.factorize(dfPlayerAttributes.attacking_work_rate)\n",
    "unique"
   ]
  },
  {
   "cell_type": "code",
   "execution_count": 72,
   "metadata": {},
   "outputs": [
    {
     "data": {
      "text/plain": [
       "Index(['medium', 'high', 'low', '5', 'ean', 'o', '1', 'ormal', '7', '2', '8',\n",
       "       '4', 'tocky', '0', '3', '6', '9', 'es'],\n",
       "      dtype='object')"
      ]
     },
     "execution_count": 72,
     "metadata": {},
     "output_type": "execute_result"
    }
   ],
   "source": [
    "labels, unique = pd.factorize(dfPlayerAttributes.defensive_work_rate)\n",
    "unique"
   ]
  },
  {
   "cell_type": "code",
   "execution_count": 73,
   "metadata": {},
   "outputs": [],
   "source": [
    "# From above, it looks like data in these categorical variables are not ordinal and some looks junk data"
   ]
  },
  {
   "cell_type": "code",
   "execution_count": 74,
   "metadata": {},
   "outputs": [],
   "source": [
    "# STILL CONTINUE WITH DUMMIES FOR ALL AND BUILD FIRST MODELTO GET THE INITIAL ACCURACY AND PREDICTION"
   ]
  },
  {
   "cell_type": "code",
   "execution_count": 75,
   "metadata": {},
   "outputs": [],
   "source": [
    "\n",
    "dummyDefensive = pd.get_dummies(dfPlayerAttributes.defensive_work_rate, prefix='defensive', drop_first=True)"
   ]
  },
  {
   "cell_type": "code",
   "execution_count": 76,
   "metadata": {},
   "outputs": [],
   "source": [
    "\n",
    "dummyAttacking = pd.get_dummies(dfPlayerAttributes.attacking_work_rate, prefix='attacking', drop_first=True)"
   ]
  },
  {
   "cell_type": "code",
   "execution_count": 77,
   "metadata": {},
   "outputs": [],
   "source": [
    "dummyPrefFoot = pd.get_dummies(dfPlayerAttributes.preferred_foot, prefix='prefFoot', drop_first=True)"
   ]
  },
  {
   "cell_type": "code",
   "execution_count": 78,
   "metadata": {},
   "outputs": [],
   "source": [
    "dfPlayerAttributes = dfPlayerAttributes.join(dummyDefensive)"
   ]
  },
  {
   "cell_type": "code",
   "execution_count": 79,
   "metadata": {},
   "outputs": [],
   "source": [
    "dfPlayerAttributes = dfPlayerAttributes.join(dummyAttacking)\n",
    "dfPlayerAttributes = dfPlayerAttributes.join(dummyPrefFoot)"
   ]
  },
  {
   "cell_type": "code",
   "execution_count": 80,
   "metadata": {},
   "outputs": [],
   "source": [
    "impColumns.extend(dummyDefensive.columns.values)\n",
    "impColumns.extend(dummyAttacking.columns.values)\n",
    "impColumns.extend(dummyPrefFoot.columns.values)"
   ]
  },
  {
   "cell_type": "code",
   "execution_count": 81,
   "metadata": {},
   "outputs": [],
   "source": [
    "impColumns.remove('date')\n",
    "impColumns.remove('defensive_work_rate')\n",
    "impColumns.remove('attacking_work_rate')\n",
    "impColumns.remove('preferred_foot')"
   ]
  },
  {
   "cell_type": "code",
   "execution_count": 82,
   "metadata": {},
   "outputs": [],
   "source": [
    "x_train, x_test, y_train, y_test = train_test_split(dfPlayerAttributes[impColumns], dfPlayerAttributes['overall_rating'], test_size=0.3\n",
    "                                                   ,random_state=12345)"
   ]
  },
  {
   "cell_type": "code",
   "execution_count": 83,
   "metadata": {},
   "outputs": [
    {
     "data": {
      "text/plain": [
       "(126247, 58)"
      ]
     },
     "execution_count": 83,
     "metadata": {},
     "output_type": "execute_result"
    }
   ],
   "source": [
    "x_train.shape"
   ]
  },
  {
   "cell_type": "code",
   "execution_count": 84,
   "metadata": {},
   "outputs": [
    {
     "data": {
      "text/plain": [
       "(126247,)"
      ]
     },
     "execution_count": 84,
     "metadata": {},
     "output_type": "execute_result"
    }
   ],
   "source": [
    "y_train.shape"
   ]
  },
  {
   "cell_type": "code",
   "execution_count": 85,
   "metadata": {},
   "outputs": [],
   "source": [
    "lrModel = LinearRegression()"
   ]
  },
  {
   "cell_type": "code",
   "execution_count": 86,
   "metadata": {},
   "outputs": [
    {
     "data": {
      "text/plain": [
       "LinearRegression(copy_X=True, fit_intercept=True, n_jobs=None,\n",
       "         normalize=False)"
      ]
     },
     "execution_count": 86,
     "metadata": {},
     "output_type": "execute_result"
    }
   ],
   "source": [
    "lrModel.fit(x_train, y_train)"
   ]
  },
  {
   "cell_type": "code",
   "execution_count": 87,
   "metadata": {},
   "outputs": [
    {
     "data": {
      "text/plain": [
       "0.7860557292656735"
      ]
     },
     "execution_count": 87,
     "metadata": {},
     "output_type": "execute_result"
    }
   ],
   "source": [
    "\n",
    "lrModel.score(x_train, y_train)"
   ]
  },
  {
   "cell_type": "code",
   "execution_count": 88,
   "metadata": {},
   "outputs": [
    {
     "data": {
      "text/plain": [
       "0.7888279632214655"
      ]
     },
     "execution_count": 88,
     "metadata": {},
     "output_type": "execute_result"
    }
   ],
   "source": [
    "lrModel.score(x_test, y_test)"
   ]
  },
  {
   "cell_type": "code",
   "execution_count": 89,
   "metadata": {},
   "outputs": [],
   "source": [
    "y_predicted = lrModel.predict(x_test)"
   ]
  },
  {
   "cell_type": "code",
   "execution_count": 90,
   "metadata": {},
   "outputs": [
    {
     "data": {
      "text/plain": [
       "(54107,)"
      ]
     },
     "execution_count": 90,
     "metadata": {},
     "output_type": "execute_result"
    }
   ],
   "source": [
    "y_test.shape"
   ]
  },
  {
   "cell_type": "code",
   "execution_count": 91,
   "metadata": {},
   "outputs": [
    {
     "name": "stdout",
     "output_type": "stream",
     "text": [
      "Error in prediction is  10.54000231135133\n"
     ]
    }
   ],
   "source": [
    "print('Error in prediction is ', ((y_predicted-y_test)**2).sum()/y_test.shape[0])"
   ]
  },
  {
   "cell_type": "markdown",
   "metadata": {},
   "source": [
    "### After Data Cleaning - Fit model again"
   ]
  },
  {
   "cell_type": "code",
   "execution_count": 92,
   "metadata": {},
   "outputs": [
    {
     "data": {
      "text/html": [
       "<div>\n",
       "<style scoped>\n",
       "    .dataframe tbody tr th:only-of-type {\n",
       "        vertical-align: middle;\n",
       "    }\n",
       "\n",
       "    .dataframe tbody tr th {\n",
       "        vertical-align: top;\n",
       "    }\n",
       "\n",
       "    .dataframe thead th {\n",
       "        text-align: right;\n",
       "    }\n",
       "</style>\n",
       "<table border=\"1\" class=\"dataframe\">\n",
       "  <thead>\n",
       "    <tr style=\"text-align: right;\">\n",
       "      <th></th>\n",
       "      <th>id</th>\n",
       "      <th>player_fifa_api_id</th>\n",
       "      <th>player_api_id</th>\n",
       "      <th>overall_rating</th>\n",
       "      <th>potential</th>\n",
       "      <th>preferred_foot</th>\n",
       "      <th>attacking_work_rate</th>\n",
       "      <th>defensive_work_rate</th>\n",
       "      <th>crossing</th>\n",
       "      <th>finishing</th>\n",
       "      <th>...</th>\n",
       "      <th>defensive_tocky</th>\n",
       "      <th>attacking_high</th>\n",
       "      <th>attacking_le</th>\n",
       "      <th>attacking_low</th>\n",
       "      <th>attacking_medium</th>\n",
       "      <th>attacking_norm</th>\n",
       "      <th>attacking_stoc</th>\n",
       "      <th>attacking_y</th>\n",
       "      <th>prefFoot_right</th>\n",
       "      <th>new_date</th>\n",
       "    </tr>\n",
       "  </thead>\n",
       "  <tbody>\n",
       "    <tr>\n",
       "      <th>0</th>\n",
       "      <td>1</td>\n",
       "      <td>218353</td>\n",
       "      <td>505942</td>\n",
       "      <td>67.0</td>\n",
       "      <td>71.0</td>\n",
       "      <td>right</td>\n",
       "      <td>medium</td>\n",
       "      <td>medium</td>\n",
       "      <td>49.0</td>\n",
       "      <td>44.0</td>\n",
       "      <td>...</td>\n",
       "      <td>0</td>\n",
       "      <td>0</td>\n",
       "      <td>0</td>\n",
       "      <td>0</td>\n",
       "      <td>1</td>\n",
       "      <td>0</td>\n",
       "      <td>0</td>\n",
       "      <td>0</td>\n",
       "      <td>1</td>\n",
       "      <td>2016-02-18</td>\n",
       "    </tr>\n",
       "    <tr>\n",
       "      <th>1</th>\n",
       "      <td>2</td>\n",
       "      <td>218353</td>\n",
       "      <td>505942</td>\n",
       "      <td>67.0</td>\n",
       "      <td>71.0</td>\n",
       "      <td>right</td>\n",
       "      <td>medium</td>\n",
       "      <td>medium</td>\n",
       "      <td>49.0</td>\n",
       "      <td>44.0</td>\n",
       "      <td>...</td>\n",
       "      <td>0</td>\n",
       "      <td>0</td>\n",
       "      <td>0</td>\n",
       "      <td>0</td>\n",
       "      <td>1</td>\n",
       "      <td>0</td>\n",
       "      <td>0</td>\n",
       "      <td>0</td>\n",
       "      <td>1</td>\n",
       "      <td>2015-11-19</td>\n",
       "    </tr>\n",
       "    <tr>\n",
       "      <th>2</th>\n",
       "      <td>3</td>\n",
       "      <td>218353</td>\n",
       "      <td>505942</td>\n",
       "      <td>62.0</td>\n",
       "      <td>66.0</td>\n",
       "      <td>right</td>\n",
       "      <td>medium</td>\n",
       "      <td>medium</td>\n",
       "      <td>49.0</td>\n",
       "      <td>44.0</td>\n",
       "      <td>...</td>\n",
       "      <td>0</td>\n",
       "      <td>0</td>\n",
       "      <td>0</td>\n",
       "      <td>0</td>\n",
       "      <td>1</td>\n",
       "      <td>0</td>\n",
       "      <td>0</td>\n",
       "      <td>0</td>\n",
       "      <td>1</td>\n",
       "      <td>2015-09-21</td>\n",
       "    </tr>\n",
       "    <tr>\n",
       "      <th>3</th>\n",
       "      <td>4</td>\n",
       "      <td>218353</td>\n",
       "      <td>505942</td>\n",
       "      <td>61.0</td>\n",
       "      <td>65.0</td>\n",
       "      <td>right</td>\n",
       "      <td>medium</td>\n",
       "      <td>medium</td>\n",
       "      <td>48.0</td>\n",
       "      <td>43.0</td>\n",
       "      <td>...</td>\n",
       "      <td>0</td>\n",
       "      <td>0</td>\n",
       "      <td>0</td>\n",
       "      <td>0</td>\n",
       "      <td>1</td>\n",
       "      <td>0</td>\n",
       "      <td>0</td>\n",
       "      <td>0</td>\n",
       "      <td>1</td>\n",
       "      <td>2015-03-20</td>\n",
       "    </tr>\n",
       "    <tr>\n",
       "      <th>4</th>\n",
       "      <td>5</td>\n",
       "      <td>218353</td>\n",
       "      <td>505942</td>\n",
       "      <td>61.0</td>\n",
       "      <td>65.0</td>\n",
       "      <td>right</td>\n",
       "      <td>medium</td>\n",
       "      <td>medium</td>\n",
       "      <td>48.0</td>\n",
       "      <td>43.0</td>\n",
       "      <td>...</td>\n",
       "      <td>0</td>\n",
       "      <td>0</td>\n",
       "      <td>0</td>\n",
       "      <td>0</td>\n",
       "      <td>1</td>\n",
       "      <td>0</td>\n",
       "      <td>0</td>\n",
       "      <td>0</td>\n",
       "      <td>1</td>\n",
       "      <td>2007-02-22</td>\n",
       "    </tr>\n",
       "  </tbody>\n",
       "</table>\n",
       "<p>5 rows × 67 columns</p>\n",
       "</div>"
      ],
      "text/plain": [
       "   id  player_fifa_api_id  player_api_id  overall_rating  potential  \\\n",
       "0   1              218353         505942            67.0       71.0   \n",
       "1   2              218353         505942            67.0       71.0   \n",
       "2   3              218353         505942            62.0       66.0   \n",
       "3   4              218353         505942            61.0       65.0   \n",
       "4   5              218353         505942            61.0       65.0   \n",
       "\n",
       "  preferred_foot attacking_work_rate defensive_work_rate  crossing  finishing  \\\n",
       "0          right              medium              medium      49.0       44.0   \n",
       "1          right              medium              medium      49.0       44.0   \n",
       "2          right              medium              medium      49.0       44.0   \n",
       "3          right              medium              medium      48.0       43.0   \n",
       "4          right              medium              medium      48.0       43.0   \n",
       "\n",
       "   ...  defensive_tocky  attacking_high  attacking_le  attacking_low  \\\n",
       "0  ...                0               0             0              0   \n",
       "1  ...                0               0             0              0   \n",
       "2  ...                0               0             0              0   \n",
       "3  ...                0               0             0              0   \n",
       "4  ...                0               0             0              0   \n",
       "\n",
       "   attacking_medium  attacking_norm  attacking_stoc  attacking_y  \\\n",
       "0                 1               0               0            0   \n",
       "1                 1               0               0            0   \n",
       "2                 1               0               0            0   \n",
       "3                 1               0               0            0   \n",
       "4                 1               0               0            0   \n",
       "\n",
       "   prefFoot_right   new_date  \n",
       "0               1 2016-02-18  \n",
       "1               1 2015-11-19  \n",
       "2               1 2015-09-21  \n",
       "3               1 2015-03-20  \n",
       "4               1 2007-02-22  \n",
       "\n",
       "[5 rows x 67 columns]"
      ]
     },
     "execution_count": 92,
     "metadata": {},
     "output_type": "execute_result"
    }
   ],
   "source": [
    "# Lets convert date with timestamp values into simple dates\n",
    "dfPlayerAttributes['new_date'] = pd.to_datetime(dfPlayerAttributes['date'])\n",
    "dfPlayerAttributes.drop(columns='date', inplace=True)\n",
    "dfPlayerAttributes.head()"
   ]
  },
  {
   "cell_type": "code",
   "execution_count": 93,
   "metadata": {},
   "outputs": [
    {
     "data": {
      "text/html": [
       "<div>\n",
       "<style scoped>\n",
       "    .dataframe tbody tr th:only-of-type {\n",
       "        vertical-align: middle;\n",
       "    }\n",
       "\n",
       "    .dataframe tbody tr th {\n",
       "        vertical-align: top;\n",
       "    }\n",
       "\n",
       "    .dataframe thead th {\n",
       "        text-align: right;\n",
       "    }\n",
       "</style>\n",
       "<table border=\"1\" class=\"dataframe\">\n",
       "  <thead>\n",
       "    <tr style=\"text-align: right;\">\n",
       "      <th></th>\n",
       "      <th>id</th>\n",
       "      <th>player_fifa_api_id</th>\n",
       "      <th>player_api_id</th>\n",
       "      <th>overall_rating</th>\n",
       "      <th>potential</th>\n",
       "      <th>preferred_foot</th>\n",
       "      <th>attacking_work_rate</th>\n",
       "      <th>defensive_work_rate</th>\n",
       "      <th>crossing</th>\n",
       "      <th>finishing</th>\n",
       "      <th>...</th>\n",
       "      <th>attacking_high</th>\n",
       "      <th>attacking_le</th>\n",
       "      <th>attacking_low</th>\n",
       "      <th>attacking_medium</th>\n",
       "      <th>attacking_norm</th>\n",
       "      <th>attacking_stoc</th>\n",
       "      <th>attacking_y</th>\n",
       "      <th>prefFoot_right</th>\n",
       "      <th>Year</th>\n",
       "      <th>Month</th>\n",
       "    </tr>\n",
       "  </thead>\n",
       "  <tbody>\n",
       "    <tr>\n",
       "      <th>0</th>\n",
       "      <td>1</td>\n",
       "      <td>218353</td>\n",
       "      <td>505942</td>\n",
       "      <td>67.0</td>\n",
       "      <td>71.0</td>\n",
       "      <td>right</td>\n",
       "      <td>medium</td>\n",
       "      <td>medium</td>\n",
       "      <td>49.0</td>\n",
       "      <td>44.0</td>\n",
       "      <td>...</td>\n",
       "      <td>0</td>\n",
       "      <td>0</td>\n",
       "      <td>0</td>\n",
       "      <td>1</td>\n",
       "      <td>0</td>\n",
       "      <td>0</td>\n",
       "      <td>0</td>\n",
       "      <td>1</td>\n",
       "      <td>2016</td>\n",
       "      <td>2</td>\n",
       "    </tr>\n",
       "    <tr>\n",
       "      <th>1</th>\n",
       "      <td>2</td>\n",
       "      <td>218353</td>\n",
       "      <td>505942</td>\n",
       "      <td>67.0</td>\n",
       "      <td>71.0</td>\n",
       "      <td>right</td>\n",
       "      <td>medium</td>\n",
       "      <td>medium</td>\n",
       "      <td>49.0</td>\n",
       "      <td>44.0</td>\n",
       "      <td>...</td>\n",
       "      <td>0</td>\n",
       "      <td>0</td>\n",
       "      <td>0</td>\n",
       "      <td>1</td>\n",
       "      <td>0</td>\n",
       "      <td>0</td>\n",
       "      <td>0</td>\n",
       "      <td>1</td>\n",
       "      <td>2015</td>\n",
       "      <td>11</td>\n",
       "    </tr>\n",
       "    <tr>\n",
       "      <th>2</th>\n",
       "      <td>3</td>\n",
       "      <td>218353</td>\n",
       "      <td>505942</td>\n",
       "      <td>62.0</td>\n",
       "      <td>66.0</td>\n",
       "      <td>right</td>\n",
       "      <td>medium</td>\n",
       "      <td>medium</td>\n",
       "      <td>49.0</td>\n",
       "      <td>44.0</td>\n",
       "      <td>...</td>\n",
       "      <td>0</td>\n",
       "      <td>0</td>\n",
       "      <td>0</td>\n",
       "      <td>1</td>\n",
       "      <td>0</td>\n",
       "      <td>0</td>\n",
       "      <td>0</td>\n",
       "      <td>1</td>\n",
       "      <td>2015</td>\n",
       "      <td>9</td>\n",
       "    </tr>\n",
       "    <tr>\n",
       "      <th>3</th>\n",
       "      <td>4</td>\n",
       "      <td>218353</td>\n",
       "      <td>505942</td>\n",
       "      <td>61.0</td>\n",
       "      <td>65.0</td>\n",
       "      <td>right</td>\n",
       "      <td>medium</td>\n",
       "      <td>medium</td>\n",
       "      <td>48.0</td>\n",
       "      <td>43.0</td>\n",
       "      <td>...</td>\n",
       "      <td>0</td>\n",
       "      <td>0</td>\n",
       "      <td>0</td>\n",
       "      <td>1</td>\n",
       "      <td>0</td>\n",
       "      <td>0</td>\n",
       "      <td>0</td>\n",
       "      <td>1</td>\n",
       "      <td>2015</td>\n",
       "      <td>3</td>\n",
       "    </tr>\n",
       "    <tr>\n",
       "      <th>4</th>\n",
       "      <td>5</td>\n",
       "      <td>218353</td>\n",
       "      <td>505942</td>\n",
       "      <td>61.0</td>\n",
       "      <td>65.0</td>\n",
       "      <td>right</td>\n",
       "      <td>medium</td>\n",
       "      <td>medium</td>\n",
       "      <td>48.0</td>\n",
       "      <td>43.0</td>\n",
       "      <td>...</td>\n",
       "      <td>0</td>\n",
       "      <td>0</td>\n",
       "      <td>0</td>\n",
       "      <td>1</td>\n",
       "      <td>0</td>\n",
       "      <td>0</td>\n",
       "      <td>0</td>\n",
       "      <td>1</td>\n",
       "      <td>2007</td>\n",
       "      <td>2</td>\n",
       "    </tr>\n",
       "  </tbody>\n",
       "</table>\n",
       "<p>5 rows × 68 columns</p>\n",
       "</div>"
      ],
      "text/plain": [
       "   id  player_fifa_api_id  player_api_id  overall_rating  potential  \\\n",
       "0   1              218353         505942            67.0       71.0   \n",
       "1   2              218353         505942            67.0       71.0   \n",
       "2   3              218353         505942            62.0       66.0   \n",
       "3   4              218353         505942            61.0       65.0   \n",
       "4   5              218353         505942            61.0       65.0   \n",
       "\n",
       "  preferred_foot attacking_work_rate defensive_work_rate  crossing  finishing  \\\n",
       "0          right              medium              medium      49.0       44.0   \n",
       "1          right              medium              medium      49.0       44.0   \n",
       "2          right              medium              medium      49.0       44.0   \n",
       "3          right              medium              medium      48.0       43.0   \n",
       "4          right              medium              medium      48.0       43.0   \n",
       "\n",
       "   ...  attacking_high  attacking_le  attacking_low  attacking_medium  \\\n",
       "0  ...               0             0              0                 1   \n",
       "1  ...               0             0              0                 1   \n",
       "2  ...               0             0              0                 1   \n",
       "3  ...               0             0              0                 1   \n",
       "4  ...               0             0              0                 1   \n",
       "\n",
       "   attacking_norm  attacking_stoc  attacking_y  prefFoot_right  Year  Month  \n",
       "0               0               0            0               1  2016      2  \n",
       "1               0               0            0               1  2015     11  \n",
       "2               0               0            0               1  2015      9  \n",
       "3               0               0            0               1  2015      3  \n",
       "4               0               0            0               1  2007      2  \n",
       "\n",
       "[5 rows x 68 columns]"
      ]
     },
     "execution_count": 93,
     "metadata": {},
     "output_type": "execute_result"
    }
   ],
   "source": [
    "dfPlayerAttributes['Year'] = dfPlayerAttributes['new_date'].dt.year\n",
    "dfPlayerAttributes['Month'] = dfPlayerAttributes['new_date'].dt.month\n",
    "dfPlayerAttributes.drop(columns='new_date', inplace=True)\n",
    "dfPlayerAttributes.head()"
   ]
  },
  {
   "cell_type": "code",
   "execution_count": 94,
   "metadata": {},
   "outputs": [
    {
     "data": {
      "text/plain": [
       "array(['preferred_foot', 'attacking_work_rate', 'defensive_work_rate'],\n",
       "      dtype=object)"
      ]
     },
     "execution_count": 94,
     "metadata": {},
     "output_type": "execute_result"
    }
   ],
   "source": [
    "catObjects = dfPlayerAttributes.dtypes =='object'\n",
    "catColumns = catObjects[catObjects.values].index.values\n",
    "catColumns"
   ]
  },
  {
   "cell_type": "code",
   "execution_count": 95,
   "metadata": {},
   "outputs": [
    {
     "name": "stdout",
     "output_type": "stream",
     "text": [
      "preferred_foot\n",
      "****************************************\n",
      "right    136247\n",
      "left      44107\n",
      "Name: preferred_foot, dtype: int64\n",
      "========================================\n",
      "attacking_work_rate\n",
      "****************************************\n",
      "medium    125070\n",
      "high       42823\n",
      "low         8569\n",
      "None        3317\n",
      "norm         317\n",
      "y             94\n",
      "stoc          86\n",
      "le            78\n",
      "Name: attacking_work_rate, dtype: int64\n",
      "========================================\n",
      "defensive_work_rate\n",
      "****************************************\n",
      "medium    130846\n",
      "high       27041\n",
      "low        18432\n",
      "o           1328\n",
      "1            421\n",
      "2            334\n",
      "ormal        317\n",
      "3            243\n",
      "5            231\n",
      "7            207\n",
      "0            188\n",
      "6            179\n",
      "9            143\n",
      "4            116\n",
      "es            94\n",
      "tocky         86\n",
      "ean           78\n",
      "8             70\n",
      "Name: defensive_work_rate, dtype: int64\n",
      "========================================\n"
     ]
    },
    {
     "data": {
      "image/png": "[encoded data removed]",
      "text/plain": [
       "<Figure size 1440x720 with 3 Axes>"
      ]
     },
     "metadata": {
      "needs_background": "light"
     },
     "output_type": "display_data"
    }
   ],
   "source": [
    "plt.figure(figsize=(20,10))\n",
    "\n",
    "for i in range(0,len(catColumns)):\n",
    "        plt.subplot(2,2,i+1)\n",
    "        sns.countplot(x=catColumns[i], data=dfPlayerAttributes)\n",
    "\n",
    "for i in range(0,len(catColumns)):\n",
    "        print(catColumns[i])\n",
    "        print('*'*40)\n",
    "        print(dfPlayerAttributes[catColumns[i]].value_counts())\n",
    "        print('='*40)"
   ]
  },
  {
   "cell_type": "code",
   "execution_count": 96,
   "metadata": {},
   "outputs": [],
   "source": [
    "# Although we should drop lowest values in a categorical variable but only after statistical tests for mean and variance\n",
    "# But we will do that later and timebeing we will drop them"
   ]
  },
  {
   "cell_type": "code",
   "execution_count": 97,
   "metadata": {},
   "outputs": [],
   "source": [
    "dfPlayerAttributes.loc[dfPlayerAttributes.defensive_work_rate.isin(['_0', 'o']) == True, 'defensive_work_rate'] = 'low'"
   ]
  },
  {
   "cell_type": "code",
   "execution_count": 98,
   "metadata": {},
   "outputs": [
    {
     "data": {
      "text/plain": [
       "array(['medium', 'high', 'low', '5', 'ean', '1', 'ormal', '7', '2', '8',\n",
       "       '4', 'tocky', '0', '3', '6', '9', 'es'], dtype=object)"
      ]
     },
     "execution_count": 98,
     "metadata": {},
     "output_type": "execute_result"
    }
   ],
   "source": [
    "dfPlayerAttributes.defensive_work_rate.unique()"
   ]
  },
  {
   "cell_type": "code",
   "execution_count": 99,
   "metadata": {},
   "outputs": [],
   "source": [
    "dfPlayerAttributes = dfPlayerAttributes[dfPlayerAttributes.defensive_work_rate.isin(['medium', 'high', 'low']) == True]"
   ]
  },
  {
   "cell_type": "code",
   "execution_count": 100,
   "metadata": {},
   "outputs": [],
   "source": [
    "dfPlayerAttributes = dfPlayerAttributes[dfPlayerAttributes.attacking_work_rate.isin(['medium', 'high', 'low']) == True]"
   ]
  },
  {
   "cell_type": "code",
   "execution_count": 101,
   "metadata": {},
   "outputs": [
    {
     "data": {
      "text/plain": [
       "array(['medium', 'high', 'low'], dtype=object)"
      ]
     },
     "execution_count": 101,
     "metadata": {},
     "output_type": "execute_result"
    }
   ],
   "source": [
    "dfPlayerAttributes.defensive_work_rate.unique()"
   ]
  },
  {
   "cell_type": "code",
   "execution_count": 102,
   "metadata": {},
   "outputs": [
    {
     "data": {
      "text/plain": [
       "array(['medium', 'high', 'low'], dtype=object)"
      ]
     },
     "execution_count": 102,
     "metadata": {},
     "output_type": "execute_result"
    }
   ],
   "source": [
    "dfPlayerAttributes.attacking_work_rate.unique()"
   ]
  },
  {
   "cell_type": "code",
   "execution_count": 103,
   "metadata": {},
   "outputs": [
    {
     "data": {
      "text/plain": [
       "array([0, 0, 0, ..., 0, 0, 0], dtype=int64)"
      ]
     },
     "execution_count": 103,
     "metadata": {},
     "output_type": "execute_result"
    }
   ],
   "source": [
    "replaced, unique = pd.factorize(dfPlayerAttributes.attacking_work_rate)\n",
    "replaced"
   ]
  },
  {
   "cell_type": "code",
   "execution_count": 104,
   "metadata": {},
   "outputs": [],
   "source": [
    "dfPlayerAttributes['New_Attacking_WR'] = replaced"
   ]
  },
  {
   "cell_type": "code",
   "execution_count": 105,
   "metadata": {},
   "outputs": [
    {
     "data": {
      "text/plain": [
       "array([0, 0, 0, ..., 2, 2, 2], dtype=int64)"
      ]
     },
     "execution_count": 105,
     "metadata": {},
     "output_type": "execute_result"
    }
   ],
   "source": [
    "replaced, unique = pd.factorize(dfPlayerAttributes.defensive_work_rate)\n",
    "replaced"
   ]
  },
  {
   "cell_type": "code",
   "execution_count": 106,
   "metadata": {},
   "outputs": [],
   "source": [
    "dfPlayerAttributes['New_Defensive_WR'] = replaced"
   ]
  },
  {
   "cell_type": "code",
   "execution_count": 107,
   "metadata": {},
   "outputs": [],
   "source": [
    "dfPlayerAttributes.drop(columns=['attacking_work_rate', 'defensive_work_rate'], inplace=True)"
   ]
  },
  {
   "cell_type": "code",
   "execution_count": 108,
   "metadata": {},
   "outputs": [
    {
     "data": {
      "text/html": [
       "<div>\n",
       "<style scoped>\n",
       "    .dataframe tbody tr th:only-of-type {\n",
       "        vertical-align: middle;\n",
       "    }\n",
       "\n",
       "    .dataframe tbody tr th {\n",
       "        vertical-align: top;\n",
       "    }\n",
       "\n",
       "    .dataframe thead th {\n",
       "        text-align: right;\n",
       "    }\n",
       "</style>\n",
       "<table border=\"1\" class=\"dataframe\">\n",
       "  <thead>\n",
       "    <tr style=\"text-align: right;\">\n",
       "      <th></th>\n",
       "      <th>id</th>\n",
       "      <th>player_fifa_api_id</th>\n",
       "      <th>player_api_id</th>\n",
       "      <th>overall_rating</th>\n",
       "      <th>potential</th>\n",
       "      <th>preferred_foot</th>\n",
       "      <th>crossing</th>\n",
       "      <th>finishing</th>\n",
       "      <th>heading_accuracy</th>\n",
       "      <th>short_passing</th>\n",
       "      <th>...</th>\n",
       "      <th>attacking_low</th>\n",
       "      <th>attacking_medium</th>\n",
       "      <th>attacking_norm</th>\n",
       "      <th>attacking_stoc</th>\n",
       "      <th>attacking_y</th>\n",
       "      <th>prefFoot_right</th>\n",
       "      <th>Year</th>\n",
       "      <th>Month</th>\n",
       "      <th>New_Attacking_WR</th>\n",
       "      <th>New_Defensive_WR</th>\n",
       "    </tr>\n",
       "  </thead>\n",
       "  <tbody>\n",
       "    <tr>\n",
       "      <th>0</th>\n",
       "      <td>1</td>\n",
       "      <td>218353</td>\n",
       "      <td>505942</td>\n",
       "      <td>67.0</td>\n",
       "      <td>71.0</td>\n",
       "      <td>right</td>\n",
       "      <td>49.0</td>\n",
       "      <td>44.0</td>\n",
       "      <td>71.0</td>\n",
       "      <td>61.0</td>\n",
       "      <td>...</td>\n",
       "      <td>0</td>\n",
       "      <td>1</td>\n",
       "      <td>0</td>\n",
       "      <td>0</td>\n",
       "      <td>0</td>\n",
       "      <td>1</td>\n",
       "      <td>2016</td>\n",
       "      <td>2</td>\n",
       "      <td>0</td>\n",
       "      <td>0</td>\n",
       "    </tr>\n",
       "    <tr>\n",
       "      <th>1</th>\n",
       "      <td>2</td>\n",
       "      <td>218353</td>\n",
       "      <td>505942</td>\n",
       "      <td>67.0</td>\n",
       "      <td>71.0</td>\n",
       "      <td>right</td>\n",
       "      <td>49.0</td>\n",
       "      <td>44.0</td>\n",
       "      <td>71.0</td>\n",
       "      <td>61.0</td>\n",
       "      <td>...</td>\n",
       "      <td>0</td>\n",
       "      <td>1</td>\n",
       "      <td>0</td>\n",
       "      <td>0</td>\n",
       "      <td>0</td>\n",
       "      <td>1</td>\n",
       "      <td>2015</td>\n",
       "      <td>11</td>\n",
       "      <td>0</td>\n",
       "      <td>0</td>\n",
       "    </tr>\n",
       "    <tr>\n",
       "      <th>2</th>\n",
       "      <td>3</td>\n",
       "      <td>218353</td>\n",
       "      <td>505942</td>\n",
       "      <td>62.0</td>\n",
       "      <td>66.0</td>\n",
       "      <td>right</td>\n",
       "      <td>49.0</td>\n",
       "      <td>44.0</td>\n",
       "      <td>71.0</td>\n",
       "      <td>61.0</td>\n",
       "      <td>...</td>\n",
       "      <td>0</td>\n",
       "      <td>1</td>\n",
       "      <td>0</td>\n",
       "      <td>0</td>\n",
       "      <td>0</td>\n",
       "      <td>1</td>\n",
       "      <td>2015</td>\n",
       "      <td>9</td>\n",
       "      <td>0</td>\n",
       "      <td>0</td>\n",
       "    </tr>\n",
       "    <tr>\n",
       "      <th>3</th>\n",
       "      <td>4</td>\n",
       "      <td>218353</td>\n",
       "      <td>505942</td>\n",
       "      <td>61.0</td>\n",
       "      <td>65.0</td>\n",
       "      <td>right</td>\n",
       "      <td>48.0</td>\n",
       "      <td>43.0</td>\n",
       "      <td>70.0</td>\n",
       "      <td>60.0</td>\n",
       "      <td>...</td>\n",
       "      <td>0</td>\n",
       "      <td>1</td>\n",
       "      <td>0</td>\n",
       "      <td>0</td>\n",
       "      <td>0</td>\n",
       "      <td>1</td>\n",
       "      <td>2015</td>\n",
       "      <td>3</td>\n",
       "      <td>0</td>\n",
       "      <td>0</td>\n",
       "    </tr>\n",
       "    <tr>\n",
       "      <th>4</th>\n",
       "      <td>5</td>\n",
       "      <td>218353</td>\n",
       "      <td>505942</td>\n",
       "      <td>61.0</td>\n",
       "      <td>65.0</td>\n",
       "      <td>right</td>\n",
       "      <td>48.0</td>\n",
       "      <td>43.0</td>\n",
       "      <td>70.0</td>\n",
       "      <td>60.0</td>\n",
       "      <td>...</td>\n",
       "      <td>0</td>\n",
       "      <td>1</td>\n",
       "      <td>0</td>\n",
       "      <td>0</td>\n",
       "      <td>0</td>\n",
       "      <td>1</td>\n",
       "      <td>2007</td>\n",
       "      <td>2</td>\n",
       "      <td>0</td>\n",
       "      <td>0</td>\n",
       "    </tr>\n",
       "  </tbody>\n",
       "</table>\n",
       "<p>5 rows × 68 columns</p>\n",
       "</div>"
      ],
      "text/plain": [
       "   id  player_fifa_api_id  player_api_id  overall_rating  potential  \\\n",
       "0   1              218353         505942            67.0       71.0   \n",
       "1   2              218353         505942            67.0       71.0   \n",
       "2   3              218353         505942            62.0       66.0   \n",
       "3   4              218353         505942            61.0       65.0   \n",
       "4   5              218353         505942            61.0       65.0   \n",
       "\n",
       "  preferred_foot  crossing  finishing  heading_accuracy  short_passing  ...  \\\n",
       "0          right      49.0       44.0              71.0           61.0  ...   \n",
       "1          right      49.0       44.0              71.0           61.0  ...   \n",
       "2          right      49.0       44.0              71.0           61.0  ...   \n",
       "3          right      48.0       43.0              70.0           60.0  ...   \n",
       "4          right      48.0       43.0              70.0           60.0  ...   \n",
       "\n",
       "   attacking_low  attacking_medium  attacking_norm  attacking_stoc  \\\n",
       "0              0                 1               0               0   \n",
       "1              0                 1               0               0   \n",
       "2              0                 1               0               0   \n",
       "3              0                 1               0               0   \n",
       "4              0                 1               0               0   \n",
       "\n",
       "   attacking_y  prefFoot_right  Year  Month  New_Attacking_WR  \\\n",
       "0            0               1  2016      2                 0   \n",
       "1            0               1  2015     11                 0   \n",
       "2            0               1  2015      9                 0   \n",
       "3            0               1  2015      3                 0   \n",
       "4            0               1  2007      2                 0   \n",
       "\n",
       "   New_Defensive_WR  \n",
       "0                 0  \n",
       "1                 0  \n",
       "2                 0  \n",
       "3                 0  \n",
       "4                 0  \n",
       "\n",
       "[5 rows x 68 columns]"
      ]
     },
     "execution_count": 108,
     "metadata": {},
     "output_type": "execute_result"
    }
   ],
   "source": [
    "\n",
    "dfPlayerAttributes.head()"
   ]
  },
  {
   "cell_type": "code",
   "execution_count": 109,
   "metadata": {},
   "outputs": [
    {
     "data": {
      "text/plain": [
       "id                    False\n",
       "player_fifa_api_id    False\n",
       "player_api_id         False\n",
       "overall_rating        False\n",
       "potential             False\n",
       "preferred_foot        False\n",
       "crossing              False\n",
       "finishing             False\n",
       "heading_accuracy      False\n",
       "short_passing         False\n",
       "volleys               False\n",
       "dribbling             False\n",
       "curve                 False\n",
       "free_kick_accuracy    False\n",
       "long_passing          False\n",
       "ball_control          False\n",
       "acceleration          False\n",
       "sprint_speed          False\n",
       "agility               False\n",
       "reactions             False\n",
       "balance               False\n",
       "shot_power            False\n",
       "jumping               False\n",
       "stamina               False\n",
       "strength              False\n",
       "long_shots            False\n",
       "aggression            False\n",
       "interceptions         False\n",
       "positioning           False\n",
       "vision                False\n",
       "                      ...  \n",
       "gk_reflexes           False\n",
       "defensive_1           False\n",
       "defensive_2           False\n",
       "defensive_3           False\n",
       "defensive_4           False\n",
       "defensive_5           False\n",
       "defensive_6           False\n",
       "defensive_7           False\n",
       "defensive_8           False\n",
       "defensive_9           False\n",
       "defensive_ean         False\n",
       "defensive_es          False\n",
       "defensive_high        False\n",
       "defensive_low         False\n",
       "defensive_medium      False\n",
       "defensive_o           False\n",
       "defensive_ormal       False\n",
       "defensive_tocky       False\n",
       "attacking_high        False\n",
       "attacking_le          False\n",
       "attacking_low         False\n",
       "attacking_medium      False\n",
       "attacking_norm        False\n",
       "attacking_stoc        False\n",
       "attacking_y           False\n",
       "prefFoot_right        False\n",
       "Year                  False\n",
       "Month                 False\n",
       "New_Attacking_WR      False\n",
       "New_Defensive_WR      False\n",
       "Length: 68, dtype: bool"
      ]
     },
     "execution_count": 109,
     "metadata": {},
     "output_type": "execute_result"
    }
   ],
   "source": [
    "\n",
    "dfPlayerAttributes.isna().any()"
   ]
  },
  {
   "cell_type": "code",
   "execution_count": 110,
   "metadata": {},
   "outputs": [],
   "source": [
    "# This is a great finding, all null values were there only for those who had attacking or defensive different than 'low' 'medium' 'high'\n",
    "# Thats why they got dropped"
   ]
  },
  {
   "cell_type": "code",
   "execution_count": 111,
   "metadata": {},
   "outputs": [
    {
     "data": {
      "text/html": [
       "<div>\n",
       "<style scoped>\n",
       "    .dataframe tbody tr th:only-of-type {\n",
       "        vertical-align: middle;\n",
       "    }\n",
       "\n",
       "    .dataframe tbody tr th {\n",
       "        vertical-align: top;\n",
       "    }\n",
       "\n",
       "    .dataframe thead th {\n",
       "        text-align: right;\n",
       "    }\n",
       "</style>\n",
       "<table border=\"1\" class=\"dataframe\">\n",
       "  <thead>\n",
       "    <tr style=\"text-align: right;\">\n",
       "      <th></th>\n",
       "      <th>preferred_foot</th>\n",
       "    </tr>\n",
       "  </thead>\n",
       "  <tbody>\n",
       "    <tr>\n",
       "      <th>count</th>\n",
       "      <td>176161</td>\n",
       "    </tr>\n",
       "    <tr>\n",
       "      <th>unique</th>\n",
       "      <td>2</td>\n",
       "    </tr>\n",
       "    <tr>\n",
       "      <th>top</th>\n",
       "      <td>right</td>\n",
       "    </tr>\n",
       "    <tr>\n",
       "      <th>freq</th>\n",
       "      <td>133102</td>\n",
       "    </tr>\n",
       "  </tbody>\n",
       "</table>\n",
       "</div>"
      ],
      "text/plain": [
       "       preferred_foot\n",
       "count          176161\n",
       "unique              2\n",
       "top             right\n",
       "freq           133102"
      ]
     },
     "execution_count": 111,
     "metadata": {},
     "output_type": "execute_result"
    }
   ],
   "source": [
    "dfPlayerAttributes.describe(include='object')"
   ]
  },
  {
   "cell_type": "code",
   "execution_count": 112,
   "metadata": {},
   "outputs": [
    {
     "data": {
      "text/plain": [
       "(176161, 2)"
      ]
     },
     "execution_count": 112,
     "metadata": {},
     "output_type": "execute_result"
    }
   ],
   "source": [
    "dfPrefFoot = pd.get_dummies(dfPlayerAttributes.preferred_foot, prefix='prefferedFoot')\n",
    "dfPrefFoot.shape"
   ]
  },
  {
   "cell_type": "code",
   "execution_count": 113,
   "metadata": {},
   "outputs": [
    {
     "data": {
      "text/plain": [
       "(176161, 68)"
      ]
     },
     "execution_count": 113,
     "metadata": {},
     "output_type": "execute_result"
    }
   ],
   "source": [
    "\n",
    "dfPlayerAttributes.shape"
   ]
  },
  {
   "cell_type": "code",
   "execution_count": 114,
   "metadata": {},
   "outputs": [],
   "source": [
    "\n",
    "dfPlayerAttributes = dfPlayerAttributes.join(dfPrefFoot)"
   ]
  },
  {
   "cell_type": "code",
   "execution_count": 115,
   "metadata": {},
   "outputs": [],
   "source": [
    "dfPlayerAttributes.drop(columns='preferred_foot', inplace=True)"
   ]
  },
  {
   "cell_type": "code",
   "execution_count": 116,
   "metadata": {},
   "outputs": [],
   "source": [
    "impColumns = dfPlayerAttributes.columns.values.tolist()\n",
    "impColumns.remove('id')\n",
    "impColumns.remove('player_fifa_api_id')\n",
    "impColumns.remove('player_api_id')\n",
    "impColumns.remove('potential')\n",
    "impColumns.remove('overall_rating')"
   ]
  },
  {
   "cell_type": "markdown",
   "metadata": {},
   "source": [
    "### Apply model"
   ]
  },
  {
   "cell_type": "code",
   "execution_count": 117,
   "metadata": {},
   "outputs": [
    {
     "data": {
      "text/plain": [
       "(123312, 64)"
      ]
     },
     "execution_count": 117,
     "metadata": {},
     "output_type": "execute_result"
    }
   ],
   "source": [
    "x_train, x_test, y_train, y_test = train_test_split(dfPlayerAttributes[impColumns], dfPlayerAttributes['overall_rating'], test_size=0.3, random_state=12345)\n",
    "x_train.shape"
   ]
  },
  {
   "cell_type": "code",
   "execution_count": 118,
   "metadata": {},
   "outputs": [],
   "source": [
    "lm = LinearRegression()"
   ]
  },
  {
   "cell_type": "code",
   "execution_count": 119,
   "metadata": {},
   "outputs": [
    {
     "data": {
      "text/plain": [
       "LinearRegression(copy_X=True, fit_intercept=True, n_jobs=None,\n",
       "         normalize=False)"
      ]
     },
     "execution_count": 119,
     "metadata": {},
     "output_type": "execute_result"
    }
   ],
   "source": [
    "lm.fit(x_train, y_train)"
   ]
  },
  {
   "cell_type": "code",
   "execution_count": 120,
   "metadata": {},
   "outputs": [
    {
     "data": {
      "text/plain": [
       "array([-8.35973883e-03,  1.39153396e-02,  1.01048070e-01,  6.78513245e-02,\n",
       "        1.00712503e-03, -1.55419161e-02,  8.97442349e-03,  1.07129147e-02,\n",
       "        1.84703601e-02,  2.25431139e-01,  4.14629436e-02,  5.06485601e-02,\n",
       "       -1.52128116e-02,  2.75660895e-01,  4.33623648e-03,  2.42812548e-02,\n",
       "        9.04472742e-03, -1.53475293e-02,  5.66015787e-02, -2.49608673e-02,\n",
       "        1.04436026e-02,  2.19483113e-02, -2.15071794e-02,  1.65852872e-02,\n",
       "        1.83726507e-02,  3.01050632e-02,  1.08748947e-02, -2.73807933e-02,\n",
       "        1.87862575e-01,  5.63843921e-02, -1.16177965e-02,  7.62437218e-02,\n",
       "        4.79224511e-02,  2.22044605e-16,  4.49293380e-16, -2.49800181e-16,\n",
       "       -2.77555756e-16, -2.77555756e-17, -1.11022302e-16, -2.77555756e-17,\n",
       "        0.00000000e+00,  0.00000000e+00,  0.00000000e+00,  0.00000000e+00,\n",
       "       -9.44368868e-03,  1.09853380e-01, -1.00409692e-01,  0.00000000e+00,\n",
       "        0.00000000e+00,  0.00000000e+00, -4.66224125e-01,  0.00000000e+00,\n",
       "        4.93875136e-01, -2.76510115e-02,  0.00000000e+00,  0.00000000e+00,\n",
       "        0.00000000e+00, -2.73490130e-02,  2.18445059e-01,  2.05408136e-02,\n",
       "        5.21526148e-01,  2.10263072e-01,  2.73490130e-02, -2.73490130e-02])"
      ]
     },
     "execution_count": 120,
     "metadata": {},
     "output_type": "execute_result"
    }
   ],
   "source": [
    "lm.coef_"
   ]
  },
  {
   "cell_type": "code",
   "execution_count": 121,
   "metadata": {},
   "outputs": [
    {
     "data": {
      "text/plain": [
       "-432.84944227208746"
      ]
     },
     "execution_count": 121,
     "metadata": {},
     "output_type": "execute_result"
    }
   ],
   "source": [
    "lm.intercept_"
   ]
  },
  {
   "cell_type": "code",
   "execution_count": 122,
   "metadata": {},
   "outputs": [
    {
     "data": {
      "text/plain": [
       "0.7921442846275699"
      ]
     },
     "execution_count": 122,
     "metadata": {},
     "output_type": "execute_result"
    }
   ],
   "source": [
    "lm.score(x_train, y_train)"
   ]
  },
  {
   "cell_type": "code",
   "execution_count": 123,
   "metadata": {},
   "outputs": [],
   "source": [
    "y_predicted = lm.predict(x_test)"
   ]
  },
  {
   "cell_type": "code",
   "execution_count": 124,
   "metadata": {},
   "outputs": [
    {
     "data": {
      "text/plain": [
       "0.7896677788450712"
      ]
     },
     "execution_count": 124,
     "metadata": {},
     "output_type": "execute_result"
    }
   ],
   "source": [
    "lm.score(x_test, y_test)"
   ]
  },
  {
   "cell_type": "code",
   "execution_count": 125,
   "metadata": {},
   "outputs": [
    {
     "data": {
      "text/plain": [
       "3.198926223364593"
      ]
     },
     "execution_count": 125,
     "metadata": {},
     "output_type": "execute_result"
    }
   ],
   "source": [
    "math.sqrt(np.mean((y_predicted - y_test)**2))"
   ]
  },
  {
   "cell_type": "code",
   "execution_count": 126,
   "metadata": {},
   "outputs": [
    {
     "data": {
      "text/plain": [
       "<matplotlib.axes._subplots.AxesSubplot at 0x22ea80785f8>"
      ]
     },
     "execution_count": 126,
     "metadata": {},
     "output_type": "execute_result"
    },
    {
     "data": {
      "image/png": "[encoded data removed]",
      "text/plain": [
       "<Figure size 432x288 with 1 Axes>"
      ]
     },
     "metadata": {
      "needs_background": "light"
     },
     "output_type": "display_data"
    }
   ],
   "source": [
    "sns.scatterplot(y_test, (y_predicted - y_test))"
   ]
  },
  {
   "cell_type": "code",
   "execution_count": null,
   "metadata": {},
   "outputs": [],
   "source": [
    "# It looks like there is some pattern in variance and predicted values\n",
    "# Relationship looks slightly negative"
   ]
  },
  {
   "cell_type": "markdown",
   "metadata": {},
   "source": [
    "## Lets test for importance of variables in model"
   ]
  },
  {
   "cell_type": "code",
   "execution_count": 127,
   "metadata": {},
   "outputs": [],
   "source": [
    "\n",
    "dumm = pd.read_sql_query('select * from Player_Attributes', conn)"
   ]
  },
  {
   "cell_type": "code",
   "execution_count": 129,
   "metadata": {},
   "outputs": [],
   "source": [
    "dumm.to_csv('SoccerData.csv')"
   ]
  },
  {
   "cell_type": "code",
   "execution_count": 130,
   "metadata": {},
   "outputs": [],
   "source": [
    "model = sm.OLS(y_train, x_train).fit()\n"
   ]
  },
  {
   "cell_type": "code",
   "execution_count": 131,
   "metadata": {},
   "outputs": [
    {
     "name": "stderr",
     "output_type": "stream",
     "text": [
      "C:\\Users\\epadhak\\AppData\\Local\\Continuum\\anaconda3\\lib\\site-packages\\statsmodels\\base\\model.py:1100: RuntimeWarning: invalid value encountered in true_divide\n",
      "  return self.params / self.bse\n",
      "C:\\Users\\epadhak\\AppData\\Local\\Continuum\\anaconda3\\lib\\site-packages\\scipy\\stats\\_distn_infrastructure.py:877: RuntimeWarning: invalid value encountered in greater\n",
      "  return (self.a < x) & (x < self.b)\n",
      "C:\\Users\\epadhak\\AppData\\Local\\Continuum\\anaconda3\\lib\\site-packages\\scipy\\stats\\_distn_infrastructure.py:877: RuntimeWarning: invalid value encountered in less\n",
      "  return (self.a < x) & (x < self.b)\n",
      "C:\\Users\\epadhak\\AppData\\Local\\Continuum\\anaconda3\\lib\\site-packages\\scipy\\stats\\_distn_infrastructure.py:1831: RuntimeWarning: invalid value encountered in less_equal\n",
      "  cond2 = cond0 & (x <= self.a)\n"
     ]
    },
    {
     "data": {
      "text/html": [
       "<table class=\"simpletable\">\n",
       "<caption>OLS Regression Results</caption>\n",
       "<tr>\n",
       "  <th>Dep. Variable:</th>     <td>overall_rating</td>  <th>  R-squared:         </th>  <td>   0.792</td>  \n",
       "</tr>\n",
       "<tr>\n",
       "  <th>Model:</th>                   <td>OLS</td>       <th>  Adj. R-squared:    </th>  <td>   0.792</td>  \n",
       "</tr>\n",
       "<tr>\n",
       "  <th>Method:</th>             <td>Least Squares</td>  <th>  F-statistic:       </th>  <td>1.174e+04</td> \n",
       "</tr>\n",
       "<tr>\n",
       "  <th>Date:</th>             <td>Sun, 21 Jul 2019</td> <th>  Prob (F-statistic):</th>   <td>  0.00</td>   \n",
       "</tr>\n",
       "<tr>\n",
       "  <th>Time:</th>                 <td>12:26:00</td>     <th>  Log-Likelihood:    </th> <td>-3.1884e+05</td>\n",
       "</tr>\n",
       "<tr>\n",
       "  <th>No. Observations:</th>      <td>123312</td>      <th>  AIC:               </th>  <td>6.378e+05</td> \n",
       "</tr>\n",
       "<tr>\n",
       "  <th>Df Residuals:</th>          <td>123271</td>      <th>  BIC:               </th>  <td>6.382e+05</td> \n",
       "</tr>\n",
       "<tr>\n",
       "  <th>Df Model:</th>              <td>    40</td>      <th>                     </th>      <td> </td>     \n",
       "</tr>\n",
       "<tr>\n",
       "  <th>Covariance Type:</th>      <td>nonrobust</td>    <th>                     </th>      <td> </td>     \n",
       "</tr>\n",
       "</table>\n",
       "<table class=\"simpletable\">\n",
       "<tr>\n",
       "           <td></td>              <th>coef</th>     <th>std err</th>      <th>t</th>      <th>P>|t|</th>  <th>[0.025</th>    <th>0.975]</th>  \n",
       "</tr>\n",
       "<tr>\n",
       "  <th>crossing</th>            <td>   -0.0084</td> <td>    0.001</td> <td>   -7.163</td> <td> 0.000</td> <td>   -0.011</td> <td>   -0.006</td>\n",
       "</tr>\n",
       "<tr>\n",
       "  <th>finishing</th>           <td>    0.0139</td> <td>    0.001</td> <td>   10.756</td> <td> 0.000</td> <td>    0.011</td> <td>    0.016</td>\n",
       "</tr>\n",
       "<tr>\n",
       "  <th>heading_accuracy</th>    <td>    0.1010</td> <td>    0.001</td> <td>   89.337</td> <td> 0.000</td> <td>    0.099</td> <td>    0.103</td>\n",
       "</tr>\n",
       "<tr>\n",
       "  <th>short_passing</th>       <td>    0.0679</td> <td>    0.002</td> <td>   34.891</td> <td> 0.000</td> <td>    0.064</td> <td>    0.072</td>\n",
       "</tr>\n",
       "<tr>\n",
       "  <th>volleys</th>             <td>    0.0010</td> <td>    0.001</td> <td>    0.873</td> <td> 0.383</td> <td>   -0.001</td> <td>    0.003</td>\n",
       "</tr>\n",
       "<tr>\n",
       "  <th>dribbling</th>           <td>   -0.0155</td> <td>    0.002</td> <td>   -9.473</td> <td> 0.000</td> <td>   -0.019</td> <td>   -0.012</td>\n",
       "</tr>\n",
       "<tr>\n",
       "  <th>curve</th>               <td>    0.0090</td> <td>    0.001</td> <td>    7.977</td> <td> 0.000</td> <td>    0.007</td> <td>    0.011</td>\n",
       "</tr>\n",
       "<tr>\n",
       "  <th>free_kick_accuracy</th>  <td>    0.0107</td> <td>    0.001</td> <td>   10.729</td> <td> 0.000</td> <td>    0.009</td> <td>    0.013</td>\n",
       "</tr>\n",
       "<tr>\n",
       "  <th>long_passing</th>        <td>    0.0185</td> <td>    0.001</td> <td>   13.950</td> <td> 0.000</td> <td>    0.016</td> <td>    0.021</td>\n",
       "</tr>\n",
       "<tr>\n",
       "  <th>ball_control</th>        <td>    0.2254</td> <td>    0.002</td> <td>  103.952</td> <td> 0.000</td> <td>    0.221</td> <td>    0.230</td>\n",
       "</tr>\n",
       "<tr>\n",
       "  <th>acceleration</th>        <td>    0.0415</td> <td>    0.002</td> <td>   21.617</td> <td> 0.000</td> <td>    0.038</td> <td>    0.045</td>\n",
       "</tr>\n",
       "<tr>\n",
       "  <th>sprint_speed</th>        <td>    0.0506</td> <td>    0.002</td> <td>   27.931</td> <td> 0.000</td> <td>    0.047</td> <td>    0.054</td>\n",
       "</tr>\n",
       "<tr>\n",
       "  <th>agility</th>             <td>   -0.0152</td> <td>    0.001</td> <td>  -10.731</td> <td> 0.000</td> <td>   -0.018</td> <td>   -0.012</td>\n",
       "</tr>\n",
       "<tr>\n",
       "  <th>reactions</th>           <td>    0.2757</td> <td>    0.001</td> <td>  187.039</td> <td> 0.000</td> <td>    0.273</td> <td>    0.279</td>\n",
       "</tr>\n",
       "<tr>\n",
       "  <th>balance</th>             <td>    0.0043</td> <td>    0.001</td> <td>    3.961</td> <td> 0.000</td> <td>    0.002</td> <td>    0.006</td>\n",
       "</tr>\n",
       "<tr>\n",
       "  <th>shot_power</th>          <td>    0.0243</td> <td>    0.001</td> <td>   19.724</td> <td> 0.000</td> <td>    0.022</td> <td>    0.027</td>\n",
       "</tr>\n",
       "<tr>\n",
       "  <th>jumping</th>             <td>    0.0090</td> <td>    0.001</td> <td>    8.922</td> <td> 0.000</td> <td>    0.007</td> <td>    0.011</td>\n",
       "</tr>\n",
       "<tr>\n",
       "  <th>stamina</th>             <td>   -0.0153</td> <td>    0.001</td> <td>  -13.384</td> <td> 0.000</td> <td>   -0.018</td> <td>   -0.013</td>\n",
       "</tr>\n",
       "<tr>\n",
       "  <th>strength</th>            <td>    0.0566</td> <td>    0.001</td> <td>   47.958</td> <td> 0.000</td> <td>    0.054</td> <td>    0.059</td>\n",
       "</tr>\n",
       "<tr>\n",
       "  <th>long_shots</th>          <td>   -0.0250</td> <td>    0.001</td> <td>  -19.439</td> <td> 0.000</td> <td>   -0.027</td> <td>   -0.022</td>\n",
       "</tr>\n",
       "<tr>\n",
       "  <th>aggression</th>          <td>    0.0104</td> <td>    0.001</td> <td>   10.870</td> <td> 0.000</td> <td>    0.009</td> <td>    0.012</td>\n",
       "</tr>\n",
       "<tr>\n",
       "  <th>interceptions</th>       <td>    0.0219</td> <td>    0.001</td> <td>   21.119</td> <td> 0.000</td> <td>    0.020</td> <td>    0.024</td>\n",
       "</tr>\n",
       "<tr>\n",
       "  <th>positioning</th>         <td>   -0.0215</td> <td>    0.001</td> <td>  -19.291</td> <td> 0.000</td> <td>   -0.024</td> <td>   -0.019</td>\n",
       "</tr>\n",
       "<tr>\n",
       "  <th>vision</th>              <td>    0.0166</td> <td>    0.001</td> <td>   13.375</td> <td> 0.000</td> <td>    0.014</td> <td>    0.019</td>\n",
       "</tr>\n",
       "<tr>\n",
       "  <th>penalties</th>           <td>    0.0184</td> <td>    0.001</td> <td>   17.449</td> <td> 0.000</td> <td>    0.016</td> <td>    0.020</td>\n",
       "</tr>\n",
       "<tr>\n",
       "  <th>marking</th>             <td>    0.0301</td> <td>    0.002</td> <td>   19.159</td> <td> 0.000</td> <td>    0.027</td> <td>    0.033</td>\n",
       "</tr>\n",
       "<tr>\n",
       "  <th>standing_tackle</th>     <td>    0.0109</td> <td>    0.002</td> <td>    5.988</td> <td> 0.000</td> <td>    0.007</td> <td>    0.014</td>\n",
       "</tr>\n",
       "<tr>\n",
       "  <th>sliding_tackle</th>      <td>   -0.0274</td> <td>    0.002</td> <td>  -17.671</td> <td> 0.000</td> <td>   -0.030</td> <td>   -0.024</td>\n",
       "</tr>\n",
       "<tr>\n",
       "  <th>gk_diving</th>           <td>    0.1879</td> <td>    0.002</td> <td>   91.061</td> <td> 0.000</td> <td>    0.184</td> <td>    0.192</td>\n",
       "</tr>\n",
       "<tr>\n",
       "  <th>gk_handling</th>         <td>    0.0564</td> <td>    0.003</td> <td>   21.131</td> <td> 0.000</td> <td>    0.051</td> <td>    0.062</td>\n",
       "</tr>\n",
       "<tr>\n",
       "  <th>gk_kicking</th>          <td>   -0.0116</td> <td>    0.001</td> <td>  -11.937</td> <td> 0.000</td> <td>   -0.014</td> <td>   -0.010</td>\n",
       "</tr>\n",
       "<tr>\n",
       "  <th>gk_positioning</th>      <td>    0.0762</td> <td>    0.003</td> <td>   28.705</td> <td> 0.000</td> <td>    0.071</td> <td>    0.081</td>\n",
       "</tr>\n",
       "<tr>\n",
       "  <th>gk_reflexes</th>         <td>    0.0479</td> <td>    0.003</td> <td>   18.378</td> <td> 0.000</td> <td>    0.043</td> <td>    0.053</td>\n",
       "</tr>\n",
       "<tr>\n",
       "  <th>defensive_1</th>         <td>-5.943e-11</td> <td> 1.32e-12</td> <td>  -45.005</td> <td> 0.000</td> <td> -6.2e-11</td> <td>-5.68e-11</td>\n",
       "</tr>\n",
       "<tr>\n",
       "  <th>defensive_2</th>         <td>-2.781e-11</td> <td> 6.18e-13</td> <td>  -45.005</td> <td> 0.000</td> <td> -2.9e-11</td> <td>-2.66e-11</td>\n",
       "</tr>\n",
       "<tr>\n",
       "  <th>defensive_3</th>         <td> 1.237e-11</td> <td> 2.75e-13</td> <td>   45.005</td> <td> 0.000</td> <td> 1.18e-11</td> <td> 1.29e-11</td>\n",
       "</tr>\n",
       "<tr>\n",
       "  <th>defensive_4</th>         <td> 3.713e-11</td> <td> 8.25e-13</td> <td>   45.005</td> <td> 0.000</td> <td> 3.55e-11</td> <td> 3.87e-11</td>\n",
       "</tr>\n",
       "<tr>\n",
       "  <th>defensive_5</th>         <td>-5.601e-14</td> <td> 1.24e-15</td> <td>  -45.005</td> <td> 0.000</td> <td>-5.85e-14</td> <td>-5.36e-14</td>\n",
       "</tr>\n",
       "<tr>\n",
       "  <th>defensive_6</th>         <td>-8.249e-12</td> <td> 1.83e-13</td> <td>  -45.004</td> <td> 0.000</td> <td>-8.61e-12</td> <td>-7.89e-12</td>\n",
       "</tr>\n",
       "<tr>\n",
       "  <th>defensive_7</th>         <td>-9.202e-12</td> <td> 2.04e-13</td> <td>  -45.004</td> <td> 0.000</td> <td> -9.6e-12</td> <td> -8.8e-12</td>\n",
       "</tr>\n",
       "<tr>\n",
       "  <th>defensive_8</th>         <td>         0</td> <td>        0</td> <td>      nan</td> <td>   nan</td> <td>        0</td> <td>        0</td>\n",
       "</tr>\n",
       "<tr>\n",
       "  <th>defensive_9</th>         <td>         0</td> <td>        0</td> <td>      nan</td> <td>   nan</td> <td>        0</td> <td>        0</td>\n",
       "</tr>\n",
       "<tr>\n",
       "  <th>defensive_ean</th>       <td>         0</td> <td>        0</td> <td>      nan</td> <td>   nan</td> <td>        0</td> <td>        0</td>\n",
       "</tr>\n",
       "<tr>\n",
       "  <th>defensive_es</th>        <td>         0</td> <td>        0</td> <td>      nan</td> <td>   nan</td> <td>        0</td> <td>        0</td>\n",
       "</tr>\n",
       "<tr>\n",
       "  <th>defensive_high</th>      <td>  -72.1510</td> <td>    1.604</td> <td>  -44.986</td> <td> 0.000</td> <td>  -75.295</td> <td>  -69.007</td>\n",
       "</tr>\n",
       "<tr>\n",
       "  <th>defensive_low</th>       <td>    0.1099</td> <td>    0.014</td> <td>    7.943</td> <td> 0.000</td> <td>    0.083</td> <td>    0.137</td>\n",
       "</tr>\n",
       "<tr>\n",
       "  <th>defensive_medium</th>    <td> -144.3836</td> <td>    3.206</td> <td>  -45.041</td> <td> 0.000</td> <td> -150.666</td> <td> -138.101</td>\n",
       "</tr>\n",
       "<tr>\n",
       "  <th>defensive_o</th>         <td>         0</td> <td>        0</td> <td>      nan</td> <td>   nan</td> <td>        0</td> <td>        0</td>\n",
       "</tr>\n",
       "<tr>\n",
       "  <th>defensive_ormal</th>     <td>         0</td> <td>        0</td> <td>      nan</td> <td>   nan</td> <td>        0</td> <td>        0</td>\n",
       "</tr>\n",
       "<tr>\n",
       "  <th>defensive_tocky</th>     <td>         0</td> <td>        0</td> <td>      nan</td> <td>   nan</td> <td>        0</td> <td>        0</td>\n",
       "</tr>\n",
       "<tr>\n",
       "  <th>attacking_high</th>      <td>  -72.6078</td> <td>    1.604</td> <td>  -45.269</td> <td> 0.000</td> <td>  -75.751</td> <td>  -69.464</td>\n",
       "</tr>\n",
       "<tr>\n",
       "  <th>attacking_le</th>        <td>         0</td> <td>        0</td> <td>      nan</td> <td>   nan</td> <td>        0</td> <td>        0</td>\n",
       "</tr>\n",
       "<tr>\n",
       "  <th>attacking_low</th>       <td>    0.4939</td> <td>    0.017</td> <td>   29.821</td> <td> 0.000</td> <td>    0.461</td> <td>    0.526</td>\n",
       "</tr>\n",
       "<tr>\n",
       "  <th>attacking_medium</th>    <td> -144.3108</td> <td>    3.205</td> <td>  -45.020</td> <td> 0.000</td> <td> -150.594</td> <td> -138.028</td>\n",
       "</tr>\n",
       "<tr>\n",
       "  <th>attacking_norm</th>      <td>         0</td> <td>        0</td> <td>      nan</td> <td>   nan</td> <td>        0</td> <td>        0</td>\n",
       "</tr>\n",
       "<tr>\n",
       "  <th>attacking_stoc</th>      <td>         0</td> <td>        0</td> <td>      nan</td> <td>   nan</td> <td>        0</td> <td>        0</td>\n",
       "</tr>\n",
       "<tr>\n",
       "  <th>attacking_y</th>         <td>         0</td> <td>        0</td> <td>      nan</td> <td>   nan</td> <td>        0</td> <td>        0</td>\n",
       "</tr>\n",
       "<tr>\n",
       "  <th>prefFoot_right</th>      <td>  -72.1689</td> <td>    1.603</td> <td>  -45.020</td> <td> 0.000</td> <td>  -75.311</td> <td>  -69.027</td>\n",
       "</tr>\n",
       "<tr>\n",
       "  <th>Year</th>                <td>    0.2184</td> <td>    0.005</td> <td>   45.650</td> <td> 0.000</td> <td>    0.209</td> <td>    0.228</td>\n",
       "</tr>\n",
       "<tr>\n",
       "  <th>Month</th>               <td>    0.0205</td> <td>    0.003</td> <td>    7.611</td> <td> 0.000</td> <td>    0.015</td> <td>    0.026</td>\n",
       "</tr>\n",
       "<tr>\n",
       "  <th>New_Attacking_WR</th>    <td>  -71.6200</td> <td>    1.603</td> <td>  -44.676</td> <td> 0.000</td> <td>  -74.762</td> <td>  -68.478</td>\n",
       "</tr>\n",
       "<tr>\n",
       "  <th>New_Defensive_WR</th>    <td>  -71.9313</td> <td>    1.603</td> <td>  -44.876</td> <td> 0.000</td> <td>  -75.073</td> <td>  -68.790</td>\n",
       "</tr>\n",
       "<tr>\n",
       "  <th>prefferedFoot_left</th>  <td> -144.2558</td> <td>    3.206</td> <td>  -44.997</td> <td> 0.000</td> <td> -150.539</td> <td> -137.972</td>\n",
       "</tr>\n",
       "<tr>\n",
       "  <th>prefferedFoot_right</th> <td>  -72.1689</td> <td>    1.603</td> <td>  -45.020</td> <td> 0.000</td> <td>  -75.311</td> <td>  -69.027</td>\n",
       "</tr>\n",
       "</table>\n",
       "<table class=\"simpletable\">\n",
       "<tr>\n",
       "  <th>Omnibus:</th>       <td>3295.601</td> <th>  Durbin-Watson:     </th> <td>   2.013</td>\n",
       "</tr>\n",
       "<tr>\n",
       "  <th>Prob(Omnibus):</th>  <td> 0.000</td>  <th>  Jarque-Bera (JB):  </th> <td>7214.322</td>\n",
       "</tr>\n",
       "<tr>\n",
       "  <th>Skew:</th>           <td> 0.142</td>  <th>  Prob(JB):          </th> <td>    0.00</td>\n",
       "</tr>\n",
       "<tr>\n",
       "  <th>Kurtosis:</th>       <td> 4.150</td>  <th>  Cond. No.          </th> <td>1.05e+16</td>\n",
       "</tr>\n",
       "</table><br/><br/>Warnings:<br/>[1] Standard Errors assume that the covariance matrix of the errors is correctly specified.<br/>[2] The smallest eigenvalue is 4.66e-21. This might indicate that there are<br/>strong multicollinearity problems or that the design matrix is singular."
      ],
      "text/plain": [
       "<class 'statsmodels.iolib.summary.Summary'>\n",
       "\"\"\"\n",
       "                            OLS Regression Results                            \n",
       "==============================================================================\n",
       "Dep. Variable:         overall_rating   R-squared:                       0.792\n",
       "Model:                            OLS   Adj. R-squared:                  0.792\n",
       "Method:                 Least Squares   F-statistic:                 1.174e+04\n",
       "Date:                Sun, 21 Jul 2019   Prob (F-statistic):               0.00\n",
       "Time:                        12:26:00   Log-Likelihood:            -3.1884e+05\n",
       "No. Observations:              123312   AIC:                         6.378e+05\n",
       "Df Residuals:                  123271   BIC:                         6.382e+05\n",
       "Df Model:                          40                                         \n",
       "Covariance Type:            nonrobust                                         \n",
       "=======================================================================================\n",
       "                          coef    std err          t      P>|t|      [0.025      0.975]\n",
       "---------------------------------------------------------------------------------------\n",
       "crossing               -0.0084      0.001     -7.163      0.000      -0.011      -0.006\n",
       "finishing               0.0139      0.001     10.756      0.000       0.011       0.016\n",
       "heading_accuracy        0.1010      0.001     89.337      0.000       0.099       0.103\n",
       "short_passing           0.0679      0.002     34.891      0.000       0.064       0.072\n",
       "volleys                 0.0010      0.001      0.873      0.383      -0.001       0.003\n",
       "dribbling              -0.0155      0.002     -9.473      0.000      -0.019      -0.012\n",
       "curve                   0.0090      0.001      7.977      0.000       0.007       0.011\n",
       "free_kick_accuracy      0.0107      0.001     10.729      0.000       0.009       0.013\n",
       "long_passing            0.0185      0.001     13.950      0.000       0.016       0.021\n",
       "ball_control            0.2254      0.002    103.952      0.000       0.221       0.230\n",
       "acceleration            0.0415      0.002     21.617      0.000       0.038       0.045\n",
       "sprint_speed            0.0506      0.002     27.931      0.000       0.047       0.054\n",
       "agility                -0.0152      0.001    -10.731      0.000      -0.018      -0.012\n",
       "reactions               0.2757      0.001    187.039      0.000       0.273       0.279\n",
       "balance                 0.0043      0.001      3.961      0.000       0.002       0.006\n",
       "shot_power              0.0243      0.001     19.724      0.000       0.022       0.027\n",
       "jumping                 0.0090      0.001      8.922      0.000       0.007       0.011\n",
       "stamina                -0.0153      0.001    -13.384      0.000      -0.018      -0.013\n",
       "strength                0.0566      0.001     47.958      0.000       0.054       0.059\n",
       "long_shots             -0.0250      0.001    -19.439      0.000      -0.027      -0.022\n",
       "aggression              0.0104      0.001     10.870      0.000       0.009       0.012\n",
       "interceptions           0.0219      0.001     21.119      0.000       0.020       0.024\n",
       "positioning            -0.0215      0.001    -19.291      0.000      -0.024      -0.019\n",
       "vision                  0.0166      0.001     13.375      0.000       0.014       0.019\n",
       "penalties               0.0184      0.001     17.449      0.000       0.016       0.020\n",
       "marking                 0.0301      0.002     19.159      0.000       0.027       0.033\n",
       "standing_tackle         0.0109      0.002      5.988      0.000       0.007       0.014\n",
       "sliding_tackle         -0.0274      0.002    -17.671      0.000      -0.030      -0.024\n",
       "gk_diving               0.1879      0.002     91.061      0.000       0.184       0.192\n",
       "gk_handling             0.0564      0.003     21.131      0.000       0.051       0.062\n",
       "gk_kicking             -0.0116      0.001    -11.937      0.000      -0.014      -0.010\n",
       "gk_positioning          0.0762      0.003     28.705      0.000       0.071       0.081\n",
       "gk_reflexes             0.0479      0.003     18.378      0.000       0.043       0.053\n",
       "defensive_1         -5.943e-11   1.32e-12    -45.005      0.000    -6.2e-11   -5.68e-11\n",
       "defensive_2         -2.781e-11   6.18e-13    -45.005      0.000    -2.9e-11   -2.66e-11\n",
       "defensive_3          1.237e-11   2.75e-13     45.005      0.000    1.18e-11    1.29e-11\n",
       "defensive_4          3.713e-11   8.25e-13     45.005      0.000    3.55e-11    3.87e-11\n",
       "defensive_5         -5.601e-14   1.24e-15    -45.005      0.000   -5.85e-14   -5.36e-14\n",
       "defensive_6         -8.249e-12   1.83e-13    -45.004      0.000   -8.61e-12   -7.89e-12\n",
       "defensive_7         -9.202e-12   2.04e-13    -45.004      0.000    -9.6e-12    -8.8e-12\n",
       "defensive_8                  0          0        nan        nan           0           0\n",
       "defensive_9                  0          0        nan        nan           0           0\n",
       "defensive_ean                0          0        nan        nan           0           0\n",
       "defensive_es                 0          0        nan        nan           0           0\n",
       "defensive_high        -72.1510      1.604    -44.986      0.000     -75.295     -69.007\n",
       "defensive_low           0.1099      0.014      7.943      0.000       0.083       0.137\n",
       "defensive_medium     -144.3836      3.206    -45.041      0.000    -150.666    -138.101\n",
       "defensive_o                  0          0        nan        nan           0           0\n",
       "defensive_ormal              0          0        nan        nan           0           0\n",
       "defensive_tocky              0          0        nan        nan           0           0\n",
       "attacking_high        -72.6078      1.604    -45.269      0.000     -75.751     -69.464\n",
       "attacking_le                 0          0        nan        nan           0           0\n",
       "attacking_low           0.4939      0.017     29.821      0.000       0.461       0.526\n",
       "attacking_medium     -144.3108      3.205    -45.020      0.000    -150.594    -138.028\n",
       "attacking_norm               0          0        nan        nan           0           0\n",
       "attacking_stoc               0          0        nan        nan           0           0\n",
       "attacking_y                  0          0        nan        nan           0           0\n",
       "prefFoot_right        -72.1689      1.603    -45.020      0.000     -75.311     -69.027\n",
       "Year                    0.2184      0.005     45.650      0.000       0.209       0.228\n",
       "Month                   0.0205      0.003      7.611      0.000       0.015       0.026\n",
       "New_Attacking_WR      -71.6200      1.603    -44.676      0.000     -74.762     -68.478\n",
       "New_Defensive_WR      -71.9313      1.603    -44.876      0.000     -75.073     -68.790\n",
       "prefferedFoot_left   -144.2558      3.206    -44.997      0.000    -150.539    -137.972\n",
       "prefferedFoot_right   -72.1689      1.603    -45.020      0.000     -75.311     -69.027\n",
       "==============================================================================\n",
       "Omnibus:                     3295.601   Durbin-Watson:                   2.013\n",
       "Prob(Omnibus):                  0.000   Jarque-Bera (JB):             7214.322\n",
       "Skew:                           0.142   Prob(JB):                         0.00\n",
       "Kurtosis:                       4.150   Cond. No.                     1.05e+16\n",
       "==============================================================================\n",
       "\n",
       "Warnings:\n",
       "[1] Standard Errors assume that the covariance matrix of the errors is correctly specified.\n",
       "[2] The smallest eigenvalue is 4.66e-21. This might indicate that there are\n",
       "strong multicollinearity problems or that the design matrix is singular.\n",
       "\"\"\""
      ]
     },
     "execution_count": 131,
     "metadata": {},
     "output_type": "execute_result"
    }
   ],
   "source": [
    "model.summary()"
   ]
  },
  {
   "cell_type": "markdown",
   "metadata": {},
   "source": [
    "### There is not a major improvement in R score. Lets split few variables into Categorical ordinal and try again"
   ]
  },
  {
   "cell_type": "code",
   "execution_count": 132,
   "metadata": {},
   "outputs": [
    {
     "name": "stdout",
     "output_type": "stream",
     "text": [
      "faield\n"
     ]
    }
   ],
   "source": [
    "try:\n",
    "    for i in dfPlayerAttributes.columns:    \n",
    "        if(i.index(\"k_\") > 0):\n",
    "            print(i)\n",
    "except:\n",
    "    print('faield')"
   ]
  },
  {
   "cell_type": "code",
   "execution_count": 133,
   "metadata": {},
   "outputs": [
    {
     "data": {
      "text/plain": [
       "<matplotlib.axes._subplots.AxesSubplot at 0x22ea77ab518>"
      ]
     },
     "execution_count": 133,
     "metadata": {},
     "output_type": "execute_result"
    },
    {
     "data": {
      "image/png": "[encoded data removed]",
      "text/plain": [
       "<Figure size 432x288 with 1 Axes>"
      ]
     },
     "metadata": {
      "needs_background": "light"
     },
     "output_type": "display_data"
    }
   ],
   "source": [
    "dfPlayerAttributes.gk_diving.hist()"
   ]
  },
  {
   "cell_type": "code",
   "execution_count": 134,
   "metadata": {},
   "outputs": [],
   "source": [
    "dfPlayerAttributes.loc[dfPlayerAttributes.gk_diving <= 40, 'gk_diving'] = 0\n",
    "dfPlayerAttributes.loc[dfPlayerAttributes.gk_diving > 40, 'gk_diving'] = 1"
   ]
  },
  {
   "cell_type": "code",
   "execution_count": 135,
   "metadata": {},
   "outputs": [
    {
     "data": {
      "text/plain": [
       "array([0., 1.])"
      ]
     },
     "execution_count": 135,
     "metadata": {},
     "output_type": "execute_result"
    }
   ],
   "source": [
    "dfPlayerAttributes.gk_diving.unique()"
   ]
  },
  {
   "cell_type": "code",
   "execution_count": 136,
   "metadata": {},
   "outputs": [
    {
     "data": {
      "text/plain": [
       "<matplotlib.axes._subplots.AxesSubplot at 0x22ea58107b8>"
      ]
     },
     "execution_count": 136,
     "metadata": {},
     "output_type": "execute_result"
    },
    {
     "data": {
      "image/png": "[encoded data removed]",
      "text/plain": [
       "<Figure size 432x288 with 1 Axes>"
      ]
     },
     "metadata": {
      "needs_background": "light"
     },
     "output_type": "display_data"
    }
   ],
   "source": [
    "dfPlayerAttributes.gk_handling.hist()"
   ]
  },
  {
   "cell_type": "code",
   "execution_count": 137,
   "metadata": {},
   "outputs": [],
   "source": [
    "dfPlayerAttributes.loc[dfPlayerAttributes.gk_handling <= 35, 'gk_handling'] = 0\n",
    "dfPlayerAttributes.loc[dfPlayerAttributes.gk_handling > 35, 'gk_handling'] = 1"
   ]
  },
  {
   "cell_type": "code",
   "execution_count": 138,
   "metadata": {},
   "outputs": [
    {
     "data": {
      "text/plain": [
       "array([0., 1.])"
      ]
     },
     "execution_count": 138,
     "metadata": {},
     "output_type": "execute_result"
    }
   ],
   "source": [
    "dfPlayerAttributes.gk_handling.unique()"
   ]
  },
  {
   "cell_type": "code",
   "execution_count": 139,
   "metadata": {},
   "outputs": [
    {
     "data": {
      "text/plain": [
       "<matplotlib.axes._subplots.AxesSubplot at 0x22ea620c160>"
      ]
     },
     "execution_count": 139,
     "metadata": {},
     "output_type": "execute_result"
    },
    {
     "data": {
      "image/png": "[encoded data removed]",
      "text/plain": [
       "<Figure size 432x288 with 1 Axes>"
      ]
     },
     "metadata": {
      "needs_background": "light"
     },
     "output_type": "display_data"
    }
   ],
   "source": [
    "dfPlayerAttributes.gk_kicking.hist()"
   ]
  },
  {
   "cell_type": "code",
   "execution_count": 140,
   "metadata": {},
   "outputs": [],
   "source": [
    "dfPlayerAttributes.loc[dfPlayerAttributes.gk_kicking <= 25, 'gk_kicking'] = 0\n",
    "dfPlayerAttributes.loc[dfPlayerAttributes.gk_kicking > 25, 'gk_kicking'] = 1"
   ]
  },
  {
   "cell_type": "code",
   "execution_count": 141,
   "metadata": {},
   "outputs": [
    {
     "data": {
      "text/plain": [
       "<matplotlib.axes._subplots.AxesSubplot at 0x22ea61d5c88>"
      ]
     },
     "execution_count": 141,
     "metadata": {},
     "output_type": "execute_result"
    },
    {
     "data": {
      "image/png": "[encoded data removed]",
      "text/plain": [
       "<Figure size 432x288 with 1 Axes>"
      ]
     },
     "metadata": {
      "needs_background": "light"
     },
     "output_type": "display_data"
    }
   ],
   "source": [
    "dfPlayerAttributes.gk_positioning.hist()"
   ]
  },
  {
   "cell_type": "code",
   "execution_count": 142,
   "metadata": {},
   "outputs": [],
   "source": [
    "\n",
    "dfPlayerAttributes.loc[dfPlayerAttributes.gk_positioning <= 35, 'gk_positioning'] = 0\n",
    "dfPlayerAttributes.loc[dfPlayerAttributes.gk_positioning > 35, 'gk_positioning'] = 1"
   ]
  },
  {
   "cell_type": "code",
   "execution_count": 143,
   "metadata": {},
   "outputs": [
    {
     "data": {
      "text/plain": [
       "<matplotlib.axes._subplots.AxesSubplot at 0x22ea3de90b8>"
      ]
     },
     "execution_count": 143,
     "metadata": {},
     "output_type": "execute_result"
    },
    {
     "data": {
      "image/png": "[encoded data removed]",
      "text/plain": [
       "<Figure size 432x288 with 1 Axes>"
      ]
     },
     "metadata": {
      "needs_background": "light"
     },
     "output_type": "display_data"
    }
   ],
   "source": [
    "dfPlayerAttributes.gk_reflexes.hist()"
   ]
  },
  {
   "cell_type": "code",
   "execution_count": 144,
   "metadata": {},
   "outputs": [],
   "source": [
    "dfPlayerAttributes.loc[dfPlayerAttributes.gk_reflexes <= 40, 'gk_reflexes'] = 0\n",
    "dfPlayerAttributes.loc[dfPlayerAttributes.gk_reflexes > 40, 'gk_reflexes'] = 1"
   ]
  },
  {
   "cell_type": "code",
   "execution_count": 145,
   "metadata": {},
   "outputs": [
    {
     "data": {
      "text/plain": [
       "(123312, 64)"
      ]
     },
     "execution_count": 145,
     "metadata": {},
     "output_type": "execute_result"
    }
   ],
   "source": [
    "x_train, x_test, y_train, y_test = train_test_split(dfPlayerAttributes[impColumns], dfPlayerAttributes['overall_rating'], test_size=0.3, random_state=12345)\n",
    "x_train.shape"
   ]
  },
  {
   "cell_type": "markdown",
   "metadata": {},
   "source": [
    "### Lets apply Model now - stats model"
   ]
  },
  {
   "cell_type": "code",
   "execution_count": 146,
   "metadata": {},
   "outputs": [],
   "source": [
    "model = sm.OLS(y_train, x_train).fit()"
   ]
  },
  {
   "cell_type": "code",
   "execution_count": 147,
   "metadata": {},
   "outputs": [
    {
     "data": {
      "text/html": [
       "<table class=\"simpletable\">\n",
       "<caption>OLS Regression Results</caption>\n",
       "<tr>\n",
       "  <th>Dep. Variable:</th>     <td>overall_rating</td>  <th>  R-squared:         </th>  <td>   0.777</td>  \n",
       "</tr>\n",
       "<tr>\n",
       "  <th>Model:</th>                   <td>OLS</td>       <th>  Adj. R-squared:    </th>  <td>   0.777</td>  \n",
       "</tr>\n",
       "<tr>\n",
       "  <th>Method:</th>             <td>Least Squares</td>  <th>  F-statistic:       </th>  <td>1.073e+04</td> \n",
       "</tr>\n",
       "<tr>\n",
       "  <th>Date:</th>             <td>Sun, 21 Jul 2019</td> <th>  Prob (F-statistic):</th>   <td>  0.00</td>   \n",
       "</tr>\n",
       "<tr>\n",
       "  <th>Time:</th>                 <td>12:27:08</td>     <th>  Log-Likelihood:    </th> <td>-3.2320e+05</td>\n",
       "</tr>\n",
       "<tr>\n",
       "  <th>No. Observations:</th>      <td>123312</td>      <th>  AIC:               </th>  <td>6.465e+05</td> \n",
       "</tr>\n",
       "<tr>\n",
       "  <th>Df Residuals:</th>          <td>123271</td>      <th>  BIC:               </th>  <td>6.469e+05</td> \n",
       "</tr>\n",
       "<tr>\n",
       "  <th>Df Model:</th>              <td>    40</td>      <th>                     </th>      <td> </td>     \n",
       "</tr>\n",
       "<tr>\n",
       "  <th>Covariance Type:</th>      <td>nonrobust</td>    <th>                     </th>      <td> </td>     \n",
       "</tr>\n",
       "</table>\n",
       "<table class=\"simpletable\">\n",
       "<tr>\n",
       "           <td></td>              <th>coef</th>     <th>std err</th>      <th>t</th>      <th>P>|t|</th>  <th>[0.025</th>    <th>0.975]</th>  \n",
       "</tr>\n",
       "<tr>\n",
       "  <th>crossing</th>            <td>   -0.0081</td> <td>    0.001</td> <td>   -6.670</td> <td> 0.000</td> <td>   -0.010</td> <td>   -0.006</td>\n",
       "</tr>\n",
       "<tr>\n",
       "  <th>finishing</th>           <td>    0.0149</td> <td>    0.001</td> <td>   11.081</td> <td> 0.000</td> <td>    0.012</td> <td>    0.017</td>\n",
       "</tr>\n",
       "<tr>\n",
       "  <th>heading_accuracy</th>    <td>    0.0949</td> <td>    0.001</td> <td>   80.758</td> <td> 0.000</td> <td>    0.093</td> <td>    0.097</td>\n",
       "</tr>\n",
       "<tr>\n",
       "  <th>short_passing</th>       <td>    0.0647</td> <td>    0.002</td> <td>   32.183</td> <td> 0.000</td> <td>    0.061</td> <td>    0.069</td>\n",
       "</tr>\n",
       "<tr>\n",
       "  <th>volleys</th>             <td>-8.992e-05</td> <td>    0.001</td> <td>   -0.075</td> <td> 0.940</td> <td>   -0.002</td> <td>    0.002</td>\n",
       "</tr>\n",
       "<tr>\n",
       "  <th>dribbling</th>           <td>   -0.0193</td> <td>    0.002</td> <td>  -11.370</td> <td> 0.000</td> <td>   -0.023</td> <td>   -0.016</td>\n",
       "</tr>\n",
       "<tr>\n",
       "  <th>curve</th>               <td>    0.0079</td> <td>    0.001</td> <td>    6.818</td> <td> 0.000</td> <td>    0.006</td> <td>    0.010</td>\n",
       "</tr>\n",
       "<tr>\n",
       "  <th>free_kick_accuracy</th>  <td>    0.0069</td> <td>    0.001</td> <td>    6.700</td> <td> 0.000</td> <td>    0.005</td> <td>    0.009</td>\n",
       "</tr>\n",
       "<tr>\n",
       "  <th>long_passing</th>        <td>    0.0175</td> <td>    0.001</td> <td>   12.606</td> <td> 0.000</td> <td>    0.015</td> <td>    0.020</td>\n",
       "</tr>\n",
       "<tr>\n",
       "  <th>ball_control</th>        <td>    0.2181</td> <td>    0.002</td> <td>   97.014</td> <td> 0.000</td> <td>    0.214</td> <td>    0.223</td>\n",
       "</tr>\n",
       "<tr>\n",
       "  <th>acceleration</th>        <td>    0.0425</td> <td>    0.002</td> <td>   21.390</td> <td> 0.000</td> <td>    0.039</td> <td>    0.046</td>\n",
       "</tr>\n",
       "<tr>\n",
       "  <th>sprint_speed</th>        <td>    0.0554</td> <td>    0.002</td> <td>   29.497</td> <td> 0.000</td> <td>    0.052</td> <td>    0.059</td>\n",
       "</tr>\n",
       "<tr>\n",
       "  <th>agility</th>             <td>   -0.0142</td> <td>    0.001</td> <td>   -9.663</td> <td> 0.000</td> <td>   -0.017</td> <td>   -0.011</td>\n",
       "</tr>\n",
       "<tr>\n",
       "  <th>reactions</th>           <td>    0.2993</td> <td>    0.002</td> <td>  199.402</td> <td> 0.000</td> <td>    0.296</td> <td>    0.302</td>\n",
       "</tr>\n",
       "<tr>\n",
       "  <th>balance</th>             <td>    0.0045</td> <td>    0.001</td> <td>    3.992</td> <td> 0.000</td> <td>    0.002</td> <td>    0.007</td>\n",
       "</tr>\n",
       "<tr>\n",
       "  <th>shot_power</th>          <td>    0.0245</td> <td>    0.001</td> <td>   19.211</td> <td> 0.000</td> <td>    0.022</td> <td>    0.027</td>\n",
       "</tr>\n",
       "<tr>\n",
       "  <th>jumping</th>             <td>    0.0130</td> <td>    0.001</td> <td>   12.411</td> <td> 0.000</td> <td>    0.011</td> <td>    0.015</td>\n",
       "</tr>\n",
       "<tr>\n",
       "  <th>stamina</th>             <td>   -0.0200</td> <td>    0.001</td> <td>  -16.850</td> <td> 0.000</td> <td>   -0.022</td> <td>   -0.018</td>\n",
       "</tr>\n",
       "<tr>\n",
       "  <th>strength</th>            <td>    0.0622</td> <td>    0.001</td> <td>   50.917</td> <td> 0.000</td> <td>    0.060</td> <td>    0.065</td>\n",
       "</tr>\n",
       "<tr>\n",
       "  <th>long_shots</th>          <td>   -0.0273</td> <td>    0.001</td> <td>  -20.556</td> <td> 0.000</td> <td>   -0.030</td> <td>   -0.025</td>\n",
       "</tr>\n",
       "<tr>\n",
       "  <th>aggression</th>          <td>    0.0098</td> <td>    0.001</td> <td>    9.808</td> <td> 0.000</td> <td>    0.008</td> <td>    0.012</td>\n",
       "</tr>\n",
       "<tr>\n",
       "  <th>interceptions</th>       <td>    0.0257</td> <td>    0.001</td> <td>   23.659</td> <td> 0.000</td> <td>    0.024</td> <td>    0.028</td>\n",
       "</tr>\n",
       "<tr>\n",
       "  <th>positioning</th>         <td>   -0.0232</td> <td>    0.001</td> <td>  -20.080</td> <td> 0.000</td> <td>   -0.025</td> <td>   -0.021</td>\n",
       "</tr>\n",
       "<tr>\n",
       "  <th>vision</th>              <td>    0.0254</td> <td>    0.001</td> <td>   19.803</td> <td> 0.000</td> <td>    0.023</td> <td>    0.028</td>\n",
       "</tr>\n",
       "<tr>\n",
       "  <th>penalties</th>           <td>    0.0248</td> <td>    0.001</td> <td>   22.769</td> <td> 0.000</td> <td>    0.023</td> <td>    0.027</td>\n",
       "</tr>\n",
       "<tr>\n",
       "  <th>marking</th>             <td>    0.0324</td> <td>    0.002</td> <td>   19.894</td> <td> 0.000</td> <td>    0.029</td> <td>    0.036</td>\n",
       "</tr>\n",
       "<tr>\n",
       "  <th>standing_tackle</th>     <td>    0.0060</td> <td>    0.002</td> <td>    3.213</td> <td> 0.001</td> <td>    0.002</td> <td>    0.010</td>\n",
       "</tr>\n",
       "<tr>\n",
       "  <th>sliding_tackle</th>      <td>   -0.0276</td> <td>    0.002</td> <td>  -17.171</td> <td> 0.000</td> <td>   -0.031</td> <td>   -0.024</td>\n",
       "</tr>\n",
       "<tr>\n",
       "  <th>gk_diving</th>           <td>    9.6360</td> <td>    1.133</td> <td>    8.504</td> <td> 0.000</td> <td>    7.415</td> <td>   11.857</td>\n",
       "</tr>\n",
       "<tr>\n",
       "  <th>gk_handling</th>         <td>    1.5960</td> <td>    1.576</td> <td>    1.013</td> <td> 0.311</td> <td>   -1.493</td> <td>    4.685</td>\n",
       "</tr>\n",
       "<tr>\n",
       "  <th>gk_kicking</th>          <td>    0.3806</td> <td>    0.041</td> <td>    9.260</td> <td> 0.000</td> <td>    0.300</td> <td>    0.461</td>\n",
       "</tr>\n",
       "<tr>\n",
       "  <th>gk_positioning</th>      <td>    6.7202</td> <td>    1.290</td> <td>    5.208</td> <td> 0.000</td> <td>    4.191</td> <td>    9.249</td>\n",
       "</tr>\n",
       "<tr>\n",
       "  <th>gk_reflexes</th>         <td>    2.1748</td> <td>    1.067</td> <td>    2.039</td> <td> 0.041</td> <td>    0.084</td> <td>    4.266</td>\n",
       "</tr>\n",
       "<tr>\n",
       "  <th>defensive_1</th>         <td>  4.24e-11</td> <td> 1.26e-12</td> <td>   33.726</td> <td> 0.000</td> <td> 3.99e-11</td> <td> 4.49e-11</td>\n",
       "</tr>\n",
       "<tr>\n",
       "  <th>defensive_2</th>         <td>-1.046e-11</td> <td> 3.03e-13</td> <td>  -34.546</td> <td> 0.000</td> <td>-1.11e-11</td> <td>-9.86e-12</td>\n",
       "</tr>\n",
       "<tr>\n",
       "  <th>defensive_3</th>         <td> 5.788e-12</td> <td> 1.69e-13</td> <td>   34.200</td> <td> 0.000</td> <td> 5.46e-12</td> <td> 6.12e-12</td>\n",
       "</tr>\n",
       "<tr>\n",
       "  <th>defensive_4</th>         <td> 5.379e-13</td> <td> 1.75e-14</td> <td>   30.672</td> <td> 0.000</td> <td> 5.04e-13</td> <td> 5.72e-13</td>\n",
       "</tr>\n",
       "<tr>\n",
       "  <th>defensive_5</th>         <td> 2.166e-13</td> <td> 6.63e-15</td> <td>   32.699</td> <td> 0.000</td> <td> 2.04e-13</td> <td>  2.3e-13</td>\n",
       "</tr>\n",
       "<tr>\n",
       "  <th>defensive_6</th>         <td> 2.298e-15</td> <td> 7.55e-16</td> <td>    3.043</td> <td> 0.002</td> <td> 8.18e-16</td> <td> 3.78e-15</td>\n",
       "</tr>\n",
       "<tr>\n",
       "  <th>defensive_7</th>         <td>-3.705e-15</td> <td> 1.32e-15</td> <td>   -2.799</td> <td> 0.005</td> <td> -6.3e-15</td> <td>-1.11e-15</td>\n",
       "</tr>\n",
       "<tr>\n",
       "  <th>defensive_8</th>         <td>         0</td> <td>        0</td> <td>      nan</td> <td>   nan</td> <td>        0</td> <td>        0</td>\n",
       "</tr>\n",
       "<tr>\n",
       "  <th>defensive_9</th>         <td>         0</td> <td>        0</td> <td>      nan</td> <td>   nan</td> <td>        0</td> <td>        0</td>\n",
       "</tr>\n",
       "<tr>\n",
       "  <th>defensive_ean</th>       <td>         0</td> <td>        0</td> <td>      nan</td> <td>   nan</td> <td>        0</td> <td>        0</td>\n",
       "</tr>\n",
       "<tr>\n",
       "  <th>defensive_es</th>        <td>         0</td> <td>        0</td> <td>      nan</td> <td>   nan</td> <td>        0</td> <td>        0</td>\n",
       "</tr>\n",
       "<tr>\n",
       "  <th>defensive_high</th>      <td>  -69.1079</td> <td>    1.711</td> <td>  -40.384</td> <td> 0.000</td> <td>  -72.462</td> <td>  -65.754</td>\n",
       "</tr>\n",
       "<tr>\n",
       "  <th>defensive_low</th>       <td>    0.1246</td> <td>    0.014</td> <td>    8.695</td> <td> 0.000</td> <td>    0.097</td> <td>    0.153</td>\n",
       "</tr>\n",
       "<tr>\n",
       "  <th>defensive_medium</th>    <td> -138.2106</td> <td>    3.420</td> <td>  -40.408</td> <td> 0.000</td> <td> -144.915</td> <td> -131.507</td>\n",
       "</tr>\n",
       "<tr>\n",
       "  <th>defensive_o</th>         <td>         0</td> <td>        0</td> <td>      nan</td> <td>   nan</td> <td>        0</td> <td>        0</td>\n",
       "</tr>\n",
       "<tr>\n",
       "  <th>defensive_ormal</th>     <td>         0</td> <td>        0</td> <td>      nan</td> <td>   nan</td> <td>        0</td> <td>        0</td>\n",
       "</tr>\n",
       "<tr>\n",
       "  <th>defensive_tocky</th>     <td>         0</td> <td>        0</td> <td>      nan</td> <td>   nan</td> <td>        0</td> <td>        0</td>\n",
       "</tr>\n",
       "<tr>\n",
       "  <th>attacking_high</th>      <td>  -69.5604</td> <td>    1.711</td> <td>  -40.648</td> <td> 0.000</td> <td>  -72.915</td> <td>  -66.206</td>\n",
       "</tr>\n",
       "<tr>\n",
       "  <th>attacking_le</th>        <td>         0</td> <td>        0</td> <td>      nan</td> <td>   nan</td> <td>        0</td> <td>        0</td>\n",
       "</tr>\n",
       "<tr>\n",
       "  <th>attacking_low</th>       <td>    0.5054</td> <td>    0.017</td> <td>   29.441</td> <td> 0.000</td> <td>    0.472</td> <td>    0.539</td>\n",
       "</tr>\n",
       "<tr>\n",
       "  <th>attacking_medium</th>    <td> -138.1389</td> <td>    3.420</td> <td>  -40.388</td> <td> 0.000</td> <td> -144.843</td> <td> -131.435</td>\n",
       "</tr>\n",
       "<tr>\n",
       "  <th>attacking_norm</th>      <td>         0</td> <td>        0</td> <td>      nan</td> <td>   nan</td> <td>        0</td> <td>        0</td>\n",
       "</tr>\n",
       "<tr>\n",
       "  <th>attacking_stoc</th>      <td>         0</td> <td>        0</td> <td>      nan</td> <td>   nan</td> <td>        0</td> <td>        0</td>\n",
       "</tr>\n",
       "<tr>\n",
       "  <th>attacking_y</th>         <td>         0</td> <td>        0</td> <td>      nan</td> <td>   nan</td> <td>        0</td> <td>        0</td>\n",
       "</tr>\n",
       "<tr>\n",
       "  <th>prefFoot_right</th>      <td>  -69.1255</td> <td>    1.710</td> <td>  -40.415</td> <td> 0.000</td> <td>  -72.478</td> <td>  -65.773</td>\n",
       "</tr>\n",
       "<tr>\n",
       "  <th>Year</th>                <td>    0.2104</td> <td>    0.005</td> <td>   41.217</td> <td> 0.000</td> <td>    0.200</td> <td>    0.220</td>\n",
       "</tr>\n",
       "<tr>\n",
       "  <th>Month</th>               <td>    0.0293</td> <td>    0.003</td> <td>   10.493</td> <td> 0.000</td> <td>    0.024</td> <td>    0.035</td>\n",
       "</tr>\n",
       "<tr>\n",
       "  <th>New_Attacking_WR</th>    <td>  -68.5496</td> <td>    1.711</td> <td>  -40.075</td> <td> 0.000</td> <td>  -71.902</td> <td>  -65.197</td>\n",
       "</tr>\n",
       "<tr>\n",
       "  <th>New_Defensive_WR</th>    <td>  -68.8587</td> <td>    1.710</td> <td>  -40.261</td> <td> 0.000</td> <td>  -72.211</td> <td>  -65.506</td>\n",
       "</tr>\n",
       "<tr>\n",
       "  <th>prefferedFoot_left</th>  <td> -138.0685</td> <td>    3.421</td> <td>  -40.363</td> <td> 0.000</td> <td> -144.773</td> <td> -131.364</td>\n",
       "</tr>\n",
       "<tr>\n",
       "  <th>prefferedFoot_right</th> <td>  -69.1255</td> <td>    1.710</td> <td>  -40.415</td> <td> 0.000</td> <td>  -72.478</td> <td>  -65.773</td>\n",
       "</tr>\n",
       "</table>\n",
       "<table class=\"simpletable\">\n",
       "<tr>\n",
       "  <th>Omnibus:</th>       <td>5930.634</td> <th>  Durbin-Watson:     </th> <td>   2.009</td> \n",
       "</tr>\n",
       "<tr>\n",
       "  <th>Prob(Omnibus):</th>  <td> 0.000</td>  <th>  Jarque-Bera (JB):  </th> <td>21563.206</td>\n",
       "</tr>\n",
       "<tr>\n",
       "  <th>Skew:</th>           <td> 0.067</td>  <th>  Prob(JB):          </th> <td>    0.00</td> \n",
       "</tr>\n",
       "<tr>\n",
       "  <th>Kurtosis:</th>       <td> 5.044</td>  <th>  Cond. No.          </th> <td>1.05e+16</td> \n",
       "</tr>\n",
       "</table><br/><br/>Warnings:<br/>[1] Standard Errors assume that the covariance matrix of the errors is correctly specified.<br/>[2] The smallest eigenvalue is 4.66e-21. This might indicate that there are<br/>strong multicollinearity problems or that the design matrix is singular."
      ],
      "text/plain": [
       "<class 'statsmodels.iolib.summary.Summary'>\n",
       "\"\"\"\n",
       "                            OLS Regression Results                            \n",
       "==============================================================================\n",
       "Dep. Variable:         overall_rating   R-squared:                       0.777\n",
       "Model:                            OLS   Adj. R-squared:                  0.777\n",
       "Method:                 Least Squares   F-statistic:                 1.073e+04\n",
       "Date:                Sun, 21 Jul 2019   Prob (F-statistic):               0.00\n",
       "Time:                        12:27:08   Log-Likelihood:            -3.2320e+05\n",
       "No. Observations:              123312   AIC:                         6.465e+05\n",
       "Df Residuals:                  123271   BIC:                         6.469e+05\n",
       "Df Model:                          40                                         \n",
       "Covariance Type:            nonrobust                                         \n",
       "=======================================================================================\n",
       "                          coef    std err          t      P>|t|      [0.025      0.975]\n",
       "---------------------------------------------------------------------------------------\n",
       "crossing               -0.0081      0.001     -6.670      0.000      -0.010      -0.006\n",
       "finishing               0.0149      0.001     11.081      0.000       0.012       0.017\n",
       "heading_accuracy        0.0949      0.001     80.758      0.000       0.093       0.097\n",
       "short_passing           0.0647      0.002     32.183      0.000       0.061       0.069\n",
       "volleys             -8.992e-05      0.001     -0.075      0.940      -0.002       0.002\n",
       "dribbling              -0.0193      0.002    -11.370      0.000      -0.023      -0.016\n",
       "curve                   0.0079      0.001      6.818      0.000       0.006       0.010\n",
       "free_kick_accuracy      0.0069      0.001      6.700      0.000       0.005       0.009\n",
       "long_passing            0.0175      0.001     12.606      0.000       0.015       0.020\n",
       "ball_control            0.2181      0.002     97.014      0.000       0.214       0.223\n",
       "acceleration            0.0425      0.002     21.390      0.000       0.039       0.046\n",
       "sprint_speed            0.0554      0.002     29.497      0.000       0.052       0.059\n",
       "agility                -0.0142      0.001     -9.663      0.000      -0.017      -0.011\n",
       "reactions               0.2993      0.002    199.402      0.000       0.296       0.302\n",
       "balance                 0.0045      0.001      3.992      0.000       0.002       0.007\n",
       "shot_power              0.0245      0.001     19.211      0.000       0.022       0.027\n",
       "jumping                 0.0130      0.001     12.411      0.000       0.011       0.015\n",
       "stamina                -0.0200      0.001    -16.850      0.000      -0.022      -0.018\n",
       "strength                0.0622      0.001     50.917      0.000       0.060       0.065\n",
       "long_shots             -0.0273      0.001    -20.556      0.000      -0.030      -0.025\n",
       "aggression              0.0098      0.001      9.808      0.000       0.008       0.012\n",
       "interceptions           0.0257      0.001     23.659      0.000       0.024       0.028\n",
       "positioning            -0.0232      0.001    -20.080      0.000      -0.025      -0.021\n",
       "vision                  0.0254      0.001     19.803      0.000       0.023       0.028\n",
       "penalties               0.0248      0.001     22.769      0.000       0.023       0.027\n",
       "marking                 0.0324      0.002     19.894      0.000       0.029       0.036\n",
       "standing_tackle         0.0060      0.002      3.213      0.001       0.002       0.010\n",
       "sliding_tackle         -0.0276      0.002    -17.171      0.000      -0.031      -0.024\n",
       "gk_diving               9.6360      1.133      8.504      0.000       7.415      11.857\n",
       "gk_handling             1.5960      1.576      1.013      0.311      -1.493       4.685\n",
       "gk_kicking              0.3806      0.041      9.260      0.000       0.300       0.461\n",
       "gk_positioning          6.7202      1.290      5.208      0.000       4.191       9.249\n",
       "gk_reflexes             2.1748      1.067      2.039      0.041       0.084       4.266\n",
       "defensive_1           4.24e-11   1.26e-12     33.726      0.000    3.99e-11    4.49e-11\n",
       "defensive_2         -1.046e-11   3.03e-13    -34.546      0.000   -1.11e-11   -9.86e-12\n",
       "defensive_3          5.788e-12   1.69e-13     34.200      0.000    5.46e-12    6.12e-12\n",
       "defensive_4          5.379e-13   1.75e-14     30.672      0.000    5.04e-13    5.72e-13\n",
       "defensive_5          2.166e-13   6.63e-15     32.699      0.000    2.04e-13     2.3e-13\n",
       "defensive_6          2.298e-15   7.55e-16      3.043      0.002    8.18e-16    3.78e-15\n",
       "defensive_7         -3.705e-15   1.32e-15     -2.799      0.005    -6.3e-15   -1.11e-15\n",
       "defensive_8                  0          0        nan        nan           0           0\n",
       "defensive_9                  0          0        nan        nan           0           0\n",
       "defensive_ean                0          0        nan        nan           0           0\n",
       "defensive_es                 0          0        nan        nan           0           0\n",
       "defensive_high        -69.1079      1.711    -40.384      0.000     -72.462     -65.754\n",
       "defensive_low           0.1246      0.014      8.695      0.000       0.097       0.153\n",
       "defensive_medium     -138.2106      3.420    -40.408      0.000    -144.915    -131.507\n",
       "defensive_o                  0          0        nan        nan           0           0\n",
       "defensive_ormal              0          0        nan        nan           0           0\n",
       "defensive_tocky              0          0        nan        nan           0           0\n",
       "attacking_high        -69.5604      1.711    -40.648      0.000     -72.915     -66.206\n",
       "attacking_le                 0          0        nan        nan           0           0\n",
       "attacking_low           0.5054      0.017     29.441      0.000       0.472       0.539\n",
       "attacking_medium     -138.1389      3.420    -40.388      0.000    -144.843    -131.435\n",
       "attacking_norm               0          0        nan        nan           0           0\n",
       "attacking_stoc               0          0        nan        nan           0           0\n",
       "attacking_y                  0          0        nan        nan           0           0\n",
       "prefFoot_right        -69.1255      1.710    -40.415      0.000     -72.478     -65.773\n",
       "Year                    0.2104      0.005     41.217      0.000       0.200       0.220\n",
       "Month                   0.0293      0.003     10.493      0.000       0.024       0.035\n",
       "New_Attacking_WR      -68.5496      1.711    -40.075      0.000     -71.902     -65.197\n",
       "New_Defensive_WR      -68.8587      1.710    -40.261      0.000     -72.211     -65.506\n",
       "prefferedFoot_left   -138.0685      3.421    -40.363      0.000    -144.773    -131.364\n",
       "prefferedFoot_right   -69.1255      1.710    -40.415      0.000     -72.478     -65.773\n",
       "==============================================================================\n",
       "Omnibus:                     5930.634   Durbin-Watson:                   2.009\n",
       "Prob(Omnibus):                  0.000   Jarque-Bera (JB):            21563.206\n",
       "Skew:                           0.067   Prob(JB):                         0.00\n",
       "Kurtosis:                       5.044   Cond. No.                     1.05e+16\n",
       "==============================================================================\n",
       "\n",
       "Warnings:\n",
       "[1] Standard Errors assume that the covariance matrix of the errors is correctly specified.\n",
       "[2] The smallest eigenvalue is 4.66e-21. This might indicate that there are\n",
       "strong multicollinearity problems or that the design matrix is singular.\n",
       "\"\"\""
      ]
     },
     "execution_count": 147,
     "metadata": {},
     "output_type": "execute_result"
    }
   ],
   "source": [
    "model.summary()"
   ]
  },
  {
   "cell_type": "code",
   "execution_count": 148,
   "metadata": {},
   "outputs": [],
   "source": [
    "# Since volleys and gk_handling has higher pvalue so they are redundant and do not provide any info. Lets drop them"
   ]
  },
  {
   "cell_type": "code",
   "execution_count": 149,
   "metadata": {},
   "outputs": [],
   "source": [
    "impColumns.remove('gk_handling')\n",
    "impColumns.remove('volleys')"
   ]
  },
  {
   "cell_type": "code",
   "execution_count": 150,
   "metadata": {},
   "outputs": [],
   "source": [
    "model = sm.OLS(y_train, x_train[impColumns]).fit()"
   ]
  },
  {
   "cell_type": "code",
   "execution_count": 151,
   "metadata": {},
   "outputs": [
    {
     "data": {
      "text/html": [
       "<table class=\"simpletable\">\n",
       "<caption>OLS Regression Results</caption>\n",
       "<tr>\n",
       "  <th>Dep. Variable:</th>     <td>overall_rating</td>  <th>  R-squared:         </th>  <td>   0.777</td>  \n",
       "</tr>\n",
       "<tr>\n",
       "  <th>Model:</th>                   <td>OLS</td>       <th>  Adj. R-squared:    </th>  <td>   0.777</td>  \n",
       "</tr>\n",
       "<tr>\n",
       "  <th>Method:</th>             <td>Least Squares</td>  <th>  F-statistic:       </th>  <td>1.130e+04</td> \n",
       "</tr>\n",
       "<tr>\n",
       "  <th>Date:</th>             <td>Sun, 21 Jul 2019</td> <th>  Prob (F-statistic):</th>   <td>  0.00</td>   \n",
       "</tr>\n",
       "<tr>\n",
       "  <th>Time:</th>                 <td>12:27:22</td>     <th>  Log-Likelihood:    </th> <td>-3.2320e+05</td>\n",
       "</tr>\n",
       "<tr>\n",
       "  <th>No. Observations:</th>      <td>123312</td>      <th>  AIC:               </th>  <td>6.465e+05</td> \n",
       "</tr>\n",
       "<tr>\n",
       "  <th>Df Residuals:</th>          <td>123273</td>      <th>  BIC:               </th>  <td>6.468e+05</td> \n",
       "</tr>\n",
       "<tr>\n",
       "  <th>Df Model:</th>              <td>    38</td>      <th>                     </th>      <td> </td>     \n",
       "</tr>\n",
       "<tr>\n",
       "  <th>Covariance Type:</th>      <td>nonrobust</td>    <th>                     </th>      <td> </td>     \n",
       "</tr>\n",
       "</table>\n",
       "<table class=\"simpletable\">\n",
       "<tr>\n",
       "           <td></td>              <th>coef</th>     <th>std err</th>      <th>t</th>      <th>P>|t|</th>  <th>[0.025</th>    <th>0.975]</th>  \n",
       "</tr>\n",
       "<tr>\n",
       "  <th>crossing</th>            <td>   -0.0081</td> <td>    0.001</td> <td>   -6.674</td> <td> 0.000</td> <td>   -0.010</td> <td>   -0.006</td>\n",
       "</tr>\n",
       "<tr>\n",
       "  <th>finishing</th>           <td>    0.0148</td> <td>    0.001</td> <td>   11.467</td> <td> 0.000</td> <td>    0.012</td> <td>    0.017</td>\n",
       "</tr>\n",
       "<tr>\n",
       "  <th>heading_accuracy</th>    <td>    0.0949</td> <td>    0.001</td> <td>   80.984</td> <td> 0.000</td> <td>    0.093</td> <td>    0.097</td>\n",
       "</tr>\n",
       "<tr>\n",
       "  <th>short_passing</th>       <td>    0.0647</td> <td>    0.002</td> <td>   32.189</td> <td> 0.000</td> <td>    0.061</td> <td>    0.069</td>\n",
       "</tr>\n",
       "<tr>\n",
       "  <th>dribbling</th>           <td>   -0.0193</td> <td>    0.002</td> <td>  -11.392</td> <td> 0.000</td> <td>   -0.023</td> <td>   -0.016</td>\n",
       "</tr>\n",
       "<tr>\n",
       "  <th>curve</th>               <td>    0.0079</td> <td>    0.001</td> <td>    6.885</td> <td> 0.000</td> <td>    0.006</td> <td>    0.010</td>\n",
       "</tr>\n",
       "<tr>\n",
       "  <th>free_kick_accuracy</th>  <td>    0.0069</td> <td>    0.001</td> <td>    6.696</td> <td> 0.000</td> <td>    0.005</td> <td>    0.009</td>\n",
       "</tr>\n",
       "<tr>\n",
       "  <th>long_passing</th>        <td>    0.0175</td> <td>    0.001</td> <td>   12.686</td> <td> 0.000</td> <td>    0.015</td> <td>    0.020</td>\n",
       "</tr>\n",
       "<tr>\n",
       "  <th>ball_control</th>        <td>    0.2181</td> <td>    0.002</td> <td>   97.019</td> <td> 0.000</td> <td>    0.214</td> <td>    0.223</td>\n",
       "</tr>\n",
       "<tr>\n",
       "  <th>acceleration</th>        <td>    0.0425</td> <td>    0.002</td> <td>   21.398</td> <td> 0.000</td> <td>    0.039</td> <td>    0.046</td>\n",
       "</tr>\n",
       "<tr>\n",
       "  <th>sprint_speed</th>        <td>    0.0554</td> <td>    0.002</td> <td>   29.496</td> <td> 0.000</td> <td>    0.052</td> <td>    0.059</td>\n",
       "</tr>\n",
       "<tr>\n",
       "  <th>agility</th>             <td>   -0.0142</td> <td>    0.001</td> <td>   -9.668</td> <td> 0.000</td> <td>   -0.017</td> <td>   -0.011</td>\n",
       "</tr>\n",
       "<tr>\n",
       "  <th>reactions</th>           <td>    0.2993</td> <td>    0.001</td> <td>  199.765</td> <td> 0.000</td> <td>    0.296</td> <td>    0.302</td>\n",
       "</tr>\n",
       "<tr>\n",
       "  <th>balance</th>             <td>    0.0045</td> <td>    0.001</td> <td>    3.992</td> <td> 0.000</td> <td>    0.002</td> <td>    0.007</td>\n",
       "</tr>\n",
       "<tr>\n",
       "  <th>shot_power</th>          <td>    0.0245</td> <td>    0.001</td> <td>   19.294</td> <td> 0.000</td> <td>    0.022</td> <td>    0.027</td>\n",
       "</tr>\n",
       "<tr>\n",
       "  <th>jumping</th>             <td>    0.0130</td> <td>    0.001</td> <td>   12.416</td> <td> 0.000</td> <td>    0.011</td> <td>    0.015</td>\n",
       "</tr>\n",
       "<tr>\n",
       "  <th>stamina</th>             <td>   -0.0200</td> <td>    0.001</td> <td>  -16.868</td> <td> 0.000</td> <td>   -0.022</td> <td>   -0.018</td>\n",
       "</tr>\n",
       "<tr>\n",
       "  <th>strength</th>            <td>    0.0622</td> <td>    0.001</td> <td>   50.920</td> <td> 0.000</td> <td>    0.060</td> <td>    0.065</td>\n",
       "</tr>\n",
       "<tr>\n",
       "  <th>long_shots</th>          <td>   -0.0274</td> <td>    0.001</td> <td>  -20.775</td> <td> 0.000</td> <td>   -0.030</td> <td>   -0.025</td>\n",
       "</tr>\n",
       "<tr>\n",
       "  <th>aggression</th>          <td>    0.0098</td> <td>    0.001</td> <td>    9.810</td> <td> 0.000</td> <td>    0.008</td> <td>    0.012</td>\n",
       "</tr>\n",
       "<tr>\n",
       "  <th>interceptions</th>       <td>    0.0257</td> <td>    0.001</td> <td>   23.668</td> <td> 0.000</td> <td>    0.024</td> <td>    0.028</td>\n",
       "</tr>\n",
       "<tr>\n",
       "  <th>positioning</th>         <td>   -0.0232</td> <td>    0.001</td> <td>  -20.090</td> <td> 0.000</td> <td>   -0.025</td> <td>   -0.021</td>\n",
       "</tr>\n",
       "<tr>\n",
       "  <th>vision</th>              <td>    0.0254</td> <td>    0.001</td> <td>   19.841</td> <td> 0.000</td> <td>    0.023</td> <td>    0.028</td>\n",
       "</tr>\n",
       "<tr>\n",
       "  <th>penalties</th>           <td>    0.0248</td> <td>    0.001</td> <td>   22.796</td> <td> 0.000</td> <td>    0.023</td> <td>    0.027</td>\n",
       "</tr>\n",
       "<tr>\n",
       "  <th>marking</th>             <td>    0.0324</td> <td>    0.002</td> <td>   19.957</td> <td> 0.000</td> <td>    0.029</td> <td>    0.036</td>\n",
       "</tr>\n",
       "<tr>\n",
       "  <th>standing_tackle</th>     <td>    0.0060</td> <td>    0.002</td> <td>    3.210</td> <td> 0.001</td> <td>    0.002</td> <td>    0.010</td>\n",
       "</tr>\n",
       "<tr>\n",
       "  <th>sliding_tackle</th>      <td>   -0.0276</td> <td>    0.002</td> <td>  -17.197</td> <td> 0.000</td> <td>   -0.031</td> <td>   -0.024</td>\n",
       "</tr>\n",
       "<tr>\n",
       "  <th>gk_diving</th>           <td>   10.2945</td> <td>    0.928</td> <td>   11.095</td> <td> 0.000</td> <td>    8.476</td> <td>   12.113</td>\n",
       "</tr>\n",
       "<tr>\n",
       "  <th>gk_kicking</th>          <td>    0.3806</td> <td>    0.041</td> <td>    9.273</td> <td> 0.000</td> <td>    0.300</td> <td>    0.461</td>\n",
       "</tr>\n",
       "<tr>\n",
       "  <th>gk_positioning</th>      <td>    7.3995</td> <td>    1.103</td> <td>    6.710</td> <td> 0.000</td> <td>    5.238</td> <td>    9.561</td>\n",
       "</tr>\n",
       "<tr>\n",
       "  <th>gk_reflexes</th>         <td>    2.4311</td> <td>    1.036</td> <td>    2.347</td> <td> 0.019</td> <td>    0.401</td> <td>    4.462</td>\n",
       "</tr>\n",
       "<tr>\n",
       "  <th>defensive_1</th>         <td>-8.313e-11</td> <td> 2.05e-12</td> <td>  -40.533</td> <td> 0.000</td> <td>-8.72e-11</td> <td>-7.91e-11</td>\n",
       "</tr>\n",
       "<tr>\n",
       "  <th>defensive_2</th>         <td>-6.323e-11</td> <td> 1.57e-12</td> <td>  -40.388</td> <td> 0.000</td> <td>-6.63e-11</td> <td>-6.02e-11</td>\n",
       "</tr>\n",
       "<tr>\n",
       "  <th>defensive_3</th>         <td>-6.842e-12</td> <td> 1.69e-13</td> <td>  -40.470</td> <td> 0.000</td> <td>-7.17e-12</td> <td>-6.51e-12</td>\n",
       "</tr>\n",
       "<tr>\n",
       "  <th>defensive_4</th>         <td> 9.626e-13</td> <td> 2.42e-14</td> <td>   39.695</td> <td> 0.000</td> <td> 9.15e-13</td> <td> 1.01e-12</td>\n",
       "</tr>\n",
       "<tr>\n",
       "  <th>defensive_5</th>         <td>-3.552e-13</td> <td> 8.92e-15</td> <td>  -39.818</td> <td> 0.000</td> <td>-3.73e-13</td> <td>-3.38e-13</td>\n",
       "</tr>\n",
       "<tr>\n",
       "  <th>defensive_6</th>         <td> 2.291e-13</td> <td> 5.66e-15</td> <td>   40.454</td> <td> 0.000</td> <td> 2.18e-13</td> <td>  2.4e-13</td>\n",
       "</tr>\n",
       "<tr>\n",
       "  <th>defensive_7</th>         <td>         0</td> <td>        0</td> <td>      nan</td> <td>   nan</td> <td>        0</td> <td>        0</td>\n",
       "</tr>\n",
       "<tr>\n",
       "  <th>defensive_8</th>         <td>         0</td> <td>        0</td> <td>      nan</td> <td>   nan</td> <td>        0</td> <td>        0</td>\n",
       "</tr>\n",
       "<tr>\n",
       "  <th>defensive_9</th>         <td>         0</td> <td>        0</td> <td>      nan</td> <td>   nan</td> <td>        0</td> <td>        0</td>\n",
       "</tr>\n",
       "<tr>\n",
       "  <th>defensive_ean</th>       <td>         0</td> <td>        0</td> <td>      nan</td> <td>   nan</td> <td>        0</td> <td>        0</td>\n",
       "</tr>\n",
       "<tr>\n",
       "  <th>defensive_es</th>        <td>         0</td> <td>        0</td> <td>      nan</td> <td>   nan</td> <td>        0</td> <td>        0</td>\n",
       "</tr>\n",
       "<tr>\n",
       "  <th>defensive_high</th>      <td>  -69.1060</td> <td>    1.711</td> <td>  -40.397</td> <td> 0.000</td> <td>  -72.459</td> <td>  -65.753</td>\n",
       "</tr>\n",
       "<tr>\n",
       "  <th>defensive_low</th>       <td>    0.1246</td> <td>    0.014</td> <td>    8.696</td> <td> 0.000</td> <td>    0.097</td> <td>    0.153</td>\n",
       "</tr>\n",
       "<tr>\n",
       "  <th>defensive_medium</th>    <td> -138.2068</td> <td>    3.419</td> <td>  -40.420</td> <td> 0.000</td> <td> -144.908</td> <td> -131.505</td>\n",
       "</tr>\n",
       "<tr>\n",
       "  <th>defensive_o</th>         <td>         0</td> <td>        0</td> <td>      nan</td> <td>   nan</td> <td>        0</td> <td>        0</td>\n",
       "</tr>\n",
       "<tr>\n",
       "  <th>defensive_ormal</th>     <td>         0</td> <td>        0</td> <td>      nan</td> <td>   nan</td> <td>        0</td> <td>        0</td>\n",
       "</tr>\n",
       "<tr>\n",
       "  <th>defensive_tocky</th>     <td>         0</td> <td>        0</td> <td>      nan</td> <td>   nan</td> <td>        0</td> <td>        0</td>\n",
       "</tr>\n",
       "<tr>\n",
       "  <th>attacking_high</th>      <td>  -69.5584</td> <td>    1.711</td> <td>  -40.660</td> <td> 0.000</td> <td>  -72.911</td> <td>  -66.205</td>\n",
       "</tr>\n",
       "<tr>\n",
       "  <th>attacking_le</th>        <td>         0</td> <td>        0</td> <td>      nan</td> <td>   nan</td> <td>        0</td> <td>        0</td>\n",
       "</tr>\n",
       "<tr>\n",
       "  <th>attacking_low</th>       <td>    0.5054</td> <td>    0.017</td> <td>   29.436</td> <td> 0.000</td> <td>    0.472</td> <td>    0.539</td>\n",
       "</tr>\n",
       "<tr>\n",
       "  <th>attacking_medium</th>    <td> -138.1351</td> <td>    3.419</td> <td>  -40.401</td> <td> 0.000</td> <td> -144.837</td> <td> -131.434</td>\n",
       "</tr>\n",
       "<tr>\n",
       "  <th>attacking_norm</th>      <td>         0</td> <td>        0</td> <td>      nan</td> <td>   nan</td> <td>        0</td> <td>        0</td>\n",
       "</tr>\n",
       "<tr>\n",
       "  <th>attacking_stoc</th>      <td>         0</td> <td>        0</td> <td>      nan</td> <td>   nan</td> <td>        0</td> <td>        0</td>\n",
       "</tr>\n",
       "<tr>\n",
       "  <th>attacking_y</th>         <td>         0</td> <td>        0</td> <td>      nan</td> <td>   nan</td> <td>        0</td> <td>        0</td>\n",
       "</tr>\n",
       "<tr>\n",
       "  <th>prefFoot_right</th>      <td>  -69.1236</td> <td>    1.710</td> <td>  -40.427</td> <td> 0.000</td> <td>  -72.475</td> <td>  -65.772</td>\n",
       "</tr>\n",
       "<tr>\n",
       "  <th>Year</th>                <td>    0.2104</td> <td>    0.005</td> <td>   41.231</td> <td> 0.000</td> <td>    0.200</td> <td>    0.220</td>\n",
       "</tr>\n",
       "<tr>\n",
       "  <th>Month</th>               <td>    0.0293</td> <td>    0.003</td> <td>   10.494</td> <td> 0.000</td> <td>    0.024</td> <td>    0.035</td>\n",
       "</tr>\n",
       "<tr>\n",
       "  <th>New_Attacking_WR</th>    <td>  -68.5477</td> <td>    1.710</td> <td>  -40.087</td> <td> 0.000</td> <td>  -71.899</td> <td>  -65.196</td>\n",
       "</tr>\n",
       "<tr>\n",
       "  <th>New_Defensive_WR</th>    <td>  -68.8568</td> <td>    1.710</td> <td>  -40.273</td> <td> 0.000</td> <td>  -72.208</td> <td>  -65.506</td>\n",
       "</tr>\n",
       "<tr>\n",
       "  <th>prefferedFoot_left</th>  <td> -138.0646</td> <td>    3.420</td> <td>  -40.375</td> <td> 0.000</td> <td> -144.767</td> <td> -131.362</td>\n",
       "</tr>\n",
       "<tr>\n",
       "  <th>prefferedFoot_right</th> <td>  -69.1236</td> <td>    1.710</td> <td>  -40.427</td> <td> 0.000</td> <td>  -72.475</td> <td>  -65.772</td>\n",
       "</tr>\n",
       "</table>\n",
       "<table class=\"simpletable\">\n",
       "<tr>\n",
       "  <th>Omnibus:</th>       <td>5931.612</td> <th>  Durbin-Watson:     </th> <td>   2.009</td> \n",
       "</tr>\n",
       "<tr>\n",
       "  <th>Prob(Omnibus):</th>  <td> 0.000</td>  <th>  Jarque-Bera (JB):  </th> <td>21573.612</td>\n",
       "</tr>\n",
       "<tr>\n",
       "  <th>Skew:</th>           <td> 0.067</td>  <th>  Prob(JB):          </th> <td>    0.00</td> \n",
       "</tr>\n",
       "<tr>\n",
       "  <th>Kurtosis:</th>       <td> 5.045</td>  <th>  Cond. No.          </th> <td>1.05e+16</td> \n",
       "</tr>\n",
       "</table><br/><br/>Warnings:<br/>[1] Standard Errors assume that the covariance matrix of the errors is correctly specified.<br/>[2] The smallest eigenvalue is 4.65e-21. This might indicate that there are<br/>strong multicollinearity problems or that the design matrix is singular."
      ],
      "text/plain": [
       "<class 'statsmodels.iolib.summary.Summary'>\n",
       "\"\"\"\n",
       "                            OLS Regression Results                            \n",
       "==============================================================================\n",
       "Dep. Variable:         overall_rating   R-squared:                       0.777\n",
       "Model:                            OLS   Adj. R-squared:                  0.777\n",
       "Method:                 Least Squares   F-statistic:                 1.130e+04\n",
       "Date:                Sun, 21 Jul 2019   Prob (F-statistic):               0.00\n",
       "Time:                        12:27:22   Log-Likelihood:            -3.2320e+05\n",
       "No. Observations:              123312   AIC:                         6.465e+05\n",
       "Df Residuals:                  123273   BIC:                         6.468e+05\n",
       "Df Model:                          38                                         \n",
       "Covariance Type:            nonrobust                                         \n",
       "=======================================================================================\n",
       "                          coef    std err          t      P>|t|      [0.025      0.975]\n",
       "---------------------------------------------------------------------------------------\n",
       "crossing               -0.0081      0.001     -6.674      0.000      -0.010      -0.006\n",
       "finishing               0.0148      0.001     11.467      0.000       0.012       0.017\n",
       "heading_accuracy        0.0949      0.001     80.984      0.000       0.093       0.097\n",
       "short_passing           0.0647      0.002     32.189      0.000       0.061       0.069\n",
       "dribbling              -0.0193      0.002    -11.392      0.000      -0.023      -0.016\n",
       "curve                   0.0079      0.001      6.885      0.000       0.006       0.010\n",
       "free_kick_accuracy      0.0069      0.001      6.696      0.000       0.005       0.009\n",
       "long_passing            0.0175      0.001     12.686      0.000       0.015       0.020\n",
       "ball_control            0.2181      0.002     97.019      0.000       0.214       0.223\n",
       "acceleration            0.0425      0.002     21.398      0.000       0.039       0.046\n",
       "sprint_speed            0.0554      0.002     29.496      0.000       0.052       0.059\n",
       "agility                -0.0142      0.001     -9.668      0.000      -0.017      -0.011\n",
       "reactions               0.2993      0.001    199.765      0.000       0.296       0.302\n",
       "balance                 0.0045      0.001      3.992      0.000       0.002       0.007\n",
       "shot_power              0.0245      0.001     19.294      0.000       0.022       0.027\n",
       "jumping                 0.0130      0.001     12.416      0.000       0.011       0.015\n",
       "stamina                -0.0200      0.001    -16.868      0.000      -0.022      -0.018\n",
       "strength                0.0622      0.001     50.920      0.000       0.060       0.065\n",
       "long_shots             -0.0274      0.001    -20.775      0.000      -0.030      -0.025\n",
       "aggression              0.0098      0.001      9.810      0.000       0.008       0.012\n",
       "interceptions           0.0257      0.001     23.668      0.000       0.024       0.028\n",
       "positioning            -0.0232      0.001    -20.090      0.000      -0.025      -0.021\n",
       "vision                  0.0254      0.001     19.841      0.000       0.023       0.028\n",
       "penalties               0.0248      0.001     22.796      0.000       0.023       0.027\n",
       "marking                 0.0324      0.002     19.957      0.000       0.029       0.036\n",
       "standing_tackle         0.0060      0.002      3.210      0.001       0.002       0.010\n",
       "sliding_tackle         -0.0276      0.002    -17.197      0.000      -0.031      -0.024\n",
       "gk_diving              10.2945      0.928     11.095      0.000       8.476      12.113\n",
       "gk_kicking              0.3806      0.041      9.273      0.000       0.300       0.461\n",
       "gk_positioning          7.3995      1.103      6.710      0.000       5.238       9.561\n",
       "gk_reflexes             2.4311      1.036      2.347      0.019       0.401       4.462\n",
       "defensive_1         -8.313e-11   2.05e-12    -40.533      0.000   -8.72e-11   -7.91e-11\n",
       "defensive_2         -6.323e-11   1.57e-12    -40.388      0.000   -6.63e-11   -6.02e-11\n",
       "defensive_3         -6.842e-12   1.69e-13    -40.470      0.000   -7.17e-12   -6.51e-12\n",
       "defensive_4          9.626e-13   2.42e-14     39.695      0.000    9.15e-13    1.01e-12\n",
       "defensive_5         -3.552e-13   8.92e-15    -39.818      0.000   -3.73e-13   -3.38e-13\n",
       "defensive_6          2.291e-13   5.66e-15     40.454      0.000    2.18e-13     2.4e-13\n",
       "defensive_7                  0          0        nan        nan           0           0\n",
       "defensive_8                  0          0        nan        nan           0           0\n",
       "defensive_9                  0          0        nan        nan           0           0\n",
       "defensive_ean                0          0        nan        nan           0           0\n",
       "defensive_es                 0          0        nan        nan           0           0\n",
       "defensive_high        -69.1060      1.711    -40.397      0.000     -72.459     -65.753\n",
       "defensive_low           0.1246      0.014      8.696      0.000       0.097       0.153\n",
       "defensive_medium     -138.2068      3.419    -40.420      0.000    -144.908    -131.505\n",
       "defensive_o                  0          0        nan        nan           0           0\n",
       "defensive_ormal              0          0        nan        nan           0           0\n",
       "defensive_tocky              0          0        nan        nan           0           0\n",
       "attacking_high        -69.5584      1.711    -40.660      0.000     -72.911     -66.205\n",
       "attacking_le                 0          0        nan        nan           0           0\n",
       "attacking_low           0.5054      0.017     29.436      0.000       0.472       0.539\n",
       "attacking_medium     -138.1351      3.419    -40.401      0.000    -144.837    -131.434\n",
       "attacking_norm               0          0        nan        nan           0           0\n",
       "attacking_stoc               0          0        nan        nan           0           0\n",
       "attacking_y                  0          0        nan        nan           0           0\n",
       "prefFoot_right        -69.1236      1.710    -40.427      0.000     -72.475     -65.772\n",
       "Year                    0.2104      0.005     41.231      0.000       0.200       0.220\n",
       "Month                   0.0293      0.003     10.494      0.000       0.024       0.035\n",
       "New_Attacking_WR      -68.5477      1.710    -40.087      0.000     -71.899     -65.196\n",
       "New_Defensive_WR      -68.8568      1.710    -40.273      0.000     -72.208     -65.506\n",
       "prefferedFoot_left   -138.0646      3.420    -40.375      0.000    -144.767    -131.362\n",
       "prefferedFoot_right   -69.1236      1.710    -40.427      0.000     -72.475     -65.772\n",
       "==============================================================================\n",
       "Omnibus:                     5931.612   Durbin-Watson:                   2.009\n",
       "Prob(Omnibus):                  0.000   Jarque-Bera (JB):            21573.612\n",
       "Skew:                           0.067   Prob(JB):                         0.00\n",
       "Kurtosis:                       5.045   Cond. No.                     1.05e+16\n",
       "==============================================================================\n",
       "\n",
       "Warnings:\n",
       "[1] Standard Errors assume that the covariance matrix of the errors is correctly specified.\n",
       "[2] The smallest eigenvalue is 4.65e-21. This might indicate that there are\n",
       "strong multicollinearity problems or that the design matrix is singular.\n",
       "\"\"\""
      ]
     },
     "execution_count": 151,
     "metadata": {},
     "output_type": "execute_result"
    }
   ],
   "source": [
    "model.summary()"
   ]
  },
  {
   "cell_type": "code",
   "execution_count": 152,
   "metadata": {},
   "outputs": [],
   "source": [
    "y_predicted = model.predict(x_test[impColumns])"
   ]
  },
  {
   "cell_type": "code",
   "execution_count": 153,
   "metadata": {},
   "outputs": [
    {
     "data": {
      "text/html": [
       "<div>\n",
       "<style scoped>\n",
       "    .dataframe tbody tr th:only-of-type {\n",
       "        vertical-align: middle;\n",
       "    }\n",
       "\n",
       "    .dataframe tbody tr th {\n",
       "        vertical-align: top;\n",
       "    }\n",
       "\n",
       "    .dataframe thead th {\n",
       "        text-align: right;\n",
       "    }\n",
       "</style>\n",
       "<table border=\"1\" class=\"dataframe\">\n",
       "  <thead>\n",
       "    <tr style=\"text-align: right;\">\n",
       "      <th></th>\n",
       "      <th>0</th>\n",
       "      <th>1</th>\n",
       "    </tr>\n",
       "  </thead>\n",
       "  <tbody>\n",
       "    <tr>\n",
       "      <th>crossing</th>\n",
       "      <td>-1.043277e-02</td>\n",
       "      <td>-5.695864e-03</td>\n",
       "    </tr>\n",
       "    <tr>\n",
       "      <th>finishing</th>\n",
       "      <td>1.229033e-02</td>\n",
       "      <td>1.735782e-02</td>\n",
       "    </tr>\n",
       "    <tr>\n",
       "      <th>heading_accuracy</th>\n",
       "      <td>9.256943e-02</td>\n",
       "      <td>9.716130e-02</td>\n",
       "    </tr>\n",
       "    <tr>\n",
       "      <th>short_passing</th>\n",
       "      <td>6.077299e-02</td>\n",
       "      <td>6.865380e-02</td>\n",
       "    </tr>\n",
       "    <tr>\n",
       "      <th>dribbling</th>\n",
       "      <td>-2.265584e-02</td>\n",
       "      <td>-1.600438e-02</td>\n",
       "    </tr>\n",
       "    <tr>\n",
       "      <th>curve</th>\n",
       "      <td>5.670817e-03</td>\n",
       "      <td>1.018468e-02</td>\n",
       "    </tr>\n",
       "    <tr>\n",
       "      <th>free_kick_accuracy</th>\n",
       "      <td>4.890567e-03</td>\n",
       "      <td>8.938084e-03</td>\n",
       "    </tr>\n",
       "    <tr>\n",
       "      <th>long_passing</th>\n",
       "      <td>1.483645e-02</td>\n",
       "      <td>2.025870e-02</td>\n",
       "    </tr>\n",
       "    <tr>\n",
       "      <th>ball_control</th>\n",
       "      <td>2.136978e-01</td>\n",
       "      <td>2.225101e-01</td>\n",
       "    </tr>\n",
       "    <tr>\n",
       "      <th>acceleration</th>\n",
       "      <td>3.860616e-02</td>\n",
       "      <td>4.639176e-02</td>\n",
       "    </tr>\n",
       "    <tr>\n",
       "      <th>sprint_speed</th>\n",
       "      <td>5.173382e-02</td>\n",
       "      <td>5.909844e-02</td>\n",
       "    </tr>\n",
       "    <tr>\n",
       "      <th>agility</th>\n",
       "      <td>-1.705835e-02</td>\n",
       "      <td>-1.130757e-02</td>\n",
       "    </tr>\n",
       "    <tr>\n",
       "      <th>reactions</th>\n",
       "      <td>2.963992e-01</td>\n",
       "      <td>3.022731e-01</td>\n",
       "    </tr>\n",
       "    <tr>\n",
       "      <th>balance</th>\n",
       "      <td>2.305681e-03</td>\n",
       "      <td>6.752780e-03</td>\n",
       "    </tr>\n",
       "    <tr>\n",
       "      <th>shot_power</th>\n",
       "      <td>2.200388e-02</td>\n",
       "      <td>2.697988e-02</td>\n",
       "    </tr>\n",
       "    <tr>\n",
       "      <th>jumping</th>\n",
       "      <td>1.097016e-02</td>\n",
       "      <td>1.508304e-02</td>\n",
       "    </tr>\n",
       "    <tr>\n",
       "      <th>stamina</th>\n",
       "      <td>-2.233731e-02</td>\n",
       "      <td>-1.768671e-02</td>\n",
       "    </tr>\n",
       "    <tr>\n",
       "      <th>strength</th>\n",
       "      <td>5.976700e-02</td>\n",
       "      <td>6.455218e-02</td>\n",
       "    </tr>\n",
       "    <tr>\n",
       "      <th>long_shots</th>\n",
       "      <td>-2.994202e-02</td>\n",
       "      <td>-2.477942e-02</td>\n",
       "    </tr>\n",
       "    <tr>\n",
       "      <th>aggression</th>\n",
       "      <td>7.818669e-03</td>\n",
       "      <td>1.172283e-02</td>\n",
       "    </tr>\n",
       "    <tr>\n",
       "      <th>interceptions</th>\n",
       "      <td>2.354108e-02</td>\n",
       "      <td>2.779203e-02</td>\n",
       "    </tr>\n",
       "    <tr>\n",
       "      <th>positioning</th>\n",
       "      <td>-2.543412e-02</td>\n",
       "      <td>-2.091264e-02</td>\n",
       "    </tr>\n",
       "    <tr>\n",
       "      <th>vision</th>\n",
       "      <td>2.292010e-02</td>\n",
       "      <td>2.794483e-02</td>\n",
       "    </tr>\n",
       "    <tr>\n",
       "      <th>penalties</th>\n",
       "      <td>2.265982e-02</td>\n",
       "      <td>2.692300e-02</td>\n",
       "    </tr>\n",
       "    <tr>\n",
       "      <th>marking</th>\n",
       "      <td>2.920474e-02</td>\n",
       "      <td>3.556599e-02</td>\n",
       "    </tr>\n",
       "    <tr>\n",
       "      <th>standing_tackle</th>\n",
       "      <td>2.350316e-03</td>\n",
       "      <td>9.720386e-03</td>\n",
       "    </tr>\n",
       "    <tr>\n",
       "      <th>sliding_tackle</th>\n",
       "      <td>-3.071630e-02</td>\n",
       "      <td>-2.443104e-02</td>\n",
       "    </tr>\n",
       "    <tr>\n",
       "      <th>gk_diving</th>\n",
       "      <td>8.475988e+00</td>\n",
       "      <td>1.211309e+01</td>\n",
       "    </tr>\n",
       "    <tr>\n",
       "      <th>gk_kicking</th>\n",
       "      <td>3.001621e-01</td>\n",
       "      <td>4.610476e-01</td>\n",
       "    </tr>\n",
       "    <tr>\n",
       "      <th>gk_positioning</th>\n",
       "      <td>5.238146e+00</td>\n",
       "      <td>9.560804e+00</td>\n",
       "    </tr>\n",
       "    <tr>\n",
       "      <th>...</th>\n",
       "      <td>...</td>\n",
       "      <td>...</td>\n",
       "    </tr>\n",
       "    <tr>\n",
       "      <th>defensive_2</th>\n",
       "      <td>-6.630145e-11</td>\n",
       "      <td>-6.016426e-11</td>\n",
       "    </tr>\n",
       "    <tr>\n",
       "      <th>defensive_3</th>\n",
       "      <td>-7.173421e-12</td>\n",
       "      <td>-6.510694e-12</td>\n",
       "    </tr>\n",
       "    <tr>\n",
       "      <th>defensive_4</th>\n",
       "      <td>9.150676e-13</td>\n",
       "      <td>1.010126e-12</td>\n",
       "    </tr>\n",
       "    <tr>\n",
       "      <th>defensive_5</th>\n",
       "      <td>-3.726480e-13</td>\n",
       "      <td>-3.376830e-13</td>\n",
       "    </tr>\n",
       "    <tr>\n",
       "      <th>defensive_6</th>\n",
       "      <td>2.180195e-13</td>\n",
       "      <td>2.402211e-13</td>\n",
       "    </tr>\n",
       "    <tr>\n",
       "      <th>defensive_7</th>\n",
       "      <td>0.000000e+00</td>\n",
       "      <td>0.000000e+00</td>\n",
       "    </tr>\n",
       "    <tr>\n",
       "      <th>defensive_8</th>\n",
       "      <td>0.000000e+00</td>\n",
       "      <td>0.000000e+00</td>\n",
       "    </tr>\n",
       "    <tr>\n",
       "      <th>defensive_9</th>\n",
       "      <td>0.000000e+00</td>\n",
       "      <td>0.000000e+00</td>\n",
       "    </tr>\n",
       "    <tr>\n",
       "      <th>defensive_ean</th>\n",
       "      <td>0.000000e+00</td>\n",
       "      <td>0.000000e+00</td>\n",
       "    </tr>\n",
       "    <tr>\n",
       "      <th>defensive_es</th>\n",
       "      <td>0.000000e+00</td>\n",
       "      <td>0.000000e+00</td>\n",
       "    </tr>\n",
       "    <tr>\n",
       "      <th>defensive_high</th>\n",
       "      <td>-7.245890e+01</td>\n",
       "      <td>-6.575309e+01</td>\n",
       "    </tr>\n",
       "    <tr>\n",
       "      <th>defensive_low</th>\n",
       "      <td>9.652741e-02</td>\n",
       "      <td>1.527013e-01</td>\n",
       "    </tr>\n",
       "    <tr>\n",
       "      <th>defensive_medium</th>\n",
       "      <td>-1.449084e+02</td>\n",
       "      <td>-1.315051e+02</td>\n",
       "    </tr>\n",
       "    <tr>\n",
       "      <th>defensive_o</th>\n",
       "      <td>0.000000e+00</td>\n",
       "      <td>0.000000e+00</td>\n",
       "    </tr>\n",
       "    <tr>\n",
       "      <th>defensive_ormal</th>\n",
       "      <td>0.000000e+00</td>\n",
       "      <td>0.000000e+00</td>\n",
       "    </tr>\n",
       "    <tr>\n",
       "      <th>defensive_tocky</th>\n",
       "      <td>0.000000e+00</td>\n",
       "      <td>0.000000e+00</td>\n",
       "    </tr>\n",
       "    <tr>\n",
       "      <th>attacking_high</th>\n",
       "      <td>-7.291138e+01</td>\n",
       "      <td>-6.620540e+01</td>\n",
       "    </tr>\n",
       "    <tr>\n",
       "      <th>attacking_le</th>\n",
       "      <td>0.000000e+00</td>\n",
       "      <td>0.000000e+00</td>\n",
       "    </tr>\n",
       "    <tr>\n",
       "      <th>attacking_low</th>\n",
       "      <td>4.717071e-01</td>\n",
       "      <td>5.390038e-01</td>\n",
       "    </tr>\n",
       "    <tr>\n",
       "      <th>attacking_medium</th>\n",
       "      <td>-1.448365e+02</td>\n",
       "      <td>-1.314337e+02</td>\n",
       "    </tr>\n",
       "    <tr>\n",
       "      <th>attacking_norm</th>\n",
       "      <td>0.000000e+00</td>\n",
       "      <td>0.000000e+00</td>\n",
       "    </tr>\n",
       "    <tr>\n",
       "      <th>attacking_stoc</th>\n",
       "      <td>0.000000e+00</td>\n",
       "      <td>0.000000e+00</td>\n",
       "    </tr>\n",
       "    <tr>\n",
       "      <th>attacking_y</th>\n",
       "      <td>0.000000e+00</td>\n",
       "      <td>0.000000e+00</td>\n",
       "    </tr>\n",
       "    <tr>\n",
       "      <th>prefFoot_right</th>\n",
       "      <td>-7.247483e+01</td>\n",
       "      <td>-6.577237e+01</td>\n",
       "    </tr>\n",
       "    <tr>\n",
       "      <th>Year</th>\n",
       "      <td>2.003508e-01</td>\n",
       "      <td>2.203496e-01</td>\n",
       "    </tr>\n",
       "    <tr>\n",
       "      <th>Month</th>\n",
       "      <td>2.383750e-02</td>\n",
       "      <td>3.478721e-02</td>\n",
       "    </tr>\n",
       "    <tr>\n",
       "      <th>New_Attacking_WR</th>\n",
       "      <td>-7.189916e+01</td>\n",
       "      <td>-6.519619e+01</td>\n",
       "    </tr>\n",
       "    <tr>\n",
       "      <th>New_Defensive_WR</th>\n",
       "      <td>-7.220781e+01</td>\n",
       "      <td>-6.550572e+01</td>\n",
       "    </tr>\n",
       "    <tr>\n",
       "      <th>prefferedFoot_left</th>\n",
       "      <td>-1.447668e+02</td>\n",
       "      <td>-1.313623e+02</td>\n",
       "    </tr>\n",
       "    <tr>\n",
       "      <th>prefferedFoot_right</th>\n",
       "      <td>-7.247483e+01</td>\n",
       "      <td>-6.577237e+01</td>\n",
       "    </tr>\n",
       "  </tbody>\n",
       "</table>\n",
       "<p>62 rows × 2 columns</p>\n",
       "</div>"
      ],
      "text/plain": [
       "                                0             1\n",
       "crossing            -1.043277e-02 -5.695864e-03\n",
       "finishing            1.229033e-02  1.735782e-02\n",
       "heading_accuracy     9.256943e-02  9.716130e-02\n",
       "short_passing        6.077299e-02  6.865380e-02\n",
       "dribbling           -2.265584e-02 -1.600438e-02\n",
       "curve                5.670817e-03  1.018468e-02\n",
       "free_kick_accuracy   4.890567e-03  8.938084e-03\n",
       "long_passing         1.483645e-02  2.025870e-02\n",
       "ball_control         2.136978e-01  2.225101e-01\n",
       "acceleration         3.860616e-02  4.639176e-02\n",
       "sprint_speed         5.173382e-02  5.909844e-02\n",
       "agility             -1.705835e-02 -1.130757e-02\n",
       "reactions            2.963992e-01  3.022731e-01\n",
       "balance              2.305681e-03  6.752780e-03\n",
       "shot_power           2.200388e-02  2.697988e-02\n",
       "jumping              1.097016e-02  1.508304e-02\n",
       "stamina             -2.233731e-02 -1.768671e-02\n",
       "strength             5.976700e-02  6.455218e-02\n",
       "long_shots          -2.994202e-02 -2.477942e-02\n",
       "aggression           7.818669e-03  1.172283e-02\n",
       "interceptions        2.354108e-02  2.779203e-02\n",
       "positioning         -2.543412e-02 -2.091264e-02\n",
       "vision               2.292010e-02  2.794483e-02\n",
       "penalties            2.265982e-02  2.692300e-02\n",
       "marking              2.920474e-02  3.556599e-02\n",
       "standing_tackle      2.350316e-03  9.720386e-03\n",
       "sliding_tackle      -3.071630e-02 -2.443104e-02\n",
       "gk_diving            8.475988e+00  1.211309e+01\n",
       "gk_kicking           3.001621e-01  4.610476e-01\n",
       "gk_positioning       5.238146e+00  9.560804e+00\n",
       "...                           ...           ...\n",
       "defensive_2         -6.630145e-11 -6.016426e-11\n",
       "defensive_3         -7.173421e-12 -6.510694e-12\n",
       "defensive_4          9.150676e-13  1.010126e-12\n",
       "defensive_5         -3.726480e-13 -3.376830e-13\n",
       "defensive_6          2.180195e-13  2.402211e-13\n",
       "defensive_7          0.000000e+00  0.000000e+00\n",
       "defensive_8          0.000000e+00  0.000000e+00\n",
       "defensive_9          0.000000e+00  0.000000e+00\n",
       "defensive_ean        0.000000e+00  0.000000e+00\n",
       "defensive_es         0.000000e+00  0.000000e+00\n",
       "defensive_high      -7.245890e+01 -6.575309e+01\n",
       "defensive_low        9.652741e-02  1.527013e-01\n",
       "defensive_medium    -1.449084e+02 -1.315051e+02\n",
       "defensive_o          0.000000e+00  0.000000e+00\n",
       "defensive_ormal      0.000000e+00  0.000000e+00\n",
       "defensive_tocky      0.000000e+00  0.000000e+00\n",
       "attacking_high      -7.291138e+01 -6.620540e+01\n",
       "attacking_le         0.000000e+00  0.000000e+00\n",
       "attacking_low        4.717071e-01  5.390038e-01\n",
       "attacking_medium    -1.448365e+02 -1.314337e+02\n",
       "attacking_norm       0.000000e+00  0.000000e+00\n",
       "attacking_stoc       0.000000e+00  0.000000e+00\n",
       "attacking_y          0.000000e+00  0.000000e+00\n",
       "prefFoot_right      -7.247483e+01 -6.577237e+01\n",
       "Year                 2.003508e-01  2.203496e-01\n",
       "Month                2.383750e-02  3.478721e-02\n",
       "New_Attacking_WR    -7.189916e+01 -6.519619e+01\n",
       "New_Defensive_WR    -7.220781e+01 -6.550572e+01\n",
       "prefferedFoot_left  -1.447668e+02 -1.313623e+02\n",
       "prefferedFoot_right -7.247483e+01 -6.577237e+01\n",
       "\n",
       "[62 rows x 2 columns]"
      ]
     },
     "execution_count": 153,
     "metadata": {},
     "output_type": "execute_result"
    }
   ],
   "source": [
    "model.conf_int()"
   ]
  },
  {
   "cell_type": "code",
   "execution_count": 154,
   "metadata": {},
   "outputs": [
    {
     "data": {
      "text/plain": [
       "<matplotlib.axes._subplots.AxesSubplot at 0x22ea4859d68>"
      ]
     },
     "execution_count": 154,
     "metadata": {},
     "output_type": "execute_result"
    },
    {
     "data": {
      "image/png": "[encoded data removed]",
      "text/plain": [
       "<Figure size 432x288 with 1 Axes>"
      ]
     },
     "metadata": {
      "needs_background": "light"
     },
     "output_type": "display_data"
    }
   ],
   "source": [
    "sns.scatterplot(y_test, (y_test - y_predicted))"
   ]
  }
 ],
 "metadata": {
  "kernelspec": {
   "display_name": "Python 3",
   "language": "python",
   "name": "python3"
  },
  "language_info": {
   "codemirror_mode": {
    "name": "ipython",
    "version": 3
   },
   "file_extension": ".py",
   "mimetype": "text/x-python",
   "name": "python",
   "nbconvert_exporter": "python",
   "pygments_lexer": "ipython3",
   "version": "3.7.3"
  }
 },
 "nbformat": 4,
 "nbformat_minor": 2
}
